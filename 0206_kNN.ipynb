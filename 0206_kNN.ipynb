{
 "cells": [
  {
   "cell_type": "markdown",
   "metadata": {},
   "source": [
    "# $k$ Nearest Neighbors"
   ]
  },
  {
   "cell_type": "markdown",
   "metadata": {},
   "source": [
    "## From Regression to Classification\n",
    "\n",
    "In the previous chapter we discussed linear regression and its application. It is a very valuable tool because\n",
    "\n",
    "* it is easy to fit\n",
    "* has simple interpretation and \n",
    "* tests of statistical significance can be performed without difficulty.\n",
    "\n",
    "But it has its drawbacks too. For example: it makes quite strong assumptions about the functional form of $f(X)$ and the error terms. Another disadvantage is that linear regression is not suited for classification problems where we deal with qualitative responses. \n",
    "\n",
    "Below figure, where we regress the probability of default onto credit card balance, visualizes the issue. \n",
    "\n",
    "* Linear regression produces negative probabilities for some balances\n",
    "* Due to the large number of non-defaults, the linear regression's probability of default barely rises above 25%. This begs the question where we should set the threshold to qualify a default case. It can't be 50%, can it?"
   ]
  },
  {
   "cell_type": "markdown",
   "metadata": {},
   "source": [
    "<img src=\"Graphics/0206_LinRegClassification.png\" alt=\"LinearRegClassification\" style=\"width: 1000px;\"/>"
   ]
  },
  {
   "cell_type": "markdown",
   "metadata": {},
   "source": [
    "This leads us to arguably one of the simplest classification algorithm: $k$ nearest neighbors (KNN)"
   ]
  },
  {
   "cell_type": "markdown",
   "metadata": {},
   "source": [
    "## Illustration of Nearest Neighbors\n",
    "\n",
    "Below figure portrays the algorithm's simplicity. We see a training set of five red and five blue dots, representing some label 1 and 0, respectively. The two axes represent two features, e.g. income and credit card balance. If we now add a new test data point $x_0$ (green dot), KNN will labele this test data according to its three closest neighbors ($k=3$). These are one blue dot and two red dots, resulting in estimated probabilities of 2/3 for the red class and 1/3 for the blue class. Hence KNN will predict that the new data point will belong to the red class. More so, based on the training set the algorithm is able to draw a decision boundary. This is shown with background colors cyan (blue label) and light blue (red label). Given any possible pair of feature values, KNN labels the response along the drawn decision boundary. \n",
    "\n",
    "With $k=1$ the boundary line is very jagged. Increasing the number of $k$ will smoothen the decision boundary. This tells us that small values of $k$ will produce large variance but low bias, meaning that each new added training point might change the decision boundary line significantly but the decision boundary separates the labels correctly. As $k$ increases, variance decreases but bias increases. This is a manifestation of the Bias-Variance Trade-Off as discussed in section and highlights the importance of selecting an adequate value of $k$ - a topic we will pick up in a later chapter."
   ]
  },
  {
   "cell_type": "markdown",
   "metadata": {
    "collapsed": true
   },
   "source": [
    "<img src=\"Graphics/0206_KNN.png\" alt=\"LinearRegClassification\" style=\"width: 1000px;\"/>"
   ]
  },
  {
   "cell_type": "markdown",
   "metadata": {
    "collapsed": true
   },
   "source": [
    "## Mathematical Description of KNN\n",
    "\n",
    "Having introduced KNN illustratively, let us now define KNN in mathematical terms. Based on the $k$ neighbors, KNN estimates the conditional probability for class $j$ as the fraction of points in $\\mathcal{N}(k, x_0)$ whose response values equals $j$:\n",
    "\n",
    "$$\\begin{equation}\n",
    "\\Pr(Y = j | X = x_0) = \\frac{1}{K} \\sum_{i \\in \\mathcal{N}(k, x_0)} \\mathbb{I}(y_i = j).\n",
    "\\end{equation}$$\n",
    "\n",
    "Once the probability for each class $j$ is calculated, the  KNN classifier predicts a class label $\\hat{y}_0$ for the new data point $x_0$ by maximizing the conditional probability (\\cite{batista2009}).\n",
    "\n",
    "$$\\begin{equation}\n",
    "\\hat{y}_0 = \\arg \\max_{j} \\frac{1}{k} \\sum_{i \\in \\mathcal{N}(k,x_0)} \\mathbb{I}(y_i = j)\n",
    "\\end{equation}$$\n",
    "\n",
    "Selecting a new data point $x_0$'s nearest neighbors requires some sort of **distance measure**. Most researchers chose Minkowski's distance, which is often referred to as $L^m$ norm. The distance between points $x_a$ and $x_b$ in $\\mathbb{R}^p$ is then defined as follows:\n",
    "\n",
    "$$\\begin{equation}\n",
    "L^m (x_a, x_b) = \\left(\\sum_{i=1}^p |x_{a, i} - x_{b, i}|^m \\right)^{1/m}\n",
    "\\end{equation}$$\n",
    "\n",
    "Using $m=2$, above equation simplifies to the well known Euclidean distance and m=1 yields the Manhattten distance. Python's `sklearn` package, short for scikit-learn, offers [several other options](http://scikit-learn.org/stable/modules/generated/sklearn.neighbors.DistanceMetric.html) which we will not discuss. \n",
    "\n",
    "Beyond the pure distance measure, it is also possible to weight training data points relative to their distance from a certain point. In above figure distance is weighted uniformly. Alternatively one could weight points by the inverse of their distance (closer neighbors of a query point will have a greater influence than neighbors which are further away) or any other user-defined weighting function. For [further details check `sklearn`'s documentation](http://scikit-learn.org/stable/modules/neighbors.html\\#classification} for details)."
   ]
  },
  {
   "cell_type": "markdown",
   "metadata": {},
   "source": [
    "## Application: Predicting Share Price Movement\n",
    "\n",
    "### Loading Data\n",
    "\n",
    "The application of KNN is shown using simple stock market data. The idea is to predict a stock's movement based on simple features such as:\n",
    "* `Lag1, Lag2`: log returns of the two previous trading days \n",
    "* `SMI`: SMI log return of the previous day\n",
    "\n",
    "The response is a binary variable: if a stock closed above the previous day closing price it equals 1, and 0 if it fell. We start by loading the necessary packages and stock data from Google finance. The next few code cells follow the procedure we used in the previous chapter on multiple linear regression. Thus comments are held short."
   ]
  },
  {
   "cell_type": "code",
   "execution_count": 1,
   "metadata": {
    "collapsed": true
   },
   "outputs": [],
   "source": [
    "%matplotlib inline\n",
    "import numpy as np\n",
    "import pandas as pd\n",
    "import matplotlib.pyplot as plt\n",
    "plt.style.use('seaborn-whitegrid')\n",
    "import pandas_datareader.data as web  # to get data from google finance"
   ]
  },
  {
   "cell_type": "code",
   "execution_count": 2,
   "metadata": {
    "collapsed": false
   },
   "outputs": [],
   "source": [
    "# Load csv file from url\n",
    "url = 'https://www.six-swiss-exchange.com/shares/companies/download/issuers_all_en.csv'\n",
    "swx = pd.read_csv(url, sep=';', encoding='latin-1')\n",
    "\n",
    "# Remove leading spaces\n",
    "swx.rename(columns=lambda x: x.strip(),inplace=True)\n",
    "\n",
    "# Select tickers of shares which are in the SMI index\n",
    "cond = 'SMI,'\n",
    "tickers = swx[swx['Index-member'].str.contains(cond)]\n",
    "tickers = tickers['Symbol']\n",
    "\n",
    "# Remove trailing spaces from tickers\n",
    "tickers = tickers.str.strip()\n",
    "\n",
    "# Create Google finance ticker symbols\n",
    "tickers = 'VTX:'+tickers\n",
    "\n",
    "# Add smi index to list of tickers\n",
    "tickers = np.append(tickers, 'INDEXSWX:SMI')"
   ]
  },
  {
   "cell_type": "code",
   "execution_count": 4,
   "metadata": {
    "collapsed": false,
    "scrolled": true
   },
   "outputs": [],
   "source": [
    "# Define observation period\n",
    "startdate = '2012-06-01'\n",
    "enddate   = '2017-06-30'\n",
    "\n",
    "# Download closing prices of defined tickers\n",
    "shsPr = pd.DataFrame()\n",
    "for tick in tickers:\n",
    "    shsPr[tick] = web.DataReader(tick, data_source='google', \n",
    "                                 start=startdate, end=enddate)['Close']"
   ]
  },
  {
   "cell_type": "markdown",
   "metadata": {},
   "source": [
    "Due to the changes from UBS AG (UBSN) to UBS Group (UBSG) its stock data on google finance is unfortunately only available back to end of 2014. To fill the missing values, we overwrite the column 'VTX:UBSG' by data from a csv."
   ]
  },
  {
   "cell_type": "code",
   "execution_count": 5,
   "metadata": {
    "collapsed": false,
    "scrolled": true
   },
   "outputs": [
    {
     "data": {
      "text/html": [
       "<div>\n",
       "<style>\n",
       "    .dataframe thead tr:only-child th {\n",
       "        text-align: right;\n",
       "    }\n",
       "\n",
       "    .dataframe thead th {\n",
       "        text-align: left;\n",
       "    }\n",
       "\n",
       "    .dataframe tbody tr th {\n",
       "        vertical-align: top;\n",
       "    }\n",
       "</style>\n",
       "<table border=\"1\" class=\"dataframe\">\n",
       "  <thead>\n",
       "    <tr style=\"text-align: right;\">\n",
       "      <th></th>\n",
       "      <th>VTX:ABBN</th>\n",
       "      <th>VTX:ADEN</th>\n",
       "      <th>VTX:CFR</th>\n",
       "      <th>VTX:CSGN</th>\n",
       "      <th>VTX:GEBN</th>\n",
       "      <th>VTX:GIVN</th>\n",
       "      <th>VTX:BAER</th>\n",
       "      <th>VTX:LHN</th>\n",
       "      <th>VTX:LONN</th>\n",
       "      <th>VTX:NESN</th>\n",
       "      <th>...</th>\n",
       "      <th>VTX:ROG</th>\n",
       "      <th>VTX:SGSN</th>\n",
       "      <th>VTX:SIK</th>\n",
       "      <th>VTX:SLHN</th>\n",
       "      <th>VTX:SREN</th>\n",
       "      <th>VTX:SCMN</th>\n",
       "      <th>VTX:UHR</th>\n",
       "      <th>VTX:UBSG</th>\n",
       "      <th>VTX:ZURN</th>\n",
       "      <th>INDEXSWX:SMI</th>\n",
       "    </tr>\n",
       "    <tr>\n",
       "      <th>Date</th>\n",
       "      <th></th>\n",
       "      <th></th>\n",
       "      <th></th>\n",
       "      <th></th>\n",
       "      <th></th>\n",
       "      <th></th>\n",
       "      <th></th>\n",
       "      <th></th>\n",
       "      <th></th>\n",
       "      <th></th>\n",
       "      <th></th>\n",
       "      <th></th>\n",
       "      <th></th>\n",
       "      <th></th>\n",
       "      <th></th>\n",
       "      <th></th>\n",
       "      <th></th>\n",
       "      <th></th>\n",
       "      <th></th>\n",
       "      <th></th>\n",
       "      <th></th>\n",
       "    </tr>\n",
       "  </thead>\n",
       "  <tbody>\n",
       "    <tr>\n",
       "      <th>2017-06-30</th>\n",
       "      <td>23.68</td>\n",
       "      <td>72.90</td>\n",
       "      <td>79.0</td>\n",
       "      <td>13.86</td>\n",
       "      <td>447.2</td>\n",
       "      <td>1918.0</td>\n",
       "      <td>50.45</td>\n",
       "      <td>54.90</td>\n",
       "      <td>207.3</td>\n",
       "      <td>83.45</td>\n",
       "      <td>...</td>\n",
       "      <td>244.2</td>\n",
       "      <td>2322.0</td>\n",
       "      <td>6160.0</td>\n",
       "      <td>323.6</td>\n",
       "      <td>87.65</td>\n",
       "      <td>462.7</td>\n",
       "      <td>354.1</td>\n",
       "      <td>16.24</td>\n",
       "      <td>279.1</td>\n",
       "      <td>8906.89</td>\n",
       "    </tr>\n",
       "    <tr>\n",
       "      <th>2017-06-29</th>\n",
       "      <td>23.63</td>\n",
       "      <td>72.85</td>\n",
       "      <td>78.6</td>\n",
       "      <td>14.10</td>\n",
       "      <td>446.0</td>\n",
       "      <td>1913.0</td>\n",
       "      <td>51.30</td>\n",
       "      <td>55.00</td>\n",
       "      <td>204.7</td>\n",
       "      <td>83.65</td>\n",
       "      <td>...</td>\n",
       "      <td>246.9</td>\n",
       "      <td>2310.0</td>\n",
       "      <td>6145.0</td>\n",
       "      <td>323.3</td>\n",
       "      <td>87.80</td>\n",
       "      <td>463.9</td>\n",
       "      <td>353.4</td>\n",
       "      <td>16.36</td>\n",
       "      <td>276.3</td>\n",
       "      <td>8944.04</td>\n",
       "    </tr>\n",
       "    <tr>\n",
       "      <th>2017-06-28</th>\n",
       "      <td>24.07</td>\n",
       "      <td>73.55</td>\n",
       "      <td>80.0</td>\n",
       "      <td>13.82</td>\n",
       "      <td>452.5</td>\n",
       "      <td>1927.0</td>\n",
       "      <td>51.65</td>\n",
       "      <td>56.35</td>\n",
       "      <td>207.5</td>\n",
       "      <td>85.40</td>\n",
       "      <td>...</td>\n",
       "      <td>251.2</td>\n",
       "      <td>2342.0</td>\n",
       "      <td>6195.0</td>\n",
       "      <td>325.3</td>\n",
       "      <td>88.55</td>\n",
       "      <td>464.9</td>\n",
       "      <td>360.0</td>\n",
       "      <td>16.29</td>\n",
       "      <td>278.0</td>\n",
       "      <td>9076.73</td>\n",
       "    </tr>\n",
       "  </tbody>\n",
       "</table>\n",
       "<p>3 rows × 21 columns</p>\n",
       "</div>"
      ],
      "text/plain": [
       "            VTX:ABBN  VTX:ADEN  VTX:CFR  VTX:CSGN  VTX:GEBN  VTX:GIVN  \\\n",
       "Date                                                                    \n",
       "2017-06-30     23.68     72.90     79.0     13.86     447.2    1918.0   \n",
       "2017-06-29     23.63     72.85     78.6     14.10     446.0    1913.0   \n",
       "2017-06-28     24.07     73.55     80.0     13.82     452.5    1927.0   \n",
       "\n",
       "            VTX:BAER  VTX:LHN  VTX:LONN  VTX:NESN      ...       VTX:ROG  \\\n",
       "Date                                                   ...                 \n",
       "2017-06-30     50.45    54.90     207.3     83.45      ...         244.2   \n",
       "2017-06-29     51.30    55.00     204.7     83.65      ...         246.9   \n",
       "2017-06-28     51.65    56.35     207.5     85.40      ...         251.2   \n",
       "\n",
       "            VTX:SGSN  VTX:SIK  VTX:SLHN  VTX:SREN  VTX:SCMN  VTX:UHR  \\\n",
       "Date                                                                   \n",
       "2017-06-30    2322.0   6160.0     323.6     87.65     462.7    354.1   \n",
       "2017-06-29    2310.0   6145.0     323.3     87.80     463.9    353.4   \n",
       "2017-06-28    2342.0   6195.0     325.3     88.55     464.9    360.0   \n",
       "\n",
       "            VTX:UBSG  VTX:ZURN  INDEXSWX:SMI  \n",
       "Date                                          \n",
       "2017-06-30     16.24     279.1       8906.89  \n",
       "2017-06-29     16.36     276.3       8944.04  \n",
       "2017-06-28     16.29     278.0       9076.73  \n",
       "\n",
       "[3 rows x 21 columns]"
      ]
     },
     "execution_count": 5,
     "metadata": {},
     "output_type": "execute_result"
    }
   ],
   "source": [
    "# Load UBS share data\n",
    "ubs = pd.read_csv('Data/UBSN_HistShsPriceClosing.csv', dayfirst=True,\n",
    "                  parse_dates=['Date'], index_col='Date')\n",
    "\n",
    "# Rename column name\n",
    "ubs.columns = ['VTX:UBSG']\n",
    "\n",
    "# paste/overwrite NaN values in 'shsPr' dataframe\n",
    "shsPr['VTX:UBSG'] = ubs\n",
    "\n",
    "# Sort date desc.\n",
    "shsPr = shsPr.sort_index(ascending=False)\n",
    "\n",
    "# Show first three rows\n",
    "shsPr.head(3)"
   ]
  },
  {
   "cell_type": "markdown",
   "metadata": {},
   "source": [
    "Having the data in a proper dataframe, we're now in a position to create the features and response values."
   ]
  },
  {
   "cell_type": "code",
   "execution_count": 6,
   "metadata": {
    "collapsed": false,
    "scrolled": false
   },
   "outputs": [],
   "source": [
    "# Calculate log-returns and label responses: \n",
    "# 'direction' equals 1 if stock closed above \n",
    "# previous day and 0 if it fell.\n",
    "today = np.log(shsPr / shsPr.shift(-1))\n",
    "direction = np.where(today >= 0, 1, 0)\n",
    "\n",
    "# Convert 'direction' to dataframe\n",
    "direction = pd.DataFrame(direction, index=today.index, columns=today.columns)\n",
    "\n",
    "# Lag1, 2: t-1 and t-2 returns; excl. smi (in last column)\n",
    "Lag1 = np.log(shsPr.iloc[:, :-1].shift(-1) / shsPr.iloc[:, :-1].shift(-2))\n",
    "Lag2 = np.log(shsPr.iloc[:, :-1].shift(-2) / shsPr.iloc[:, :-1].shift(-3))\n",
    "\n",
    "# Previous day return for SMI index\n",
    "smi  = np.log(shsPr.iloc[:, -1].shift(-1) / shsPr.iloc[:, -1].shift(-2))"
   ]
  },
  {
   "cell_type": "markdown",
   "metadata": {},
   "source": [
    "### KNN Algorithm Applied\n",
    "\n",
    "Now comes the difficult part. What we want to achieve is to run the KNN algorithm for every stock and for different hyperparameter $k$ and see how it performs. For this we do the following steps:\n",
    "\n",
    "1. Create a feature matrix `X` containing `Lag1`, `Lag2` and `SMI` data for share i\n",
    "2. Create a response vector `y` with binary direction values\n",
    "3. Split data to training (before 2016-06-30) and test set (after 2016-06-30)\n",
    "4. Run KNN for different values of $k$ (loop)\n",
    "5. Write test score for given $k$ to matrix `scr`\n",
    "6. Once we've run through all $k$'s we procede with step 1. with share i+1\n",
    "\n",
    "This means we need two loops. The first corresponds to the share (e.g. ABB, Adecco, etc.), the second runs the KNN algorithm for different values of $k$. \n",
    "\n",
    "The reason for this approach is that we are interested in finding any pattern/structure that would provide a successful trading strategy. There's obviously no free lunch. Predicting share price direction is by no means an easy task and we must be well aware that we're in for a difficult job here. If it were simple, neither one of us would be sitting here but run his own fund. But nonetheless, let's see how KNN performs and how homogeneous (or heterogeneous) the results are.\n",
    "\n",
    "Our first step is as usual to prepare the ground by loading the necessary package and defining some auxilary variables. The KNN function we will be using is available through the `sklearn` (short for scikit-learn) package. We only load the `neighbor` sublibrary which that contains the our KNN function called `KNeigborsClassifier()`. "
   ]
  },
  {
   "cell_type": "code",
   "execution_count": 7,
   "metadata": {
    "collapsed": true
   },
   "outputs": [],
   "source": [
    "# Import relevant functions\n",
    "from sklearn import neighbors\n",
    "\n",
    "# k = {1, 3, ..., 200}\n",
    "k = np.arange(1, 200, 2)\n",
    "\n",
    "# Array to store results in. Dimension is [k x m] \n",
    "# with m=20 for the 20 companies (excl. SMI)\n",
    "scr = np.empty(shape=(len(k), len(shsPr.columns)-1))"
   ]
  },
  {
   "cell_type": "code",
   "execution_count": 8,
   "metadata": {
    "collapsed": false
   },
   "outputs": [],
   "source": [
    "for i in range(len(shsPr.columns)-1):\n",
    "    \n",
    "    # 1) Create matrix with feature values of stock i\n",
    "    X = pd.concat([Lag1.iloc[:, i], Lag2.iloc[:, i], smi], axis=1)\n",
    "    X = X[:-3]  # Drop last three rows with NaN (due to lag)\n",
    "    \n",
    "    # ROGN and NOVN somehow have a missing value for 2016-02-25\n",
    "    # Thus we fill returns related to this date with value 0\n",
    "    X = X.fillna(value=0)\n",
    "    \n",
    "    # 2) Remove last three rows of response dataframe\n",
    "    #    to have equal no. of rows for features and response\n",
    "    y = direction.iloc[:, i]\n",
    "    y = y[:-3]\n",
    "    \n",
    "    # 3) Split data into training set...\n",
    "    X_train = X['2016-06-30':]\n",
    "    y_train = y['2016-06-30':]\n",
    "    # ...and test set.\n",
    "    X_test = X[:'2016-07-01']\n",
    "    y_test = y[:'2016-07-01']\n",
    "    \n",
    "    # Covert responses to 1xN array\n",
    "    y_train = y_train.values.ravel()\n",
    "    y_test  = y_test.values.ravel()\n",
    "    \n",
    "    for j in range(len(k)):\n",
    "        \n",
    "        # 4) Run KNN\n",
    "        # Instantiate KNN class\n",
    "        knn = neighbors.KNeighborsClassifier(n_neighbors=k[j])\n",
    "        # Fit KNN classifier using training set\n",
    "        knn = knn.fit(X_train, y_train)\n",
    "        \n",
    "        # 5) Extract test score for k[j]\n",
    "        scr[j, i] = knn.score(X_test, y_test)"
   ]
  },
  {
   "cell_type": "code",
   "execution_count": 9,
   "metadata": {
    "collapsed": true
   },
   "outputs": [],
   "source": [
    "# Convert data to pandas dataframe\n",
    "scr = pd.DataFrame(scr, index=k, columns=tickers[:-1])"
   ]
  },
  {
   "cell_type": "markdown",
   "metadata": {},
   "source": [
    "### Results & Analysis\n",
    "\n",
    "Now let's see the results in an overview. "
   ]
  },
  {
   "cell_type": "code",
   "execution_count": 10,
   "metadata": {
    "collapsed": false,
    "scrolled": true
   },
   "outputs": [
    {
     "data": {
      "text/html": [
       "<div>\n",
       "<style>\n",
       "    .dataframe thead tr:only-child th {\n",
       "        text-align: right;\n",
       "    }\n",
       "\n",
       "    .dataframe thead th {\n",
       "        text-align: left;\n",
       "    }\n",
       "\n",
       "    .dataframe tbody tr th {\n",
       "        vertical-align: top;\n",
       "    }\n",
       "</style>\n",
       "<table border=\"1\" class=\"dataframe\">\n",
       "  <thead>\n",
       "    <tr style=\"text-align: right;\">\n",
       "      <th></th>\n",
       "      <th>VTX:ABBN</th>\n",
       "      <th>VTX:ADEN</th>\n",
       "      <th>VTX:CFR</th>\n",
       "      <th>VTX:CSGN</th>\n",
       "      <th>VTX:GEBN</th>\n",
       "      <th>VTX:GIVN</th>\n",
       "      <th>VTX:BAER</th>\n",
       "      <th>VTX:LHN</th>\n",
       "      <th>VTX:LONN</th>\n",
       "      <th>VTX:NESN</th>\n",
       "      <th>VTX:NOVN</th>\n",
       "      <th>VTX:ROG</th>\n",
       "      <th>VTX:SGSN</th>\n",
       "      <th>VTX:SIK</th>\n",
       "      <th>VTX:SLHN</th>\n",
       "      <th>VTX:SREN</th>\n",
       "      <th>VTX:SCMN</th>\n",
       "      <th>VTX:UHR</th>\n",
       "      <th>VTX:UBSG</th>\n",
       "      <th>VTX:ZURN</th>\n",
       "    </tr>\n",
       "  </thead>\n",
       "  <tbody>\n",
       "    <tr>\n",
       "      <th>count</th>\n",
       "      <td>100.000000</td>\n",
       "      <td>100.000000</td>\n",
       "      <td>100.000000</td>\n",
       "      <td>100.000000</td>\n",
       "      <td>100.000000</td>\n",
       "      <td>100.000000</td>\n",
       "      <td>100.000000</td>\n",
       "      <td>100.000000</td>\n",
       "      <td>100.000000</td>\n",
       "      <td>100.000000</td>\n",
       "      <td>100.000000</td>\n",
       "      <td>100.000000</td>\n",
       "      <td>100.000000</td>\n",
       "      <td>100.000000</td>\n",
       "      <td>100.000000</td>\n",
       "      <td>100.000000</td>\n",
       "      <td>100.000000</td>\n",
       "      <td>100.000000</td>\n",
       "      <td>100.000000</td>\n",
       "      <td>100.000000</td>\n",
       "    </tr>\n",
       "    <tr>\n",
       "      <th>mean</th>\n",
       "      <td>0.555810</td>\n",
       "      <td>0.498458</td>\n",
       "      <td>0.504032</td>\n",
       "      <td>0.517352</td>\n",
       "      <td>0.498735</td>\n",
       "      <td>0.529644</td>\n",
       "      <td>0.518656</td>\n",
       "      <td>0.490988</td>\n",
       "      <td>0.539051</td>\n",
       "      <td>0.513518</td>\n",
       "      <td>0.543241</td>\n",
       "      <td>0.507510</td>\n",
       "      <td>0.513597</td>\n",
       "      <td>0.523913</td>\n",
       "      <td>0.496324</td>\n",
       "      <td>0.519091</td>\n",
       "      <td>0.482569</td>\n",
       "      <td>0.506324</td>\n",
       "      <td>0.492055</td>\n",
       "      <td>0.547431</td>\n",
       "    </tr>\n",
       "    <tr>\n",
       "      <th>std</th>\n",
       "      <td>0.030954</td>\n",
       "      <td>0.010064</td>\n",
       "      <td>0.022692</td>\n",
       "      <td>0.016759</td>\n",
       "      <td>0.020560</td>\n",
       "      <td>0.013853</td>\n",
       "      <td>0.021278</td>\n",
       "      <td>0.020592</td>\n",
       "      <td>0.022449</td>\n",
       "      <td>0.018647</td>\n",
       "      <td>0.016266</td>\n",
       "      <td>0.016994</td>\n",
       "      <td>0.021858</td>\n",
       "      <td>0.029393</td>\n",
       "      <td>0.018276</td>\n",
       "      <td>0.018394</td>\n",
       "      <td>0.019356</td>\n",
       "      <td>0.028605</td>\n",
       "      <td>0.016575</td>\n",
       "      <td>0.019416</td>\n",
       "    </tr>\n",
       "    <tr>\n",
       "      <th>min</th>\n",
       "      <td>0.466403</td>\n",
       "      <td>0.470356</td>\n",
       "      <td>0.446640</td>\n",
       "      <td>0.458498</td>\n",
       "      <td>0.450593</td>\n",
       "      <td>0.498024</td>\n",
       "      <td>0.474308</td>\n",
       "      <td>0.450593</td>\n",
       "      <td>0.458498</td>\n",
       "      <td>0.415020</td>\n",
       "      <td>0.513834</td>\n",
       "      <td>0.462451</td>\n",
       "      <td>0.458498</td>\n",
       "      <td>0.450593</td>\n",
       "      <td>0.458498</td>\n",
       "      <td>0.438735</td>\n",
       "      <td>0.442688</td>\n",
       "      <td>0.458498</td>\n",
       "      <td>0.446640</td>\n",
       "      <td>0.470356</td>\n",
       "    </tr>\n",
       "    <tr>\n",
       "      <th>25%</th>\n",
       "      <td>0.537549</td>\n",
       "      <td>0.494071</td>\n",
       "      <td>0.490119</td>\n",
       "      <td>0.509881</td>\n",
       "      <td>0.486166</td>\n",
       "      <td>0.525692</td>\n",
       "      <td>0.505929</td>\n",
       "      <td>0.477273</td>\n",
       "      <td>0.533597</td>\n",
       "      <td>0.501976</td>\n",
       "      <td>0.529644</td>\n",
       "      <td>0.494071</td>\n",
       "      <td>0.497036</td>\n",
       "      <td>0.501976</td>\n",
       "      <td>0.482213</td>\n",
       "      <td>0.516798</td>\n",
       "      <td>0.470356</td>\n",
       "      <td>0.486166</td>\n",
       "      <td>0.486166</td>\n",
       "      <td>0.537549</td>\n",
       "    </tr>\n",
       "    <tr>\n",
       "      <th>50%</th>\n",
       "      <td>0.563241</td>\n",
       "      <td>0.500000</td>\n",
       "      <td>0.501976</td>\n",
       "      <td>0.517787</td>\n",
       "      <td>0.498024</td>\n",
       "      <td>0.529644</td>\n",
       "      <td>0.517787</td>\n",
       "      <td>0.486166</td>\n",
       "      <td>0.545455</td>\n",
       "      <td>0.517787</td>\n",
       "      <td>0.541502</td>\n",
       "      <td>0.505929</td>\n",
       "      <td>0.513834</td>\n",
       "      <td>0.525692</td>\n",
       "      <td>0.498024</td>\n",
       "      <td>0.521739</td>\n",
       "      <td>0.478261</td>\n",
       "      <td>0.498024</td>\n",
       "      <td>0.498024</td>\n",
       "      <td>0.549407</td>\n",
       "    </tr>\n",
       "    <tr>\n",
       "      <th>75%</th>\n",
       "      <td>0.581028</td>\n",
       "      <td>0.505929</td>\n",
       "      <td>0.518775</td>\n",
       "      <td>0.525692</td>\n",
       "      <td>0.509881</td>\n",
       "      <td>0.537549</td>\n",
       "      <td>0.537549</td>\n",
       "      <td>0.501976</td>\n",
       "      <td>0.553360</td>\n",
       "      <td>0.525692</td>\n",
       "      <td>0.557312</td>\n",
       "      <td>0.517787</td>\n",
       "      <td>0.529644</td>\n",
       "      <td>0.541502</td>\n",
       "      <td>0.509881</td>\n",
       "      <td>0.529644</td>\n",
       "      <td>0.494071</td>\n",
       "      <td>0.522727</td>\n",
       "      <td>0.501976</td>\n",
       "      <td>0.561265</td>\n",
       "    </tr>\n",
       "    <tr>\n",
       "      <th>max</th>\n",
       "      <td>0.608696</td>\n",
       "      <td>0.537549</td>\n",
       "      <td>0.545455</td>\n",
       "      <td>0.565217</td>\n",
       "      <td>0.573123</td>\n",
       "      <td>0.569170</td>\n",
       "      <td>0.557312</td>\n",
       "      <td>0.545455</td>\n",
       "      <td>0.569170</td>\n",
       "      <td>0.545455</td>\n",
       "      <td>0.581028</td>\n",
       "      <td>0.565217</td>\n",
       "      <td>0.557312</td>\n",
       "      <td>0.581028</td>\n",
       "      <td>0.537549</td>\n",
       "      <td>0.549407</td>\n",
       "      <td>0.529644</td>\n",
       "      <td>0.577075</td>\n",
       "      <td>0.525692</td>\n",
       "      <td>0.584980</td>\n",
       "    </tr>\n",
       "  </tbody>\n",
       "</table>\n",
       "</div>"
      ],
      "text/plain": [
       "         VTX:ABBN    VTX:ADEN     VTX:CFR    VTX:CSGN    VTX:GEBN    VTX:GIVN  \\\n",
       "count  100.000000  100.000000  100.000000  100.000000  100.000000  100.000000   \n",
       "mean     0.555810    0.498458    0.504032    0.517352    0.498735    0.529644   \n",
       "std      0.030954    0.010064    0.022692    0.016759    0.020560    0.013853   \n",
       "min      0.466403    0.470356    0.446640    0.458498    0.450593    0.498024   \n",
       "25%      0.537549    0.494071    0.490119    0.509881    0.486166    0.525692   \n",
       "50%      0.563241    0.500000    0.501976    0.517787    0.498024    0.529644   \n",
       "75%      0.581028    0.505929    0.518775    0.525692    0.509881    0.537549   \n",
       "max      0.608696    0.537549    0.545455    0.565217    0.573123    0.569170   \n",
       "\n",
       "         VTX:BAER     VTX:LHN    VTX:LONN    VTX:NESN    VTX:NOVN     VTX:ROG  \\\n",
       "count  100.000000  100.000000  100.000000  100.000000  100.000000  100.000000   \n",
       "mean     0.518656    0.490988    0.539051    0.513518    0.543241    0.507510   \n",
       "std      0.021278    0.020592    0.022449    0.018647    0.016266    0.016994   \n",
       "min      0.474308    0.450593    0.458498    0.415020    0.513834    0.462451   \n",
       "25%      0.505929    0.477273    0.533597    0.501976    0.529644    0.494071   \n",
       "50%      0.517787    0.486166    0.545455    0.517787    0.541502    0.505929   \n",
       "75%      0.537549    0.501976    0.553360    0.525692    0.557312    0.517787   \n",
       "max      0.557312    0.545455    0.569170    0.545455    0.581028    0.565217   \n",
       "\n",
       "         VTX:SGSN     VTX:SIK    VTX:SLHN    VTX:SREN    VTX:SCMN     VTX:UHR  \\\n",
       "count  100.000000  100.000000  100.000000  100.000000  100.000000  100.000000   \n",
       "mean     0.513597    0.523913    0.496324    0.519091    0.482569    0.506324   \n",
       "std      0.021858    0.029393    0.018276    0.018394    0.019356    0.028605   \n",
       "min      0.458498    0.450593    0.458498    0.438735    0.442688    0.458498   \n",
       "25%      0.497036    0.501976    0.482213    0.516798    0.470356    0.486166   \n",
       "50%      0.513834    0.525692    0.498024    0.521739    0.478261    0.498024   \n",
       "75%      0.529644    0.541502    0.509881    0.529644    0.494071    0.522727   \n",
       "max      0.557312    0.581028    0.537549    0.549407    0.529644    0.577075   \n",
       "\n",
       "         VTX:UBSG    VTX:ZURN  \n",
       "count  100.000000  100.000000  \n",
       "mean     0.492055    0.547431  \n",
       "std      0.016575    0.019416  \n",
       "min      0.446640    0.470356  \n",
       "25%      0.486166    0.537549  \n",
       "50%      0.498024    0.549407  \n",
       "75%      0.501976    0.561265  \n",
       "max      0.525692    0.584980  "
      ]
     },
     "execution_count": 10,
     "metadata": {},
     "output_type": "execute_result"
    }
   ],
   "source": [
    "scr.describe()"
   ]
  },
  {
   "cell_type": "markdown",
   "metadata": {},
   "source": [
    "Following finance theory, returns should be distributed symmetrically. Thus the simplest guess would be to expect a share price to increase on 50% of the (test) days and to decrease on the remaining 50%. Similar to guessing a coin flip, this obviously would - in the long run - make for a score of 50%. \n",
    "\n",
    "Looking at the above summary, we surprisingly see some very interesting results. For 10 out of 20 stocks KNN produces test scores of > 50% for even the 0.25th percentile. Let's plot the ones with the highest test-scores (ABBN, NOVN, SIK and ZURN) to see at what value of $k$ the best test-score is achieved."
   ]
  },
  {
   "cell_type": "code",
   "execution_count": 11,
   "metadata": {
    "collapsed": false,
    "scrolled": false
   },
   "outputs": [
    {
     "data": {
      "image/png": "[encoded data removed]",
      "text/plain": [
       "<matplotlib.figure.Figure at 0x1cb73a8c8d0>"
      ]
     },
     "metadata": {},
     "output_type": "display_data"
    }
   ],
   "source": [
    "nms = ['VTX:ABBN', 'VTX:NOVN', 'VTX:SIK', 'VTX:ZURN']\n",
    "\n",
    "plt.figure(figsize=(14,8))\n",
    "for col in nms:\n",
    "    scr[col].plot(legend=True)\n",
    "plt.axhline(0.50, c='k', ls='--');"
   ]
  },
  {
   "cell_type": "markdown",
   "metadata": {},
   "source": [
    "For ABB and Novartis the max. score is around 100 while for Sika and Zurich it is between 177 - 185. Furthermore, it seems interesting that for ABB, Novartis and Zurich the test score was barely below 50%. If this is indeed a pattern we would have found a trading strategy, wouldn't we? "
   ]
  },
  {
   "cell_type": "markdown",
   "metadata": {},
   "source": [
    "To further assess our results we will look into KNN's prediction of ABB stock movments. For this we rerun our KNN classifier algorithm for ABB as before."
   ]
  },
  {
   "cell_type": "code",
   "execution_count": 30,
   "metadata": {
    "collapsed": true
   },
   "outputs": [],
   "source": [
    "# 1) Create matrix with feature values of stock i\n",
    "X = pd.concat([Lag1['VTX:ABBN'], Lag2['VTX:ABBN'], smi], axis=1)\n",
    "X = X[:-3]  # Drop last three rows with NaN (due to lag)"
   ]
  },
  {
   "cell_type": "code",
   "execution_count": 34,
   "metadata": {
    "collapsed": true
   },
   "outputs": [],
   "source": [
    "# 2) Remove last three rows of response dataframe\n",
    "#    to have equal no. of rows for features and response\n",
    "y = direction['VTX:ABBN']\n",
    "y = y[:-3]"
   ]
  },
  {
   "cell_type": "code",
   "execution_count": 76,
   "metadata": {
    "collapsed": true
   },
   "outputs": [],
   "source": [
    "# 3) Split data into training set...\n",
    "X_train = X['2016-06-30':]\n",
    "y_train = y['2016-06-30':]\n",
    "# ...and test set.\n",
    "X_test = X[:'2016-07-01']\n",
    "y_test = y[:'2016-07-01']\n",
    "\n",
    "# Covert responses to 1xN array\n",
    "y_train = y_train.values.ravel()\n",
    "y_test  = y_test.values.ravel()"
   ]
  },
  {
   "cell_type": "markdown",
   "metadata": {},
   "source": [
    "For ABB the maximum score is reached where $k=99$. You can check this with the `scr['VTX:ABBN'].idxmax()` command, which provides the index of the maximum value of the selected column. In our case, the index is equivalent to the value of $k$. Thus we run KNN with $k=99$."
   ]
  },
  {
   "cell_type": "code",
   "execution_count": 77,
   "metadata": {
    "collapsed": false,
    "scrolled": false
   },
   "outputs": [
    {
     "data": {
      "text/plain": [
       "0.60869565217391308"
      ]
     },
     "execution_count": 77,
     "metadata": {},
     "output_type": "execute_result"
    }
   ],
   "source": [
    "# 4) Run KNN\n",
    "# Instantiate KNN class for ABB with k=99\n",
    "knn = neighbors.KNeighborsClassifier(n_neighbors=99)\n",
    "# Fit KNN classifier using training set\n",
    "knn = knn.fit(X_train, y_train)\n",
    "\n",
    "# 5) Extract test score for ABB\n",
    "scr_ABB = knn.score(X_test, y_test)\n",
    "scr_ABB"
   ]
  },
  {
   "cell_type": "markdown",
   "metadata": {},
   "source": [
    "The score of 60.87% is the very same as above. Nothing new so far. (Recall that the score is the total of correctly predicted outcomes.)\n",
    "\n",
    "However, the alert reader should by now raise some questions regarding our assumption that 50% of the returns should have been positive. In the long run, this might be true. But our training sample contained only 1'013 records. Of these 531 were positive. "
   ]
  },
  {
   "cell_type": "code",
   "execution_count": 85,
   "metadata": {
    "collapsed": false
   },
   "outputs": [
    {
     "data": {
      "text/plain": [
       "0.52418558736426457"
      ]
     },
     "execution_count": 85,
     "metadata": {},
     "output_type": "execute_result"
    }
   ],
   "source": [
    "# Percentage of 'up' days in training set\n",
    "y_train.sum() / y_train.size"
   ]
  },
  {
   "cell_type": "markdown",
   "metadata": {},
   "source": [
    "Therefore, if we would guess 'up' for every day of our test set and **given the distribution of classes in the test set is exactly as in our training set**, then we would predict the correct movement in 52.42% of the cases. So in that light, the predictive power of our KNN algorithm has to put in perspective to the 52.42%.\n",
    "\n",
    "In summary, our KNN algorithm has a score of 60.87%. Our best guess (based on the training set) would yield a score of 52.42%. Thus our "
   ]
  },
  {
   "cell_type": "markdown",
   "metadata": {},
   "source": [
    "### Confusion Matrix\n",
    "\n",
    "There are more tools to assess the accuracy of an algorithm. We postpone the discussion of these tools to a later chapter and at this stage restrict ourselves to the discussion of a tool called \"confusion matrix\". \n",
    "\n",
    "A confusion matrix is a convenient way of displaying how our classifier performed. In binary classification (with response $y \\in \\{0, 1\\}$) there are four prediction categories possible:\n",
    "\n",
    "* **True positive**: True response value is 1, predicted value is 1 (\"hit\")\n",
    "* **True negative**: True response value is 0, predicted value is 0 (\"correct rejection\"\n",
    "* **False positive**: True response value is 0, predicted value is 1 (\"False alarm\", Type 1 error)\n",
    "* **False negative**: True response value is 1, predicted value is 0 (\"Miss\", Type 2 error)\n",
    "\n",
    "These information help us to understand how our (KNN) algorithm performed. There are different two ways of arranging confusion matrix. James et al. (2013) follow the convention that column labels indicate the true class label and rows the predicted response class. Others have it transposed, such that column labels indicate predicted classes and row labels show true values. We will use the latter approach."
   ]
  },
  {
   "cell_type": "markdown",
   "metadata": {},
   "source": [
    "To run this in Python, we first predict the response value for each data entry in our test matrix `X_test`. Then we arrange the data in a suitable manner."
   ]
  },
  {
   "cell_type": "code",
   "execution_count": 78,
   "metadata": {
    "collapsed": true
   },
   "outputs": [],
   "source": [
    "# Predict 'up' (=1) or 'down' (=0) for test set\n",
    "pred = knn.predict(X_test)"
   ]
  },
  {
   "cell_type": "code",
   "execution_count": 106,
   "metadata": {
    "collapsed": false,
    "scrolled": true
   },
   "outputs": [
    {
     "data": {
      "text/html": [
       "<div>\n",
       "<style>\n",
       "    .dataframe thead tr:only-child th {\n",
       "        text-align: right;\n",
       "    }\n",
       "\n",
       "    .dataframe thead th {\n",
       "        text-align: left;\n",
       "    }\n",
       "\n",
       "    .dataframe tbody tr th {\n",
       "        vertical-align: top;\n",
       "    }\n",
       "</style>\n",
       "<table border=\"1\" class=\"dataframe\">\n",
       "  <thead>\n",
       "    <tr style=\"text-align: right;\">\n",
       "      <th>Predicted direction</th>\n",
       "      <th>Down</th>\n",
       "      <th>Up</th>\n",
       "    </tr>\n",
       "    <tr>\n",
       "      <th>True direction</th>\n",
       "      <th></th>\n",
       "      <th></th>\n",
       "    </tr>\n",
       "  </thead>\n",
       "  <tbody>\n",
       "    <tr>\n",
       "      <th>Down</th>\n",
       "      <td>41</td>\n",
       "      <td>73</td>\n",
       "    </tr>\n",
       "    <tr>\n",
       "      <th>Up</th>\n",
       "      <td>26</td>\n",
       "      <td>113</td>\n",
       "    </tr>\n",
       "  </tbody>\n",
       "</table>\n",
       "</div>"
      ],
      "text/plain": [
       "Predicted direction  Down   Up\n",
       "True direction                \n",
       "Down                   41   73\n",
       "Up                     26  113"
      ]
     },
     "execution_count": 106,
     "metadata": {},
     "output_type": "execute_result"
    }
   ],
   "source": [
    "# Store data in DataFrame\n",
    "cfm = pd.DataFrame({'True direction': y_test,\n",
    "                    'Predicted direction': pred})\n",
    "cfm.replace(to_replace={0:'Down', 1:'Up'}, inplace=True)\n",
    "\n",
    "# Arrange data to confusion matrix\n",
    "cfm.groupby(['Predicted direction','True direction']).size().unstack('Predicted direction')"
   ]
  },
  {
   "cell_type": "markdown",
   "metadata": {},
   "source": [
    "As mentioned before, in the above table rows represent the true outcome. Columns show what class KNN predicted. In 41 cases, the test set's true response was 'down' (=0) and KNN correctly predicted 'down'. 113 times KNN was correct in predicting an 'up' (=1) movement. 26 returns in the test set were positive but KNN predicted a negative return. And in 73 out of 253 cases KNN predicted a 'up' movement whereas in realaty the stock price decreased. \n",
    "\n",
    "The KNN score of 60.87% for ABB is the sum of true positive and negative (41 + 113) in relation to the total number of predictions (253 = 41 + 26 + 73 + 113). The error rate is 1 - score or (26 + 73)/253.\n",
    "\n",
    "Sometimes class-specific performance is also mentioned. The related terms are **sensitivity** and **specifity**. In the above case, sensitivity is the percentage of true 'up' movements that are identified. A good 81.3% (= 113 / (26 + 113)). The specifity is the percentage of 'down' movements that are correctly identified, here a bad 36.0% (= 41 / (41 + 73))."
   ]
  },
  {
   "cell_type": "markdown",
   "metadata": {},
   "source": [
    "Because confusion matrices are very important, `Scikit-learn` has its own [command to generate it](http://scikit-learn.org/stable/modules/generated/sklearn.metrics.confusion_matrix.html). It is part of the `metrics` sublibrary. The problem is that in contrast to above (manually generated) table, there are no labels. Therefore one must be sure to know which value are where. Here's the code to generate the confusion matrix."
   ]
  },
  {
   "cell_type": "code",
   "execution_count": 107,
   "metadata": {
    "collapsed": false,
    "scrolled": false
   },
   "outputs": [
    {
     "data": {
      "text/plain": [
       "array([[ 41,  73],\n",
       "       [ 26, 113]])"
      ]
     },
     "execution_count": 107,
     "metadata": {},
     "output_type": "execute_result"
    }
   ],
   "source": [
    "from sklearn.metrics import confusion_matrix\n",
    "\n",
    "# Confusion matrix\n",
    "confusion_matrix(y_test, pred)"
   ]
  },
  {
   "cell_type": "markdown",
   "metadata": {},
   "source": [
    "Often it is helpful to visualize results. `Sklearn` unfortunately doesn't have a specific plotting function for the confusion matrix. However, on the package's website they provide a code that does exactly this. Below their code is applied to our KNN results on ABB's stock price movement. "
   ]
  },
  {
   "cell_type": "code",
   "execution_count": 108,
   "metadata": {
    "collapsed": true
   },
   "outputs": [],
   "source": [
    "import itertools\n",
    "plt.style.use('default')\n",
    "\n",
    "def plot_confusion_matrix(cm, classes,\n",
    "                          normalize=False,\n",
    "                          title='Confusion matrix',\n",
    "                          cmap=plt.cm.Blues):\n",
    "    \"\"\"\n",
    "    This function prints and plots the confusion matrix.\n",
    "    Normalization can be applied by setting `normalize=True`.\n",
    "    \"\"\"\n",
    "    if normalize:\n",
    "        cm = cm.astype('float') / cm.sum(axis=1)[:, np.newaxis]\n",
    "        print(\"Normalized confusion matrix\")\n",
    "    else:\n",
    "        print('Confusion matrix, without normalization')\n",
    "\n",
    "    print(cm)\n",
    "\n",
    "    plt.imshow(cm, interpolation='nearest', cmap=cmap)\n",
    "    plt.title(title)\n",
    "    plt.colorbar()\n",
    "    tick_marks = np.arange(len(classes))\n",
    "    plt.xticks(tick_marks, classes, rotation=45)\n",
    "    plt.yticks(tick_marks, classes)\n",
    "\n",
    "    fmt = '.2f' if normalize else 'd'\n",
    "    thresh = cm.max() / 2.\n",
    "    for i, j in itertools.product(range(cm.shape[0]), range(cm.shape[1])):\n",
    "        plt.text(j, i, format(cm[i, j], fmt),\n",
    "                 horizontalalignment=\"center\",\n",
    "                 color=\"white\" if cm[i, j] > thresh else \"black\")\n",
    "\n",
    "    plt.tight_layout()\n",
    "    plt.ylabel('True label')\n",
    "    plt.xlabel('Predicted label')"
   ]
  },
  {
   "cell_type": "code",
   "execution_count": 109,
   "metadata": {
    "collapsed": false,
    "scrolled": false
   },
   "outputs": [
    {
     "name": "stdout",
     "output_type": "stream",
     "text": [
      "Confusion matrix, without normalization\n",
      "[[ 41  73]\n",
      " [ 26 113]]\n"
     ]
    },
    {
     "data": {
      "image/png": "[encoded data removed]",
      "text/plain": [
       "<matplotlib.figure.Figure at 0x1cb74669358>"
      ]
     },
     "metadata": {},
     "output_type": "display_data"
    }
   ],
   "source": [
    "# Compute confusion matrix\n",
    "cfm_matrix = confusion_matrix(y_test, pred)\n",
    "np.set_printoptions(precision=2)\n",
    "\n",
    "# Plot non-normalized confusion matrix\n",
    "plt.figure()\n",
    "plot_confusion_matrix(cfm_matrix, classes=['Down', 'Up'],\n",
    "                      title='Confusion matrix, without normalization')"
   ]
  },
  {
   "cell_type": "code",
   "execution_count": 101,
   "metadata": {
    "collapsed": false
   },
   "outputs": [
    {
     "name": "stdout",
     "output_type": "stream",
     "text": [
      "Normalized confusion matrix\n",
      "[[ 0.36  0.64]\n",
      " [ 0.19  0.81]]\n"
     ]
    },
    {
     "data": {
      "image/png": "[encoded data removed]",
      "text/plain": [
       "<matplotlib.figure.Figure at 0x1cb74162828>"
      ]
     },
     "metadata": {},
     "output_type": "display_data"
    }
   ],
   "source": [
    "# Plot normalized confusion matrix\n",
    "plt.figure()\n",
    "plot_confusion_matrix(cfm_matrix, classes=['Down', 'Up'], normalize=True,\n",
    "                      title='Normalized confusion matrix')"
   ]
  },
  {
   "cell_type": "markdown",
   "metadata": {},
   "source": [
    "# Further Ressources\n",
    "\n",
    "\n",
    "In writing this notebook, many ressources were consulted. For internet ressources the links are provided within the textflow above and will therefore not be listed again. Beyond these links, the following ressources were consulted and are recommended as further reading on the discussed topics:\n",
    "\n",
    "* James, Gareth, Daniela Witten, Trevor Hastie, and Robert Tibshirani, 2013, *An Introduction to Statistical Learning: With Applications in R* (Springer Science & Business Media, New York, NY).\n",
    "* Müller, Andreas C., and Sarah Guido, 2017, *Introduction to Machine Learning with Python* (O’Reilly Media, Sebastopol, CA)."
   ]
  }
 ],
 "metadata": {
  "kernelspec": {
   "display_name": "Python 3",
   "language": "python",
   "name": "python3"
  },
  "language_info": {
   "codemirror_mode": {
    "name": "ipython",
    "version": 3
   },
   "file_extension": ".py",
   "mimetype": "text/x-python",
   "name": "python",
   "nbconvert_exporter": "python",
   "pygments_lexer": "ipython3",
   "version": "3.6.0"
  }
 },
 "nbformat": 4,
 "nbformat_minor": 2
}
