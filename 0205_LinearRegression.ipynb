{
 "cells": [
  {
   "cell_type": "markdown",
   "metadata": {},
   "source": [
    "# Linear Regression"
   ]
  },
  {
   "cell_type": "markdown",
   "metadata": {},
   "source": [
    "# Simple Linear Regression\n",
    "\n",
    "Running a simple linear regression in Python is fairly simple if you know the relevant functions. What might be confusing is that there exist several packages which provide functions for linear regression. Here it is shown how to do it with the `statsmodels.api` (sub-)package, however other packages such as e.g. `scikit-learn` have similar functions too. "
   ]
  },
  {
   "cell_type": "code",
   "execution_count": 1,
   "metadata": {
    "collapsed": false
   },
   "outputs": [
    {
     "name": "stderr",
     "output_type": "stream",
     "text": [
      "C:\\Users\\Ben Zimmermann\\Anaconda3\\lib\\site-packages\\statsmodels\\compat\\pandas.py:56: FutureWarning: The pandas.core.datetools module is deprecated and will be removed in a future version. Please use the pandas.tseries module instead.\n",
      "  from pandas.core import datetools\n"
     ]
    }
   ],
   "source": [
    "# Load relevant packages\n",
    "%matplotlib inline\n",
    "import numpy as np\n",
    "import pandas as pd\n",
    "import statsmodels.api as sm\n",
    "import matplotlib.pyplot as plt\n",
    "plt.style.use('seaborn-whitegrid')"
   ]
  },
  {
   "cell_type": "code",
   "execution_count": 2,
   "metadata": {
    "collapsed": false
   },
   "outputs": [
    {
     "name": "stdout",
     "output_type": "stream",
     "text": [
      "      TV  radio  newspaper  sales\n",
      "0  230.1   37.8       69.2   22.1\n",
      "1   44.5   39.3       45.1   10.4\n",
      "2   17.2   45.9       69.3    9.3\n",
      "3  151.5   41.3       58.5   18.5\n",
      "4  180.8   10.8       58.4   12.9\n"
     ]
    }
   ],
   "source": [
    "# From Advertising data set read cols 2:4\n",
    "url = 'http://www-bcf.usc.edu/~gareth/ISL/Advertising.csv'\n",
    "ad = pd.read_csv(url, sep=',', usecols=(np.arange(1, 5, 1)))\n",
    "print(ad.head())"
   ]
  },
  {
   "cell_type": "code",
   "execution_count": 3,
   "metadata": {
    "collapsed": false,
    "scrolled": false
   },
   "outputs": [
    {
     "data": {
      "text/html": [
       "<table class=\"simpletable\">\n",
       "<caption>OLS Regression Results</caption>\n",
       "<tr>\n",
       "  <th>Dep. Variable:</th>          <td>sales</td>      <th>  R-squared:         </th> <td>   0.612</td>\n",
       "</tr>\n",
       "<tr>\n",
       "  <th>Model:</th>                   <td>OLS</td>       <th>  Adj. R-squared:    </th> <td>   0.610</td>\n",
       "</tr>\n",
       "<tr>\n",
       "  <th>Method:</th>             <td>Least Squares</td>  <th>  F-statistic:       </th> <td>   312.1</td>\n",
       "</tr>\n",
       "<tr>\n",
       "  <th>Date:</th>             <td>Thu, 14 Sep 2017</td> <th>  Prob (F-statistic):</th> <td>1.47e-42</td>\n",
       "</tr>\n",
       "<tr>\n",
       "  <th>Time:</th>                 <td>10:18:56</td>     <th>  Log-Likelihood:    </th> <td> -519.05</td>\n",
       "</tr>\n",
       "<tr>\n",
       "  <th>No. Observations:</th>      <td>   200</td>      <th>  AIC:               </th> <td>   1042.</td>\n",
       "</tr>\n",
       "<tr>\n",
       "  <th>Df Residuals:</th>          <td>   198</td>      <th>  BIC:               </th> <td>   1049.</td>\n",
       "</tr>\n",
       "<tr>\n",
       "  <th>Df Model:</th>              <td>     1</td>      <th>                     </th>     <td> </td>   \n",
       "</tr>\n",
       "<tr>\n",
       "  <th>Covariance Type:</th>      <td>nonrobust</td>    <th>                     </th>     <td> </td>   \n",
       "</tr>\n",
       "</table>\n",
       "<table class=\"simpletable\">\n",
       "<tr>\n",
       "    <td></td>       <th>coef</th>     <th>std err</th>      <th>t</th>      <th>P>|t|</th>  <th>[0.025</th>    <th>0.975]</th>  \n",
       "</tr>\n",
       "<tr>\n",
       "  <th>const</th> <td>    7.0326</td> <td>    0.458</td> <td>   15.360</td> <td> 0.000</td> <td>    6.130</td> <td>    7.935</td>\n",
       "</tr>\n",
       "<tr>\n",
       "  <th>TV</th>    <td>    0.0475</td> <td>    0.003</td> <td>   17.668</td> <td> 0.000</td> <td>    0.042</td> <td>    0.053</td>\n",
       "</tr>\n",
       "</table>\n",
       "<table class=\"simpletable\">\n",
       "<tr>\n",
       "  <th>Omnibus:</th>       <td> 0.531</td> <th>  Durbin-Watson:     </th> <td>   1.935</td>\n",
       "</tr>\n",
       "<tr>\n",
       "  <th>Prob(Omnibus):</th> <td> 0.767</td> <th>  Jarque-Bera (JB):  </th> <td>   0.669</td>\n",
       "</tr>\n",
       "<tr>\n",
       "  <th>Skew:</th>          <td>-0.089</td> <th>  Prob(JB):          </th> <td>   0.716</td>\n",
       "</tr>\n",
       "<tr>\n",
       "  <th>Kurtosis:</th>      <td> 2.779</td> <th>  Cond. No.          </th> <td>    338.</td>\n",
       "</tr>\n",
       "</table>"
      ],
      "text/plain": [
       "<class 'statsmodels.iolib.summary.Summary'>\n",
       "\"\"\"\n",
       "                            OLS Regression Results                            \n",
       "==============================================================================\n",
       "Dep. Variable:                  sales   R-squared:                       0.612\n",
       "Model:                            OLS   Adj. R-squared:                  0.610\n",
       "Method:                 Least Squares   F-statistic:                     312.1\n",
       "Date:                Thu, 14 Sep 2017   Prob (F-statistic):           1.47e-42\n",
       "Time:                        10:18:56   Log-Likelihood:                -519.05\n",
       "No. Observations:                 200   AIC:                             1042.\n",
       "Df Residuals:                     198   BIC:                             1049.\n",
       "Df Model:                           1                                         \n",
       "Covariance Type:            nonrobust                                         \n",
       "==============================================================================\n",
       "                 coef    std err          t      P>|t|      [0.025      0.975]\n",
       "------------------------------------------------------------------------------\n",
       "const          7.0326      0.458     15.360      0.000       6.130       7.935\n",
       "TV             0.0475      0.003     17.668      0.000       0.042       0.053\n",
       "==============================================================================\n",
       "Omnibus:                        0.531   Durbin-Watson:                   1.935\n",
       "Prob(Omnibus):                  0.767   Jarque-Bera (JB):                0.669\n",
       "Skew:                          -0.089   Prob(JB):                        0.716\n",
       "Kurtosis:                       2.779   Cond. No.                         338.\n",
       "==============================================================================\n",
       "\n",
       "Warnings:\n",
       "[1] Standard Errors assume that the covariance matrix of the errors is correctly specified.\n",
       "\"\"\""
      ]
     },
     "execution_count": 3,
     "metadata": {},
     "output_type": "execute_result"
    }
   ],
   "source": [
    "# Run regression and calculate fit\n",
    "reg = sm.OLS(ad.sales, exog=sm.add_constant(ad.TV)).fit()\n",
    "# Alternatively: reg = sm.OLS(ad.sales, sm.add_constant(ad.TV)).fit()\n",
    "reg.summary()"
   ]
  },
  {
   "cell_type": "markdown",
   "metadata": {},
   "source": [
    "**Side note:** If you are the `R` guy and prefer their syntax, you could import the statsmodels.formula.api subpackage and run something like:\n",
    "\n",
    "`from statsmodels.formula.api import ols\n",
    "reg = ols(\"Sales ~ TV\", data=ad).fit()\n",
    "reg.summary()`\n",
    "\n",
    "Intercept will automatically be calculated in the above setting."
   ]
  },
  {
   "cell_type": "markdown",
   "metadata": {},
   "source": [
    "Both p-values for intercept ($\\hat{\\beta}_0$) and slope ($\\hat{\\beta}_1$) are smaller than any reasonable significance level and thus we can reject the null hypothesis that either of the coefficients is zero (or irrelevant)."
   ]
  },
  {
   "cell_type": "markdown",
   "metadata": {},
   "source": [
    "Instead of printing the whole summary, we could also access each of the three summary as follows:"
   ]
  },
  {
   "cell_type": "code",
   "execution_count": 4,
   "metadata": {
    "collapsed": false
   },
   "outputs": [
    {
     "data": {
      "text/html": [
       "<table class=\"simpletable\">\n",
       "<tr>\n",
       "    <td></td>       <th>coef</th>     <th>std err</th>      <th>t</th>      <th>P>|t|</th>  <th>[0.025</th>    <th>0.975]</th>  \n",
       "</tr>\n",
       "<tr>\n",
       "  <th>const</th> <td>    7.0326</td> <td>    0.458</td> <td>   15.360</td> <td> 0.000</td> <td>    6.130</td> <td>    7.935</td>\n",
       "</tr>\n",
       "<tr>\n",
       "  <th>TV</th>    <td>    0.0475</td> <td>    0.003</td> <td>   17.668</td> <td> 0.000</td> <td>    0.042</td> <td>    0.053</td>\n",
       "</tr>\n",
       "</table>"
      ],
      "text/plain": [
       "<class 'statsmodels.iolib.table.SimpleTable'>"
      ]
     },
     "execution_count": 4,
     "metadata": {},
     "output_type": "execute_result"
    }
   ],
   "source": [
    "reg.summary().tables[1]"
   ]
  },
  {
   "cell_type": "markdown",
   "metadata": {},
   "source": [
    "## Plotting the Fit"
   ]
  },
  {
   "cell_type": "code",
   "execution_count": 5,
   "metadata": {
    "collapsed": false,
    "scrolled": true
   },
   "outputs": [
    {
     "data": {
      "image/png": "[encoded data removed]",
      "text/plain": [
       "<matplotlib.figure.Figure at 0x2447c6696d8>"
      ]
     },
     "metadata": {},
     "output_type": "display_data"
    }
   ],
   "source": [
    "# Plot scatter & lm\n",
    "plt.figure(figsize=(8,5))\n",
    "plt.scatter(ad.TV, ad.sales, marker='.', label='Sample')\n",
    "plt.plot(ad.TV, reg.fittedvalues, c='k', label='Fit')\n",
    "plt.ylabel('Sales', fontsize=12)\n",
    "plt.xlabel('TV', fontsize=12);"
   ]
  },
  {
   "cell_type": "markdown",
   "metadata": {},
   "source": [
    "Let's plotting residuals versus fitted values to do some visual regression diagnostics:"
   ]
  },
  {
   "cell_type": "code",
   "execution_count": 6,
   "metadata": {
    "collapsed": false,
    "scrolled": false
   },
   "outputs": [
    {
     "data": {
      "image/png": "[encoded data removed]",
      "text/plain": [
       "<matplotlib.figure.Figure at 0x2447c669668>"
      ]
     },
     "metadata": {},
     "output_type": "display_data"
    }
   ],
   "source": [
    "plt.figure(figsize=(8,5))\n",
    "plt.scatter(ad.TV, reg.resid)\n",
    "plt.axhline(y=0, c='k')\n",
    "plt.xlabel('TV (fitted)')\n",
    "plt.ylabel('Residuals');"
   ]
  },
  {
   "cell_type": "markdown",
   "metadata": {},
   "source": [
    "The statsmodel package has some built-in plotting functions suited **for visual fit diagnostics**. We will not discuss them here but if interested you'll find plenty of sources on the web (e.g. [here](http://www.statsmodels.org/dev/examples/notebooks/generated/regression_plots.html), [here](http://www.statsmodels.org/stable/graphics.html) or [here](http://mpastell.com/2013/04/19/python_regression/))"
   ]
  },
  {
   "cell_type": "markdown",
   "metadata": {},
   "source": [
    "## Accessing the Output\n",
    "\n",
    "The `reg` objection contains a ton of information which you can all access. To see what there is, type `reg.` and press tab. Two examples are shown below. Notice that some are attributes (like `x.shape`, `x.size`) and don't need paranthesis to call them. Others are methods (similar to `.sum()`, `.min()`) and require parenthesis."
   ]
  },
  {
   "cell_type": "code",
   "execution_count": 7,
   "metadata": {
    "collapsed": false,
    "scrolled": true
   },
   "outputs": [
    {
     "name": "stdout",
     "output_type": "stream",
     "text": [
      "const    7.032594\n",
      "TV       0.047537\n",
      "dtype: float64 \n",
      "\n",
      "0    4.129225\n",
      "1    1.252026\n",
      "2    1.449776\n",
      "3    4.265605\n",
      "4   -2.727218\n",
      "dtype: float64\n"
     ]
    }
   ],
   "source": [
    "# Regression coefficients\n",
    "print(reg.params, '\\n')\n",
    "print(reg.resid.head())"
   ]
  },
  {
   "cell_type": "markdown",
   "metadata": {},
   "source": [
    "# Confidence Intervals & Hypthesis Testing\n",
    "\n",
    "The 95%-confidence interval (CI) is printed in the summary above. If one wishes to calculate it for a different significance level (`alpha`), it is done as follows:"
   ]
  },
  {
   "cell_type": "code",
   "execution_count": 8,
   "metadata": {
    "collapsed": false,
    "scrolled": true
   },
   "outputs": [
    {
     "data": {
      "text/html": [
       "<div>\n",
       "<style>\n",
       "    .dataframe thead tr:only-child th {\n",
       "        text-align: right;\n",
       "    }\n",
       "\n",
       "    .dataframe thead th {\n",
       "        text-align: left;\n",
       "    }\n",
       "\n",
       "    .dataframe tbody tr th {\n",
       "        vertical-align: top;\n",
       "    }\n",
       "</style>\n",
       "<table border=\"1\" class=\"dataframe\">\n",
       "  <thead>\n",
       "    <tr style=\"text-align: right;\">\n",
       "      <th></th>\n",
       "      <th>0</th>\n",
       "      <th>1</th>\n",
       "    </tr>\n",
       "  </thead>\n",
       "  <tbody>\n",
       "    <tr>\n",
       "      <th>const</th>\n",
       "      <td>5.841796</td>\n",
       "      <td>8.223391</td>\n",
       "    </tr>\n",
       "    <tr>\n",
       "      <th>TV</th>\n",
       "      <td>0.040539</td>\n",
       "      <td>0.054535</td>\n",
       "    </tr>\n",
       "  </tbody>\n",
       "</table>\n",
       "</div>"
      ],
      "text/plain": [
       "              0         1\n",
       "const  5.841796  8.223391\n",
       "TV     0.040539  0.054535"
      ]
     },
     "execution_count": 8,
     "metadata": {},
     "output_type": "execute_result"
    }
   ],
   "source": [
    "# 99% CI (alpha = 1%) based on t-distribution\n",
    "reg.conf_int(alpha=0.01)"
   ]
  },
  {
   "cell_type": "markdown",
   "metadata": {},
   "source": [
    "The regression summary provides $t$-statistic and p-value for the null hypothesis $H_0: \\hat{\\beta}_j = 0$, $H_a: \\hat{\\beta}_j \\neq 0$. You can call the resulting $t$-statistic and p-value with its attributes."
   ]
  },
  {
   "cell_type": "code",
   "execution_count": 9,
   "metadata": {
    "collapsed": false,
    "scrolled": true
   },
   "outputs": [
    {
     "name": "stdout",
     "output_type": "stream",
     "text": [
      "const    15.360275\n",
      "TV       17.667626\n",
      "dtype: float64 \n",
      "\n",
      "const    1.406300e-35\n",
      "TV       1.467390e-42\n",
      "dtype: float64\n"
     ]
    }
   ],
   "source": [
    "print(reg.tvalues, '\\n')\n",
    "print(reg.pvalues)"
   ]
  },
  {
   "cell_type": "markdown",
   "metadata": {},
   "source": [
    "If you wish to test a different null hypothesis, e.g. $H_0: \\hat{\\beta}_{TV} = 0.054$ vs. $H_0: \\hat{\\beta}_{TV} \\neq 0.054$ use the following code:"
   ]
  },
  {
   "cell_type": "code",
   "execution_count": 10,
   "metadata": {
    "collapsed": false,
    "scrolled": true
   },
   "outputs": [
    {
     "data": {
      "text/plain": [
       "<class 'statsmodels.stats.contrast.ContrastResults'>\n",
       "                             Test for Constraints                             \n",
       "==============================================================================\n",
       "                 coef    std err          t      P>|t|      [0.025      0.975]\n",
       "------------------------------------------------------------------------------\n",
       "c0             0.0475      0.003     -2.402      0.017       0.042       0.053\n",
       "=============================================================================="
      ]
     },
     "execution_count": 10,
     "metadata": {},
     "output_type": "execute_result"
    }
   ],
   "source": [
    "reg.t_test('TV=0.054')"
   ]
  },
  {
   "cell_type": "markdown",
   "metadata": {},
   "source": [
    "As far as I know, `Statsmodels` does not provide a function to calculate 'greater than' or 'smaller than' alternative hypothesis. Reason being: because with symmetric distributions, the one-sided test can be backed out from the two-sided test. A one-sided p-value is just half of the two-sided p-value. This means that given p and $t$ values from a two-tailed test, you would reject the null hypothesis of a greater-than test when p/2 < alpha and $t$ > 0, and of a less-than test when p/2 < alpha and $t$ < 0."
   ]
  },
  {
   "cell_type": "markdown",
   "metadata": {},
   "source": [
    "## Coefficient of Determination\n",
    "\n",
    "The $R^2$ measure, or \"Coefficient of determination\", displays the proportion of the variability in $y$ that is well explained by the regression fit. It is defined as \n",
    "\n",
    "$$\\begin{equation}\n",
    "R^2 = \\frac{TSS - SSR}{TSS} = 1 - \\frac{SSR}{TSS}\n",
    "\\end{equation}$$\n",
    "\n",
    "where TSS is the *total sum of squares*, defined as $TSS = \\sum (y_i - \\bar{y})^2$, and SSR is the *sum of squared residuals*, given by $SSR = \\sum (y_i - \\hat{y}_i)^2$.\n",
    "\n",
    "It is easy to call the $R^2$ value from the regression object `reg` as the following line shows."
   ]
  },
  {
   "cell_type": "code",
   "execution_count": 11,
   "metadata": {
    "collapsed": false
   },
   "outputs": [
    {
     "data": {
      "text/plain": [
       "0.61187505085007099"
      ]
     },
     "execution_count": 11,
     "metadata": {},
     "output_type": "execute_result"
    }
   ],
   "source": [
    "# R squared measure\n",
    "reg.rsquared"
   ]
  },
  {
   "cell_type": "markdown",
   "metadata": {},
   "source": [
    "## Regression Diagnostics\n",
    "### Test of Homoskedasticity\n",
    "\n",
    "In general we assume a constant variance of the error term (homoskedasticity; $Var(\\epsilon_i) = \\sigma^2$ for $i = 1, \\ldots, N$). From the residuals vs. fitted plot we have to question this assumption. To test it mathematically, you can run a heteroskedasticity test. The stats package offers several test options; the more common ones are White's or the one from Breusch-Pagan. See [here for more details](http://www.statsmodels.org/dev/diagnostic.html) on tests on heteroskedasticity.\n",
    "\n",
    "Below the White test is applied as an example. The parameter 'reg.model.exog' simply contains the X matrix (here a 200x2 matrix with constant 1 in first column and values for TV in second). Instead of calling the `reg` object, we could also use `Xconst` from above. The output becomes clear when you check the function's help page (use `?sm.stats.diagnostic.het_white`). \n",
    "\n",
    "The null hypothesis is that the error variance does **not** depend on x, thus is homoskedastic. Based on the large f-statistic value we can gently reject the null-hypothesis that the error variance is homoskedastic."
   ]
  },
  {
   "cell_type": "code",
   "execution_count": 12,
   "metadata": {
    "collapsed": false,
    "scrolled": true
   },
   "outputs": [
    {
     "name": "stdout",
     "output_type": "stream",
     "text": [
      "f-statistic:             35.1683 \n",
      "p-value for f-statistic:  0.0000\n"
     ]
    }
   ],
   "source": [
    "# Test for heteroskedasticity with White test\n",
    "wht = sm.stats.diagnostic.het_white(resid=reg.resid, exog=reg.model.exog)\n",
    "print('f-statistic: {0:>19.4f} \\n'\n",
    "      'p-value for f-statistic: {1:>7.4f}'.format(wht[2], wht[3]))"
   ]
  },
  {
   "cell_type": "markdown",
   "metadata": {},
   "source": [
    "If you wish to run tests with heteroskedastistic robust standard errors you can either access the `reg` object's robust standard errors (`reg.HC0_se`, `reg.HC1_se`, `reg.HC2_se`, `reg.HC3_se`) or, more conveniently, run directly define the covariance estimator (e.g. 'HC3' as below) when you generate the object in the first place. Below example shows how you can do this. See also [here](http://www.statsmodels.org/dev/generated/statsmodels.regression.linear_model.RegressionResults.html) or [here](https://stackoverflow.com/questions/30553838/getting-statsmodels-to-use-heteroskedasticity-corrected-standard-errors-in-coeff) for some further information."
   ]
  },
  {
   "cell_type": "code",
   "execution_count": 13,
   "metadata": {
    "collapsed": false
   },
   "outputs": [
    {
     "name": "stdout",
     "output_type": "stream",
     "text": [
      "const    0.336426\n",
      "TV       0.002890\n",
      "dtype: float64 \n",
      "\n",
      "const    0.336426\n",
      "TV       0.002890\n",
      "dtype: float64\n"
     ]
    }
   ],
   "source": [
    "regRobust = sm.OLS(ad.sales, exog=sm.add_constant(ad.TV)).fit(cov_type='HC3')\n",
    "print(regRobust.HC3_se, '\\n')\n",
    "print(reg.HC3_se)"
   ]
  },
  {
   "cell_type": "markdown",
   "metadata": {},
   "source": [
    "### Other Relevant Checks\n",
    "\n",
    "The `statsmodels` package offers many more functions to run regression diagnostics, e.g. checks for autocorrelation, non-linearity, normality of residuals etc. These functions are applicable to both simple as well as multiple linear regression models. There's a short [Jupyther notebook](http://www.statsmodels.org/dev/examples/notebooks/generated/regression_diagnostics.html) detailing some of the options. "
   ]
  },
  {
   "cell_type": "markdown",
   "metadata": {},
   "source": [
    " "
   ]
  },
  {
   "cell_type": "markdown",
   "metadata": {},
   "source": [
    "## Application: Stock Beta\n",
    "\n",
    "A stock beta measures the systematic risk of a security, the tendency of a security to respond to swings in the broad market. Typically, a large, well diversified index is taken as a proxy for the market portfolio (e.g. S&P500, Euro Stoxx 50, SMI, etc.). There are different ways to calculate a stock beta. We will show the regression approach, where a stock's beta is the slope of the following linear regression:\n",
    "\n",
    "$$\\begin{equation}\n",
    "r - r_f = \\alpha + \\beta(r_M - r_f) + e\n",
    "\\end{equation}$$\n",
    "\n",
    "Let us look into Geberit's stock beta. As a proxy for the market portfolio we use the Swiss market index (SMI). The risk free rate is set to $r_f=0$, which is a fairly reasonable approach in light of [the Swiss national bank's (SNB) interest rates](https://data.snb.ch/de/topics/ziredev#!/cube/zimoma) for the past five years. We will work with monthly returns for the past five years (60 months) - though other approaches (e.g. last 24 monthly returns, weekly returns for last 2 years, etc.) are reasonable choices too."
   ]
  },
  {
   "cell_type": "code",
   "execution_count": 14,
   "metadata": {
    "collapsed": false
   },
   "outputs": [],
   "source": [
    "# Load package to download share prices from web\n",
    "import pandas_datareader.data as web\n",
    "\n",
    "# Define tickers, beta obs. period, start & enddate\n",
    "months = 60\n",
    "tickers   = ['VTX:GEBN', 'INDEXSWX:SMI']\n",
    "startdate = '2007-06-01'\n",
    "enddate   = '2017-06-30'\n",
    "\n",
    "# Get stock closing price data from google finance\n",
    "df = pd.DataFrame()\n",
    "for tick in tickers:\n",
    "    df[tick] = web.DataReader(tick, data_source='google', \n",
    "                              start=startdate, end=enddate)['Close']"
   ]
  },
  {
   "cell_type": "code",
   "execution_count": 15,
   "metadata": {
    "collapsed": false
   },
   "outputs": [
    {
     "data": {
      "text/html": [
       "<div>\n",
       "<style>\n",
       "    .dataframe thead tr:only-child th {\n",
       "        text-align: right;\n",
       "    }\n",
       "\n",
       "    .dataframe thead th {\n",
       "        text-align: left;\n",
       "    }\n",
       "\n",
       "    .dataframe tbody tr th {\n",
       "        vertical-align: top;\n",
       "    }\n",
       "</style>\n",
       "<table border=\"1\" class=\"dataframe\">\n",
       "  <thead>\n",
       "    <tr style=\"text-align: right;\">\n",
       "      <th></th>\n",
       "      <th>GEBNrets</th>\n",
       "      <th>SMIrets</th>\n",
       "    </tr>\n",
       "    <tr>\n",
       "      <th>Date</th>\n",
       "      <th></th>\n",
       "      <th></th>\n",
       "    </tr>\n",
       "  </thead>\n",
       "  <tbody>\n",
       "    <tr>\n",
       "      <th>2017-06-30</th>\n",
       "      <td>-0.013769</td>\n",
       "      <td>-0.012247</td>\n",
       "    </tr>\n",
       "    <tr>\n",
       "      <th>2017-05-31</th>\n",
       "      <td>0.000441</td>\n",
       "      <td>0.022881</td>\n",
       "    </tr>\n",
       "    <tr>\n",
       "      <th>2017-04-28</th>\n",
       "      <td>0.048371</td>\n",
       "      <td>0.017604</td>\n",
       "    </tr>\n",
       "    <tr>\n",
       "      <th>2017-03-31</th>\n",
       "      <td>-0.006464</td>\n",
       "      <td>0.013145</td>\n",
       "    </tr>\n",
       "    <tr>\n",
       "      <th>2017-02-28</th>\n",
       "      <td>0.030369</td>\n",
       "      <td>0.030187</td>\n",
       "    </tr>\n",
       "  </tbody>\n",
       "</table>\n",
       "</div>"
      ],
      "text/plain": [
       "            GEBNrets   SMIrets\n",
       "Date                          \n",
       "2017-06-30 -0.013769 -0.012247\n",
       "2017-05-31  0.000441  0.022881\n",
       "2017-04-28  0.048371  0.017604\n",
       "2017-03-31 -0.006464  0.013145\n",
       "2017-02-28  0.030369  0.030187"
      ]
     },
     "execution_count": 15,
     "metadata": {},
     "output_type": "execute_result"
    }
   ],
   "source": [
    "# Select business month end closing prices and sort date desc.\n",
    "df = df.resample('BM').last()  # For business week end chose 'W-FRI'\n",
    "df = df.sort_index(ascending=False)\n",
    "\n",
    "# Calculate log-returns\n",
    "df['GEBNrets'] = np.log(df[tickers[0]] / df[tickers[0]].shift(-1))\n",
    "df['SMIrets'] = np.log(df[tickers[1]] / df[tickers[1]].shift(-1))\n",
    "\n",
    "# Select past 60 months return data\n",
    "dfRets = df.iloc[:months, 2:4]\n",
    "dfRets.head()"
   ]
  },
  {
   "cell_type": "code",
   "execution_count": 16,
   "metadata": {
    "collapsed": false
   },
   "outputs": [
    {
     "data": {
      "text/html": [
       "<table class=\"simpletable\">\n",
       "<caption>OLS Regression Results</caption>\n",
       "<tr>\n",
       "  <th>Dep. Variable:</th>        <td>GEBNrets</td>     <th>  R-squared:         </th> <td>   0.289</td>\n",
       "</tr>\n",
       "<tr>\n",
       "  <th>Model:</th>                   <td>OLS</td>       <th>  Adj. R-squared:    </th> <td>   0.277</td>\n",
       "</tr>\n",
       "<tr>\n",
       "  <th>Method:</th>             <td>Least Squares</td>  <th>  F-statistic:       </th> <td>   23.61</td>\n",
       "</tr>\n",
       "<tr>\n",
       "  <th>Date:</th>             <td>Thu, 14 Sep 2017</td> <th>  Prob (F-statistic):</th> <td>9.33e-06</td>\n",
       "</tr>\n",
       "<tr>\n",
       "  <th>Time:</th>                 <td>10:18:59</td>     <th>  Log-Likelihood:    </th> <td>  107.70</td>\n",
       "</tr>\n",
       "<tr>\n",
       "  <th>No. Observations:</th>      <td>    60</td>      <th>  AIC:               </th> <td>  -211.4</td>\n",
       "</tr>\n",
       "<tr>\n",
       "  <th>Df Residuals:</th>          <td>    58</td>      <th>  BIC:               </th> <td>  -207.2</td>\n",
       "</tr>\n",
       "<tr>\n",
       "  <th>Df Model:</th>              <td>     1</td>      <th>                     </th>     <td> </td>   \n",
       "</tr>\n",
       "<tr>\n",
       "  <th>Covariance Type:</th>      <td>nonrobust</td>    <th>                     </th>     <td> </td>   \n",
       "</tr>\n",
       "</table>\n",
       "<table class=\"simpletable\">\n",
       "<tr>\n",
       "     <td></td>        <th>coef</th>     <th>std err</th>      <th>t</th>      <th>P>|t|</th>  <th>[0.025</th>    <th>0.975]</th>  \n",
       "</tr>\n",
       "<tr>\n",
       "  <th>const</th>   <td>    0.0094</td> <td>    0.005</td> <td>    1.739</td> <td> 0.087</td> <td>   -0.001</td> <td>    0.020</td>\n",
       "</tr>\n",
       "<tr>\n",
       "  <th>SMIrets</th> <td>    0.8115</td> <td>    0.167</td> <td>    4.859</td> <td> 0.000</td> <td>    0.477</td> <td>    1.146</td>\n",
       "</tr>\n",
       "</table>\n",
       "<table class=\"simpletable\">\n",
       "<tr>\n",
       "  <th>Omnibus:</th>       <td> 3.917</td> <th>  Durbin-Watson:     </th> <td>   2.293</td>\n",
       "</tr>\n",
       "<tr>\n",
       "  <th>Prob(Omnibus):</th> <td> 0.141</td> <th>  Jarque-Bera (JB):  </th> <td>   3.364</td>\n",
       "</tr>\n",
       "<tr>\n",
       "  <th>Skew:</th>          <td> 0.298</td> <th>  Prob(JB):          </th> <td>   0.186</td>\n",
       "</tr>\n",
       "<tr>\n",
       "  <th>Kurtosis:</th>      <td> 3.995</td> <th>  Cond. No.          </th> <td>    31.6</td>\n",
       "</tr>\n",
       "</table>"
      ],
      "text/plain": [
       "<class 'statsmodels.iolib.summary.Summary'>\n",
       "\"\"\"\n",
       "                            OLS Regression Results                            \n",
       "==============================================================================\n",
       "Dep. Variable:               GEBNrets   R-squared:                       0.289\n",
       "Model:                            OLS   Adj. R-squared:                  0.277\n",
       "Method:                 Least Squares   F-statistic:                     23.61\n",
       "Date:                Thu, 14 Sep 2017   Prob (F-statistic):           9.33e-06\n",
       "Time:                        10:18:59   Log-Likelihood:                 107.70\n",
       "No. Observations:                  60   AIC:                            -211.4\n",
       "Df Residuals:                      58   BIC:                            -207.2\n",
       "Df Model:                           1                                         \n",
       "Covariance Type:            nonrobust                                         \n",
       "==============================================================================\n",
       "                 coef    std err          t      P>|t|      [0.025      0.975]\n",
       "------------------------------------------------------------------------------\n",
       "const          0.0094      0.005      1.739      0.087      -0.001       0.020\n",
       "SMIrets        0.8115      0.167      4.859      0.000       0.477       1.146\n",
       "==============================================================================\n",
       "Omnibus:                        3.917   Durbin-Watson:                   2.293\n",
       "Prob(Omnibus):                  0.141   Jarque-Bera (JB):                3.364\n",
       "Skew:                           0.298   Prob(JB):                        0.186\n",
       "Kurtosis:                       3.995   Cond. No.                         31.6\n",
       "==============================================================================\n",
       "\n",
       "Warnings:\n",
       "[1] Standard Errors assume that the covariance matrix of the errors is correctly specified.\n",
       "\"\"\""
      ]
     },
     "execution_count": 16,
     "metadata": {},
     "output_type": "execute_result"
    }
   ],
   "source": [
    "# Create OLS object, run regression and calculate fit\n",
    "regBeta = sm.OLS(endog=dfRets.iloc[:, 0], \n",
    "                 exog=sm.add_constant(dfRets.iloc[:, 1])).fit()\n",
    "\n",
    "# Show table on coefficients\n",
    "regBeta.summary()"
   ]
  },
  {
   "cell_type": "markdown",
   "metadata": {},
   "source": [
    "Based on the regression output we have no reason to reject the null of Geberit's stock beta being equal to zero. The $R^2$ measure, though, shows that only a small amount of the variation in Geberits monthly returns is explained by SMI's monthly returns."
   ]
  },
  {
   "cell_type": "code",
   "execution_count": 17,
   "metadata": {
    "collapsed": false
   },
   "outputs": [
    {
     "data": {
      "image/png": "[encoded data removed]",
      "text/plain": [
       "<matplotlib.figure.Figure at 0x2447ce01320>"
      ]
     },
     "metadata": {},
     "output_type": "display_data"
    }
   ],
   "source": [
    "# Get relevant information\n",
    "beta = regBeta.params['SMIrets']\n",
    "alpha = regBeta.params[\"const\"]\n",
    "rsqr = regBeta.rsquared\n",
    "\n",
    "# Plot scatter & lm; add text with alpha, beta , R2\n",
    "plt.figure(figsize=(8,5))\n",
    "plt.scatter(dfRets.SMIrets, dfRets.GEBNrets, marker='.', \n",
    "            label='Monthly Returns')\n",
    "plt.plot(dfRets.SMIrets, regBeta.fittedvalues, c='k', label='Fit')\n",
    "plt.ylabel('Geberit Monthly Returns', fontsize=12)\n",
    "plt.xlabel('SMI Monthly Returns', fontsize=12)\n",
    "plt.legend(loc='lower right', fontsize=12)\n",
    "plt.text(-0.07, 0.13, 'Beta: {0: .2f}'.format(beta), fontsize=12)\n",
    "plt.text(-0.07, 0.115, 'Alpha: {0: .2f}'.format(alpha), fontsize=12)\n",
    "plt.text(-0.07, 0.10, 'R^2: {0: .2f}'.format(rsqr), fontsize=12);"
   ]
  },
  {
   "cell_type": "markdown",
   "metadata": {},
   "source": [
    "What we calculated above is often referred to as the raw beta. The beta value of a stock has been found to be on average closer to the mean value of 1.0, the beta of an average-systematic-risk portfolio, than to the value of the raw beta (Pinto et al. (2016)). This is why data providers such as Bloomberg publish the adjusted beta as first introduced by Blume (1971), which is calculated as \n",
    "\n",
    "$$ \\text{Adjusted beta} = 2/3 \\cdot \\text{raw beta} + 1/3 \\cdot 1$$\n",
    "\n",
    "Now, lets assume we're given the task to investigate whether a beta indeed regresses to 1 over time. For that we could, as a starting point, assess a stock's rolling beta over the past years. Note that this is just an example of use. Computationally it would be much faster to calculate the stock beta via the covariance/variance formula."
   ]
  },
  {
   "cell_type": "code",
   "execution_count": 18,
   "metadata": {
    "collapsed": true
   },
   "outputs": [],
   "source": [
    "def rollingBeta(df, window=60):\n",
    "    \n",
    "    '''Calculates the running beta of a stock.\n",
    "    \n",
    "    Parameters\n",
    "    ==========\n",
    "    df : [n x 2] pandas dataframe with log-returns for\n",
    "        stock and market portfolio. Index should be\n",
    "        datetime series.\n",
    "    window : rolling window with default value 60 [optional]\n",
    "        \n",
    "    Returns\n",
    "    =======\n",
    "    rb : Pandas dataframe with (backward-looking) rolling beta. \n",
    "    '''\n",
    "    \n",
    "    # Drop NA rows from df\n",
    "    df = df.dropna()\n",
    "    # Set up empty results array\n",
    "    res = np.empty(len(df) - window + 1)\n",
    "    \n",
    "    # Loop through df\n",
    "    for i in range(0, len(df)):\n",
    "        \n",
    "        # As long as remaining subset is >= window, we proceed\n",
    "        if (len(df) - i) >= window:\n",
    "            \n",
    "            # Subset df\n",
    "            sub = df.iloc[i:window+i, :]\n",
    "            # Run Regression\n",
    "            model = sm.OLS(endog=sub.iloc[:, 0],\n",
    "                           exog=sm.add_constant(sub.iloc[:, 1])).fit()\n",
    "            # Read out beta coefficient\n",
    "            res[i] = model.params[1]\n",
    "    \n",
    "    # Format output to dataframe\n",
    "    rb = pd.DataFrame(data=res, index=df.index[:(len(df)-window+1)])\n",
    "    rb.columns = ['RollingBeta']\n",
    "    \n",
    "    return rb"
   ]
  },
  {
   "cell_type": "code",
   "execution_count": 19,
   "metadata": {
    "collapsed": false
   },
   "outputs": [],
   "source": [
    "# Call function and save output to 'rollBeta'\n",
    "rollBeta = rollingBeta(df=df.iloc[:, 2:4], window=24)"
   ]
  },
  {
   "cell_type": "code",
   "execution_count": 20,
   "metadata": {
    "collapsed": false,
    "scrolled": true
   },
   "outputs": [
    {
     "data": {
      "image/png": "[encoded data removed]",
      "text/plain": [
       "<matplotlib.figure.Figure at 0x2447cddea90>"
      ]
     },
     "metadata": {},
     "output_type": "display_data"
    }
   ],
   "source": [
    "# Import 'mdates' to format dates in x-axis\n",
    "import matplotlib.dates as mdates\n",
    "\n",
    "# Plot rolling beta\n",
    "fig, ax = plt.subplots(1, figsize=(10,4))\n",
    "ax.plot(rollBeta, label='Geberit Rolling Beta')\n",
    "ax.axhline(y=1, c='gray', linestyle=':')  # Horizontal line\n",
    "ax.legend(fontsize=12)\n",
    "ax.xaxis.set_major_locator(mdates.MonthLocator(interval=6))\n",
    "ax.xaxis.set_major_formatter(mdates.DateFormatter('%m-%Y'))\n",
    "fig.autofmt_xdate();  # Autorotate x-axis for readability"
   ]
  },
  {
   "cell_type": "markdown",
   "metadata": {},
   "source": [
    " "
   ]
  },
  {
   "cell_type": "markdown",
   "metadata": {},
   "source": [
    "# Multiple Linear Regression"
   ]
  },
  {
   "cell_type": "markdown",
   "metadata": {
    "collapsed": true
   },
   "source": [
    "## Estimating the Regression Coefficients\n",
    "\n",
    "Simple linear regression serves well to introduce the concept and to build a good understanding. However, in reality we often have to work with more than one predictor. In the advertising data set for example we had not only data on TV advertising spendings but also on radio newspaper. It thus makes sense to extend the simple to a multiple linear regression model.\n",
    "\n",
    "We again use the Advertising data set to see how this is done in Python. The same functions from the `statsmodels` package apply to multiple linear regression. We run the following regression\n",
    "\n",
    "$$\\text{sales} = \\beta_0 + \\beta_1 \\text{TV} + \\beta_2 \\text{radio} + \\beta_3 \\text{newspaper} + \\epsilon$$"
   ]
  },
  {
   "cell_type": "code",
   "execution_count": 21,
   "metadata": {
    "collapsed": false
   },
   "outputs": [],
   "source": [
    "# Assign features and response to X and y\n",
    "y = ad.sales\n",
    "X = ad[['TV', 'radio', 'newspaper']]\n",
    "X = sm.add_constant(X)"
   ]
  },
  {
   "cell_type": "code",
   "execution_count": 22,
   "metadata": {
    "collapsed": false
   },
   "outputs": [
    {
     "name": "stdout",
     "output_type": "stream",
     "text": [
      "                            OLS Regression Results                            \n",
      "==============================================================================\n",
      "Dep. Variable:                  sales   R-squared:                       0.897\n",
      "Model:                            OLS   Adj. R-squared:                  0.896\n",
      "Method:                 Least Squares   F-statistic:                     570.3\n",
      "Date:                Thu, 14 Sep 2017   Prob (F-statistic):           1.58e-96\n",
      "Time:                        10:19:00   Log-Likelihood:                -386.18\n",
      "No. Observations:                 200   AIC:                             780.4\n",
      "Df Residuals:                     196   BIC:                             793.6\n",
      "Df Model:                           3                                         \n",
      "Covariance Type:            nonrobust                                         \n",
      "==============================================================================\n",
      "                 coef    std err          t      P>|t|      [0.025      0.975]\n",
      "------------------------------------------------------------------------------\n",
      "const          2.9389      0.312      9.422      0.000       2.324       3.554\n",
      "TV             0.0458      0.001     32.809      0.000       0.043       0.049\n",
      "radio          0.1885      0.009     21.893      0.000       0.172       0.206\n",
      "newspaper     -0.0010      0.006     -0.177      0.860      -0.013       0.011\n",
      "==============================================================================\n",
      "Omnibus:                       60.414   Durbin-Watson:                   2.084\n",
      "Prob(Omnibus):                  0.000   Jarque-Bera (JB):              151.241\n",
      "Skew:                          -1.327   Prob(JB):                     1.44e-33\n",
      "Kurtosis:                       6.332   Cond. No.                         454.\n",
      "==============================================================================\n",
      "\n",
      "Warnings:\n",
      "[1] Standard Errors assume that the covariance matrix of the errors is correctly specified.\n"
     ]
    }
   ],
   "source": [
    "# Run regression and print summary\n",
    "mlReg = sm.OLS(endog=y, exog=X).fit()\n",
    "print(mlReg.summary())"
   ]
  },
  {
   "cell_type": "markdown",
   "metadata": {},
   "source": [
    "Again: If you are the `R` guy and prefer their syntax, you could import the statsmodels.formula.api subpackage and run something like:\n",
    "\n",
    "`from statsmodels.formula.api import ols\n",
    "mlReg = ols(\"Sales ~ TV + radio + newspaper\", data=ad).fit()\n",
    "mlReg.summary()`"
   ]
  },
  {
   "cell_type": "markdown",
   "metadata": {},
   "source": [
    "## Hypothesis Tests\n",
    "\n",
    "Again the summary above provides $t$-statistic and p-value for each individual regression coefficient. As was the case for the simple linear regression, the underlying null hypothesis is that each parameter is zero ($H_0: \\beta_{j,\\, H_0} = 0$). For TV and Radio we reject the null even at the 1% significance level. However, given the large p-value for Newspaper we fail to reject the null for $\\beta_{\\text{Newspaper}} = 0$ at any reasonable level. Thus we can conclude that leaving Newspaper data out might be a reasonable option. If other null hypothesis' ought to be tested, we can use the same command as shown in the simple linear model."
   ]
  },
  {
   "cell_type": "code",
   "execution_count": 23,
   "metadata": {
    "collapsed": false
   },
   "outputs": [
    {
     "data": {
      "text/plain": [
       "<class 'statsmodels.stats.contrast.ContrastResults'>\n",
       "                             Test for Constraints                             \n",
       "==============================================================================\n",
       "                 coef    std err          t      P>|t|      [0.025      0.975]\n",
       "------------------------------------------------------------------------------\n",
       "c0             0.0458      0.001     -1.244      0.215       0.043       0.049\n",
       "=============================================================================="
      ]
     },
     "execution_count": 23,
     "metadata": {},
     "output_type": "execute_result"
    }
   ],
   "source": [
    "# t-test on H0: beta(TV) = 0.0475\n",
    "mlReg.t_test('TV=0.0475')"
   ]
  },
  {
   "cell_type": "markdown",
   "metadata": {},
   "source": [
    "The output shows that we fail to reject the null hypothesis that $\\beta_{TV} = 0.0475$.\n",
    "\n",
    "\n",
    "Beyond the element-wise hypothesis tests the regression summary also provides the **F-statistic** (and the corresponding p-value) on the combined hypothesis that \n",
    "\n",
    "$$\\begin{align}\n",
    "H_0&: \\quad \\beta_j = \\beta_1, \\beta_2, \\ldots \\beta_p = 0 \\\\\n",
    "H_a&: \\quad \\beta_j \\neq 0 \\text{ for at least one $j$}\n",
    "\\end{align}$$\n",
    "\n",
    "On the basis of the corresponding p-value we can reject the null on any reasonable significance level. Should we be interested in assessing a particular hypothesis, say \n",
    "\n",
    "$$\\begin{align}\n",
    "H_0&: \\quad \\beta_{TV} = \\beta_{\\text{Radio}} \\\\\n",
    "H_a&: \\quad \\beta_{TV} \\neq \\beta_{\\text{Radio}}\n",
    "\\end{align}$$\n",
    "we use the `.f_test()` method. \n"
   ]
  },
  {
   "cell_type": "code",
   "execution_count": 24,
   "metadata": {
    "collapsed": false,
    "scrolled": true
   },
   "outputs": [
    {
     "data": {
      "text/plain": [
       "<class 'statsmodels.stats.contrast.ContrastResults'>\n",
       "<F test: F=array([[ 126.9935335]]), p=1.0186277412639764e-45, df_denom=196, df_num=3>"
      ]
     },
     "execution_count": 24,
     "metadata": {},
     "output_type": "execute_result"
    }
   ],
   "source": [
    "# Test H0: beta(radio) = beta(newspaper) = 0\n",
    "mlReg.f_test('const = radio = newspaper = 0.1')"
   ]
  },
  {
   "cell_type": "markdown",
   "metadata": {},
   "source": [
    "See the [documentation page](http://www.statsmodels.org/dev/generated/statsmodels.regression.linear_model.RegressionResults.f_test.html) for further examples on how this function can be used."
   ]
  },
  {
   "cell_type": "markdown",
   "metadata": {},
   "source": [
    "### Coefficient of Determination\n",
    "\n",
    "The $R^2$ measure for the MLR is the same as for the SLR. However, in the case of MLR it has one drawback: the value will always increase when more explanatory variables are added to the model - even if those variables are only weakly associated with the response. To make good on this disadvantage a modificated measure is often used: **adjusted $R^2$**.\n",
    "\n",
    "$$\\begin{equation}\n",
    "R^2_{adj} = 1 - (1-R^2) \\frac{n-1}{n-p-1}\n",
    "\\end{equation}$$\n",
    "\n",
    "To get this measure in Python, simply use the OLS object and call the `.rsquareed_adj` attribute."
   ]
  },
  {
   "cell_type": "code",
   "execution_count": 25,
   "metadata": {
    "collapsed": false,
    "scrolled": true
   },
   "outputs": [
    {
     "data": {
      "text/plain": [
       "<class 'statsmodels.stats.contrast.ContrastResults'>\n",
       "<F test: F=array([[ 570.27070366]]), p=1.575227256093874e-96, df_denom=196, df_num=3>"
      ]
     },
     "execution_count": 25,
     "metadata": {},
     "output_type": "execute_result"
    }
   ],
   "source": [
    "mlReg.f_test('TV=radio=newspaper=0')"
   ]
  },
  {
   "cell_type": "markdown",
   "metadata": {},
   "source": [
    " "
   ]
  },
  {
   "cell_type": "markdown",
   "metadata": {},
   "source": [
    "## Application: Factor Models\n",
    "\n"
   ]
  },
  {
   "cell_type": "markdown",
   "metadata": {},
   "source": [
    "### Fama-French Three Factor Model\n",
    "\n",
    "We will apply the concept of multiple linear regression in the context of Fama-French's three factor model (Fama and French (1993)). Their model follows Ross' arbitrage pricinge theory which postulates that excess returns are linearly related to a set of systematic risk factors (Ross et al. (1973)). The factors can be returns on other assets, such as the market portfolio, or any other variable (e.g. interest rates, inflation, consumption growth, market sentiment, hedging demands etc.. Fama-French empirically discovered three factors to capture the systematic risk: firm size, book-to-market ratio (B/M) and market risk. To quantify their findings, Fama-French constructed zero-net-investment factor portfolios capturing the systematic risk on firm size ('mall minus big' (SMB), i.e. long on small and short on big size stocks) and B/M ('high minus low' (HML), i.e. long on high B/M, short on low B/M stocks). For details on how these portfolios are constructed see e.g. Bodie et al. (2014). The third factor, market risk, is simply the excess return on a well diversified market portfolio. \n",
    "\n",
    "With that, the sensitivity of individual stocks to the three factors is given by the estimated coefficients of a multiple linear regression. As a group they predict the total risk premium. The expected excess return $R_{it}$ of asset $i$ at time $t$ in the Fama-French three-factor model is described by\n",
    "\n",
    "$$\\begin{equation}\n",
    "R_{it} = \\alpha_i + \\beta_i^{M} (r_{M,t} - r_{f,t}) + \\beta_i^{SMB} SMB_t + \\beta_i^{HML} HML_t + \\epsilon_{it}\n",
    "\\end{equation}$$"
   ]
  },
  {
   "cell_type": "markdown",
   "metadata": {},
   "source": [
    "The above Fama-French factors are calculated on a monthly basis and published on [Kenneth R. French's website](http://mba.tuck.dartmouth.edu/pages/faculty/ken.french/data_library.html). There you will also find information on the methodology of the model and lots of other possible factors. To run this regression in Python we use a shortcut. The `pandas_datareader` package is capable of loading the data without having to download a txt or csv file in a separate step. \n",
    "\n",
    "We will calculate the factor beta for all 20 SMI stocks. For that we use Fama-French's 'European 3 Factors' data. Following our 'Stock Beta' example from above, the risk free rate for Switzerland is again assumed to be zero over the past 5 years."
   ]
  },
  {
   "cell_type": "markdown",
   "metadata": {
    "collapsed": true
   },
   "source": [
    "### Load Fama-French Data\n",
    "We start by importing the `pandas_datareader.data` package and defining some key parameter."
   ]
  },
  {
   "cell_type": "code",
   "execution_count": 26,
   "metadata": {
    "collapsed": true
   },
   "outputs": [],
   "source": [
    "import pandas_datareader as web\n",
    "\n",
    "# Define obs. period, start & enddate\n",
    "months = 60\n",
    "startdate = '2012-06-01'\n",
    "enddate   = '2017-06-30'"
   ]
  },
  {
   "cell_type": "markdown",
   "metadata": {},
   "source": [
    "** Side Note: ** If you want to know what data is available (and their labels), you can run the `get_available_datasets()` function.\n",
    "\n",
    "`from pandas_datareader.famafrench import get_available_datasets\n",
    "get_available_datasets()`\n",
    "\n",
    "or simply check [Kenneth R. French's website](http://mba.tuck.dartmouth.edu/pages/faculty/ken.french/data_library.html)"
   ]
  },
  {
   "cell_type": "code",
   "execution_count": 27,
   "metadata": {
    "collapsed": false,
    "scrolled": true
   },
   "outputs": [],
   "source": [
    "# Load FF factors \n",
    "data = web.DataReader('Europe_3_Factors', data_source='famafrench',\n",
    "                      start=startdate, end=enddate)"
   ]
  },
  {
   "cell_type": "markdown",
   "metadata": {},
   "source": [
    "Variable `data` is a dictionary with three entries: monhtly data, annual data and a description. We select the monthly rates in dictionary 0 and format the data."
   ]
  },
  {
   "cell_type": "code",
   "execution_count": 28,
   "metadata": {
    "collapsed": false,
    "scrolled": false
   },
   "outputs": [
    {
     "name": "stdout",
     "output_type": "stream",
     "text": [
      "         Mkt-RF     SMB     HML      RF\n",
      "Date                                   \n",
      "2017-06 -0.0066  0.0166  0.0202  0.0006\n",
      "2017-05  0.0504 -0.0010 -0.0075  0.0006\n",
      "2017-04  0.0463  0.0180 -0.0141  0.0005\n"
     ]
    }
   ],
   "source": [
    "# Select monthly data\n",
    "ff = data[0]\n",
    "\n",
    "# Sort data in descending order\n",
    "ff = ff.sort_index(ascending=False)\n",
    "\n",
    "# Convert returns to decimal percentages\n",
    "ff = ff/100\n",
    "print(ff.head(3))"
   ]
  },
  {
   "cell_type": "markdown",
   "metadata": {},
   "source": [
    "###  Get SMI Tickers\n",
    "\n",
    "To get a list of all 20 smi stock tickers we could of course manually write a list. But what if we want to scale our calculations to all SPI stocks? Or to stocks from a particular industry sector? My humble opinion is: manual work is not the answer. It is error prone and irreproducible. Hence we use the 'issuer list' [from the SWX website](https://www.six-swiss-exchange.com/shares/companies/issuer_list_en.html). Data is provided in html and csv format. We load the csv and in the next steps we extract the data we want."
   ]
  },
  {
   "cell_type": "code",
   "execution_count": 29,
   "metadata": {
    "collapsed": false,
    "scrolled": false
   },
   "outputs": [
    {
     "name": "stdout",
     "output_type": "stream",
     "text": [
      "(259, 15)\n"
     ]
    },
    {
     "data": {
      "text/html": [
       "<div>\n",
       "<style>\n",
       "    .dataframe thead tr:only-child th {\n",
       "        text-align: right;\n",
       "    }\n",
       "\n",
       "    .dataframe thead th {\n",
       "        text-align: left;\n",
       "    }\n",
       "\n",
       "    .dataframe tbody tr th {\n",
       "        vertical-align: top;\n",
       "    }\n",
       "</style>\n",
       "<table border=\"1\" class=\"dataframe\">\n",
       "  <thead>\n",
       "    <tr style=\"text-align: right;\">\n",
       "      <th></th>\n",
       "      <th>Company</th>\n",
       "      <th>Symbol</th>\n",
       "      <th>Valor Number</th>\n",
       "      <th>Country</th>\n",
       "      <th>Traded Currency</th>\n",
       "      <th>Trading platform</th>\n",
       "      <th>Index-member</th>\n",
       "      <th>Class of Share</th>\n",
       "      <th>Nominal Value</th>\n",
       "      <th>Industry Sector</th>\n",
       "      <th>Listing Segment</th>\n",
       "      <th>Accounting Rules</th>\n",
       "      <th>Next General Meeting</th>\n",
       "      <th>Primary listing</th>\n",
       "      <th>Unnamed: 14</th>\n",
       "    </tr>\n",
       "  </thead>\n",
       "  <tbody>\n",
       "    <tr>\n",
       "      <th>0</th>\n",
       "      <td>3M Company</td>\n",
       "      <td>MMM</td>\n",
       "      <td>1405105</td>\n",
       "      <td>US</td>\n",
       "      <td>CHF</td>\n",
       "      <td>XSWX</td>\n",
       "      <td></td>\n",
       "      <td>RS</td>\n",
       "      <td>0.00</td>\n",
       "      <td></td>\n",
       "      <td>International Reporting Standard</td>\n",
       "      <td></td>\n",
       "      <td></td>\n",
       "      <td>false</td>\n",
       "      <td>NaN</td>\n",
       "    </tr>\n",
       "    <tr>\n",
       "      <th>1</th>\n",
       "      <td>5EL SA</td>\n",
       "      <td>FEL</td>\n",
       "      <td>632685</td>\n",
       "      <td>CH</td>\n",
       "      <td>CHF</td>\n",
       "      <td>XSWX</td>\n",
       "      <td></td>\n",
       "      <td>BS</td>\n",
       "      <td>3.50</td>\n",
       "      <td>General Financial</td>\n",
       "      <td>Swiss Reporting Standard</td>\n",
       "      <td>Swiss GAAP FER</td>\n",
       "      <td></td>\n",
       "      <td>true</td>\n",
       "      <td>NaN</td>\n",
       "    </tr>\n",
       "    <tr>\n",
       "      <th>2</th>\n",
       "      <td>ABB Ltd</td>\n",
       "      <td>ABBN</td>\n",
       "      <td>1222171</td>\n",
       "      <td>CH</td>\n",
       "      <td>CHF</td>\n",
       "      <td>XSWX</td>\n",
       "      <td>SMI,SPI,SLCI,SMIEXP,SLI</td>\n",
       "      <td>RS</td>\n",
       "      <td>0.12</td>\n",
       "      <td>Industrial Engineering</td>\n",
       "      <td>International Reporting Standard</td>\n",
       "      <td>US GAAP</td>\n",
       "      <td></td>\n",
       "      <td>true</td>\n",
       "      <td>NaN</td>\n",
       "    </tr>\n",
       "  </tbody>\n",
       "</table>\n",
       "</div>"
      ],
      "text/plain": [
       "      Company  Symbol   Valor Number  Country  Traded Currency  \\\n",
       "0  3M Company     MMM        1405105       US              CHF   \n",
       "1      5EL SA     FEL         632685       CH              CHF   \n",
       "2     ABB Ltd    ABBN        1222171       CH              CHF   \n",
       "\n",
       "   Trading platform              Index-member  Class of Share   Nominal Value  \\\n",
       "0              XSWX                                        RS            0.00   \n",
       "1              XSWX                                        BS            3.50   \n",
       "2              XSWX   SMI,SPI,SLCI,SMIEXP,SLI              RS            0.12   \n",
       "\n",
       "           Industry Sector                    Listing Segment  \\\n",
       "0                            International Reporting Standard   \n",
       "1        General Financial           Swiss Reporting Standard   \n",
       "2   Industrial Engineering   International Reporting Standard   \n",
       "\n",
       "   Accounting Rules  Next General Meeting  Primary listing  Unnamed: 14  \n",
       "0                                                    false          NaN  \n",
       "1    Swiss GAAP FER                                   true          NaN  \n",
       "2           US GAAP                                   true          NaN  "
      ]
     },
     "execution_count": 29,
     "metadata": {},
     "output_type": "execute_result"
    }
   ],
   "source": [
    "# Load csv file from url\n",
    "url = 'https://www.six-swiss-exchange.com/shares/companies/download/issuers_all_en.csv'\n",
    "swx = pd.read_csv(url, sep=';', encoding='latin-1')\n",
    "print(swx.shape)\n",
    "swx.head(3)"
   ]
  },
  {
   "cell_type": "markdown",
   "metadata": {},
   "source": [
    "For whatever reason SWX screwed up in creating the file. There are somehow leading white spaces all over the place, in particular in the header. This is never a good thing to have so we get rid of it. "
   ]
  },
  {
   "cell_type": "code",
   "execution_count": 30,
   "metadata": {
    "collapsed": false,
    "scrolled": true
   },
   "outputs": [
    {
     "data": {
      "text/plain": [
       "array(['Company', ' Symbol', ' Valor Number', ' Country',\n",
       "       ' Traded Currency', ' Trading platform', ' Index-member',\n",
       "       ' Class of Share', ' Nominal Value', ' Industry Sector',\n",
       "       ' Listing Segment', ' Accounting Rules', ' Next General Meeting',\n",
       "       ' Primary listing', 'Unnamed: 14'], dtype=object)"
      ]
     },
     "execution_count": 30,
     "metadata": {},
     "output_type": "execute_result"
    }
   ],
   "source": [
    "swx.columns.values"
   ]
  },
  {
   "cell_type": "code",
   "execution_count": 31,
   "metadata": {
    "collapsed": false,
    "scrolled": false
   },
   "outputs": [
    {
     "data": {
      "text/plain": [
       "array(['Company', 'Symbol', 'Valor Number', 'Country', 'Traded Currency',\n",
       "       'Trading platform', 'Index-member', 'Class of Share',\n",
       "       'Nominal Value', 'Industry Sector', 'Listing Segment',\n",
       "       'Accounting Rules', 'Next General Meeting', 'Primary listing',\n",
       "       'Unnamed: 14'], dtype=object)"
      ]
     },
     "execution_count": 31,
     "metadata": {},
     "output_type": "execute_result"
    }
   ],
   "source": [
    "swx.rename(columns=lambda x: x.strip(),inplace=True)\n",
    "swx.columns.values"
   ]
  },
  {
   "cell_type": "markdown",
   "metadata": {},
   "source": [
    "From the above extract we see that we are interested in those `Symbol`s where `Index-member` contains `SMI,`. Notice the comma. `SMI` would not be enough as there are also other index names containing SMI (e.g. SMIEXP, SMIM, etc.) "
   ]
  },
  {
   "cell_type": "code",
   "execution_count": 32,
   "metadata": {
    "collapsed": false,
    "scrolled": true
   },
   "outputs": [],
   "source": [
    "cond = 'SMI,'\n",
    "tickers = swx[swx['Index-member'].str.contains(cond)]\n",
    "tickers = tickers['Symbol']"
   ]
  },
  {
   "cell_type": "code",
   "execution_count": 33,
   "metadata": {
    "collapsed": false
   },
   "outputs": [
    {
     "data": {
      "text/plain": [
       "' ABBN'"
      ]
     },
     "execution_count": 33,
     "metadata": {},
     "output_type": "execute_result"
    }
   ],
   "source": [
    "tickers.iloc[0]"
   ]
  },
  {
   "cell_type": "markdown",
   "metadata": {},
   "source": [
    "Here again we have leading white spaces in the ticker symbols. We delete them."
   ]
  },
  {
   "cell_type": "code",
   "execution_count": 34,
   "metadata": {
    "collapsed": false
   },
   "outputs": [
    {
     "data": {
      "text/plain": [
       "'ABBN'"
      ]
     },
     "execution_count": 34,
     "metadata": {},
     "output_type": "execute_result"
    }
   ],
   "source": [
    "tickers = tickers.str.strip()\n",
    "tickers.iloc[0]"
   ]
  },
  {
   "cell_type": "markdown",
   "metadata": {},
   "source": [
    "Now we can concatenate the Symbols with the letters 'VTX:' to get google finance's tickers."
   ]
  },
  {
   "cell_type": "code",
   "execution_count": 35,
   "metadata": {
    "collapsed": false,
    "scrolled": true
   },
   "outputs": [
    {
     "name": "stdout",
     "output_type": "stream",
     "text": [
      "2     VTX:ABBN\n",
      "7     VTX:ADEN\n",
      "72     VTX:CFR\n",
      "Name: Symbol, dtype: object\n",
      "(20,)\n"
     ]
    }
   ],
   "source": [
    "tickers = 'VTX:'+tickers\n",
    "print(tickers.head(3))\n",
    "print(tickers.shape)"
   ]
  },
  {
   "cell_type": "markdown",
   "metadata": {},
   "source": [
    "### Load Stock Prices\n",
    "\n",
    "Now we're finally in a position to load the data from google finance."
   ]
  },
  {
   "cell_type": "code",
   "execution_count": 36,
   "metadata": {
    "collapsed": false,
    "scrolled": true
   },
   "outputs": [
    {
     "data": {
      "text/html": [
       "<div>\n",
       "<style>\n",
       "    .dataframe thead tr:only-child th {\n",
       "        text-align: right;\n",
       "    }\n",
       "\n",
       "    .dataframe thead th {\n",
       "        text-align: left;\n",
       "    }\n",
       "\n",
       "    .dataframe tbody tr th {\n",
       "        vertical-align: top;\n",
       "    }\n",
       "</style>\n",
       "<table border=\"1\" class=\"dataframe\">\n",
       "  <thead>\n",
       "    <tr style=\"text-align: right;\">\n",
       "      <th></th>\n",
       "      <th>VTX:ABBN</th>\n",
       "      <th>VTX:ADEN</th>\n",
       "      <th>VTX:CFR</th>\n",
       "      <th>VTX:CSGN</th>\n",
       "      <th>VTX:GEBN</th>\n",
       "      <th>VTX:GIVN</th>\n",
       "      <th>VTX:BAER</th>\n",
       "      <th>VTX:LHN</th>\n",
       "      <th>VTX:LONN</th>\n",
       "      <th>VTX:NESN</th>\n",
       "      <th>VTX:NOVN</th>\n",
       "      <th>VTX:ROG</th>\n",
       "      <th>VTX:SGSN</th>\n",
       "      <th>VTX:SIK</th>\n",
       "      <th>VTX:SLHN</th>\n",
       "      <th>VTX:SREN</th>\n",
       "      <th>VTX:SCMN</th>\n",
       "      <th>VTX:UHR</th>\n",
       "      <th>VTX:UBSG</th>\n",
       "      <th>VTX:ZURN</th>\n",
       "    </tr>\n",
       "    <tr>\n",
       "      <th>Date</th>\n",
       "      <th></th>\n",
       "      <th></th>\n",
       "      <th></th>\n",
       "      <th></th>\n",
       "      <th></th>\n",
       "      <th></th>\n",
       "      <th></th>\n",
       "      <th></th>\n",
       "      <th></th>\n",
       "      <th></th>\n",
       "      <th></th>\n",
       "      <th></th>\n",
       "      <th></th>\n",
       "      <th></th>\n",
       "      <th></th>\n",
       "      <th></th>\n",
       "      <th></th>\n",
       "      <th></th>\n",
       "      <th></th>\n",
       "      <th></th>\n",
       "    </tr>\n",
       "  </thead>\n",
       "  <tbody>\n",
       "    <tr>\n",
       "      <th>2012-06-01</th>\n",
       "      <td>15.13</td>\n",
       "      <td>36.87</td>\n",
       "      <td>52.0</td>\n",
       "      <td>18.48</td>\n",
       "      <td>184.9</td>\n",
       "      <td>898.5</td>\n",
       "      <td>30.71</td>\n",
       "      <td>48.19</td>\n",
       "      <td>34.00</td>\n",
       "      <td>54.55</td>\n",
       "      <td>49.97</td>\n",
       "      <td>150.0</td>\n",
       "      <td>1708.0</td>\n",
       "      <td>1761.0</td>\n",
       "      <td>75.85</td>\n",
       "      <td>54.05</td>\n",
       "      <td>352.0</td>\n",
       "      <td>355.9</td>\n",
       "      <td>NaN</td>\n",
       "      <td>197.1</td>\n",
       "    </tr>\n",
       "    <tr>\n",
       "      <th>2012-06-04</th>\n",
       "      <td>14.93</td>\n",
       "      <td>36.33</td>\n",
       "      <td>51.0</td>\n",
       "      <td>18.38</td>\n",
       "      <td>181.6</td>\n",
       "      <td>881.5</td>\n",
       "      <td>30.15</td>\n",
       "      <td>47.21</td>\n",
       "      <td>32.81</td>\n",
       "      <td>54.20</td>\n",
       "      <td>49.49</td>\n",
       "      <td>149.2</td>\n",
       "      <td>1687.0</td>\n",
       "      <td>1746.0</td>\n",
       "      <td>75.85</td>\n",
       "      <td>52.55</td>\n",
       "      <td>348.9</td>\n",
       "      <td>350.1</td>\n",
       "      <td>NaN</td>\n",
       "      <td>194.2</td>\n",
       "    </tr>\n",
       "    <tr>\n",
       "      <th>2012-06-05</th>\n",
       "      <td>14.99</td>\n",
       "      <td>36.47</td>\n",
       "      <td>51.8</td>\n",
       "      <td>18.49</td>\n",
       "      <td>181.8</td>\n",
       "      <td>881.5</td>\n",
       "      <td>30.20</td>\n",
       "      <td>47.53</td>\n",
       "      <td>32.92</td>\n",
       "      <td>53.90</td>\n",
       "      <td>49.53</td>\n",
       "      <td>149.4</td>\n",
       "      <td>1692.0</td>\n",
       "      <td>1719.0</td>\n",
       "      <td>76.10</td>\n",
       "      <td>52.20</td>\n",
       "      <td>345.6</td>\n",
       "      <td>352.6</td>\n",
       "      <td>NaN</td>\n",
       "      <td>193.1</td>\n",
       "    </tr>\n",
       "  </tbody>\n",
       "</table>\n",
       "</div>"
      ],
      "text/plain": [
       "            VTX:ABBN  VTX:ADEN  VTX:CFR  VTX:CSGN  VTX:GEBN  VTX:GIVN  \\\n",
       "Date                                                                    \n",
       "2012-06-01     15.13     36.87     52.0     18.48     184.9     898.5   \n",
       "2012-06-04     14.93     36.33     51.0     18.38     181.6     881.5   \n",
       "2012-06-05     14.99     36.47     51.8     18.49     181.8     881.5   \n",
       "\n",
       "            VTX:BAER  VTX:LHN  VTX:LONN  VTX:NESN  VTX:NOVN  VTX:ROG  \\\n",
       "Date                                                                   \n",
       "2012-06-01     30.71    48.19     34.00     54.55     49.97    150.0   \n",
       "2012-06-04     30.15    47.21     32.81     54.20     49.49    149.2   \n",
       "2012-06-05     30.20    47.53     32.92     53.90     49.53    149.4   \n",
       "\n",
       "            VTX:SGSN  VTX:SIK  VTX:SLHN  VTX:SREN  VTX:SCMN  VTX:UHR  \\\n",
       "Date                                                                   \n",
       "2012-06-01    1708.0   1761.0     75.85     54.05     352.0    355.9   \n",
       "2012-06-04    1687.0   1746.0     75.85     52.55     348.9    350.1   \n",
       "2012-06-05    1692.0   1719.0     76.10     52.20     345.6    352.6   \n",
       "\n",
       "            VTX:UBSG  VTX:ZURN  \n",
       "Date                            \n",
       "2012-06-01       NaN     197.1  \n",
       "2012-06-04       NaN     194.2  \n",
       "2012-06-05       NaN     193.1  "
      ]
     },
     "execution_count": 36,
     "metadata": {},
     "output_type": "execute_result"
    }
   ],
   "source": [
    "# Download closing prices of defined shares\n",
    "shsPr = pd.DataFrame()\n",
    "for tick in tickers:\n",
    "    shsPr[tick] = web.DataReader(tick, data_source='google', \n",
    "                                 start=startdate, end=enddate)['Close']\n",
    "\n",
    "# Show data extract\n",
    "shsPr.head(3)"
   ]
  },
  {
   "cell_type": "markdown",
   "metadata": {},
   "source": [
    "Due to the changes from UBS AG (UBSN) to UBS Group (UBSG) its stock data on google finance is unfortunately only available back to end of 2014. To fill the missing values, we overwrite the column 'VTX:UBSG' by data from a csv. "
   ]
  },
  {
   "cell_type": "code",
   "execution_count": 37,
   "metadata": {
    "collapsed": false
   },
   "outputs": [
    {
     "data": {
      "text/html": [
       "<div>\n",
       "<style>\n",
       "    .dataframe thead tr:only-child th {\n",
       "        text-align: right;\n",
       "    }\n",
       "\n",
       "    .dataframe thead th {\n",
       "        text-align: left;\n",
       "    }\n",
       "\n",
       "    .dataframe tbody tr th {\n",
       "        vertical-align: top;\n",
       "    }\n",
       "</style>\n",
       "<table border=\"1\" class=\"dataframe\">\n",
       "  <thead>\n",
       "    <tr style=\"text-align: right;\">\n",
       "      <th></th>\n",
       "      <th>VTX:ABBN</th>\n",
       "      <th>VTX:ADEN</th>\n",
       "      <th>VTX:CFR</th>\n",
       "      <th>VTX:CSGN</th>\n",
       "      <th>VTX:GEBN</th>\n",
       "      <th>VTX:GIVN</th>\n",
       "      <th>VTX:BAER</th>\n",
       "      <th>VTX:LHN</th>\n",
       "      <th>VTX:LONN</th>\n",
       "      <th>VTX:NESN</th>\n",
       "      <th>VTX:NOVN</th>\n",
       "      <th>VTX:ROG</th>\n",
       "      <th>VTX:SGSN</th>\n",
       "      <th>VTX:SIK</th>\n",
       "      <th>VTX:SLHN</th>\n",
       "      <th>VTX:SREN</th>\n",
       "      <th>VTX:SCMN</th>\n",
       "      <th>VTX:UHR</th>\n",
       "      <th>VTX:UBSG</th>\n",
       "      <th>VTX:ZURN</th>\n",
       "    </tr>\n",
       "    <tr>\n",
       "      <th>Date</th>\n",
       "      <th></th>\n",
       "      <th></th>\n",
       "      <th></th>\n",
       "      <th></th>\n",
       "      <th></th>\n",
       "      <th></th>\n",
       "      <th></th>\n",
       "      <th></th>\n",
       "      <th></th>\n",
       "      <th></th>\n",
       "      <th></th>\n",
       "      <th></th>\n",
       "      <th></th>\n",
       "      <th></th>\n",
       "      <th></th>\n",
       "      <th></th>\n",
       "      <th></th>\n",
       "      <th></th>\n",
       "      <th></th>\n",
       "      <th></th>\n",
       "    </tr>\n",
       "  </thead>\n",
       "  <tbody>\n",
       "    <tr>\n",
       "      <th>2012-06-01</th>\n",
       "      <td>15.13</td>\n",
       "      <td>36.87</td>\n",
       "      <td>52.0</td>\n",
       "      <td>18.48</td>\n",
       "      <td>184.9</td>\n",
       "      <td>898.5</td>\n",
       "      <td>30.71</td>\n",
       "      <td>48.19</td>\n",
       "      <td>34.00</td>\n",
       "      <td>54.55</td>\n",
       "      <td>49.97</td>\n",
       "      <td>150.0</td>\n",
       "      <td>1708.0</td>\n",
       "      <td>1761.0</td>\n",
       "      <td>75.85</td>\n",
       "      <td>54.05</td>\n",
       "      <td>352.0</td>\n",
       "      <td>355.9</td>\n",
       "      <td>10.90</td>\n",
       "      <td>197.1</td>\n",
       "    </tr>\n",
       "    <tr>\n",
       "      <th>2012-06-04</th>\n",
       "      <td>14.93</td>\n",
       "      <td>36.33</td>\n",
       "      <td>51.0</td>\n",
       "      <td>18.38</td>\n",
       "      <td>181.6</td>\n",
       "      <td>881.5</td>\n",
       "      <td>30.15</td>\n",
       "      <td>47.21</td>\n",
       "      <td>32.81</td>\n",
       "      <td>54.20</td>\n",
       "      <td>49.49</td>\n",
       "      <td>149.2</td>\n",
       "      <td>1687.0</td>\n",
       "      <td>1746.0</td>\n",
       "      <td>75.85</td>\n",
       "      <td>52.55</td>\n",
       "      <td>348.9</td>\n",
       "      <td>350.1</td>\n",
       "      <td>10.69</td>\n",
       "      <td>194.2</td>\n",
       "    </tr>\n",
       "    <tr>\n",
       "      <th>2012-06-05</th>\n",
       "      <td>14.99</td>\n",
       "      <td>36.47</td>\n",
       "      <td>51.8</td>\n",
       "      <td>18.49</td>\n",
       "      <td>181.8</td>\n",
       "      <td>881.5</td>\n",
       "      <td>30.20</td>\n",
       "      <td>47.53</td>\n",
       "      <td>32.92</td>\n",
       "      <td>53.90</td>\n",
       "      <td>49.53</td>\n",
       "      <td>149.4</td>\n",
       "      <td>1692.0</td>\n",
       "      <td>1719.0</td>\n",
       "      <td>76.10</td>\n",
       "      <td>52.20</td>\n",
       "      <td>345.6</td>\n",
       "      <td>352.6</td>\n",
       "      <td>10.70</td>\n",
       "      <td>193.1</td>\n",
       "    </tr>\n",
       "  </tbody>\n",
       "</table>\n",
       "</div>"
      ],
      "text/plain": [
       "            VTX:ABBN  VTX:ADEN  VTX:CFR  VTX:CSGN  VTX:GEBN  VTX:GIVN  \\\n",
       "Date                                                                    \n",
       "2012-06-01     15.13     36.87     52.0     18.48     184.9     898.5   \n",
       "2012-06-04     14.93     36.33     51.0     18.38     181.6     881.5   \n",
       "2012-06-05     14.99     36.47     51.8     18.49     181.8     881.5   \n",
       "\n",
       "            VTX:BAER  VTX:LHN  VTX:LONN  VTX:NESN  VTX:NOVN  VTX:ROG  \\\n",
       "Date                                                                   \n",
       "2012-06-01     30.71    48.19     34.00     54.55     49.97    150.0   \n",
       "2012-06-04     30.15    47.21     32.81     54.20     49.49    149.2   \n",
       "2012-06-05     30.20    47.53     32.92     53.90     49.53    149.4   \n",
       "\n",
       "            VTX:SGSN  VTX:SIK  VTX:SLHN  VTX:SREN  VTX:SCMN  VTX:UHR  \\\n",
       "Date                                                                   \n",
       "2012-06-01    1708.0   1761.0     75.85     54.05     352.0    355.9   \n",
       "2012-06-04    1687.0   1746.0     75.85     52.55     348.9    350.1   \n",
       "2012-06-05    1692.0   1719.0     76.10     52.20     345.6    352.6   \n",
       "\n",
       "            VTX:UBSG  VTX:ZURN  \n",
       "Date                            \n",
       "2012-06-01     10.90     197.1  \n",
       "2012-06-04     10.69     194.2  \n",
       "2012-06-05     10.70     193.1  "
      ]
     },
     "execution_count": 37,
     "metadata": {},
     "output_type": "execute_result"
    }
   ],
   "source": [
    "ubs = pd.read_csv('Data/UBSN_HistShsPriceClosing.csv', dayfirst=True,\n",
    "                  parse_dates=['Date'], index_col='Date')\n",
    "ubs.columns = ['VTX:UBSG']\n",
    "\n",
    "shsPr['VTX:UBSG'] = ubs\n",
    "shsPr.head(3)"
   ]
  },
  {
   "cell_type": "markdown",
   "metadata": {},
   "source": [
    "### Calculating Returns\n",
    "\n",
    "Thankfully we can reuse the code from above to calculate (business-end) monthly returns."
   ]
  },
  {
   "cell_type": "code",
   "execution_count": 38,
   "metadata": {
    "collapsed": false
   },
   "outputs": [
    {
     "data": {
      "text/html": [
       "<div>\n",
       "<style>\n",
       "    .dataframe thead tr:only-child th {\n",
       "        text-align: right;\n",
       "    }\n",
       "\n",
       "    .dataframe thead th {\n",
       "        text-align: left;\n",
       "    }\n",
       "\n",
       "    .dataframe tbody tr th {\n",
       "        vertical-align: top;\n",
       "    }\n",
       "</style>\n",
       "<table border=\"1\" class=\"dataframe\">\n",
       "  <thead>\n",
       "    <tr style=\"text-align: right;\">\n",
       "      <th></th>\n",
       "      <th>VTX:ABBN</th>\n",
       "      <th>VTX:ADEN</th>\n",
       "      <th>VTX:CFR</th>\n",
       "      <th>VTX:CSGN</th>\n",
       "      <th>VTX:GEBN</th>\n",
       "      <th>VTX:GIVN</th>\n",
       "      <th>VTX:BAER</th>\n",
       "      <th>VTX:LHN</th>\n",
       "      <th>VTX:LONN</th>\n",
       "      <th>VTX:NESN</th>\n",
       "      <th>VTX:NOVN</th>\n",
       "      <th>VTX:ROG</th>\n",
       "      <th>VTX:SGSN</th>\n",
       "      <th>VTX:SIK</th>\n",
       "      <th>VTX:SLHN</th>\n",
       "      <th>VTX:SREN</th>\n",
       "      <th>VTX:SCMN</th>\n",
       "      <th>VTX:UHR</th>\n",
       "      <th>VTX:UBSG</th>\n",
       "      <th>VTX:ZURN</th>\n",
       "    </tr>\n",
       "    <tr>\n",
       "      <th>Date</th>\n",
       "      <th></th>\n",
       "      <th></th>\n",
       "      <th></th>\n",
       "      <th></th>\n",
       "      <th></th>\n",
       "      <th></th>\n",
       "      <th></th>\n",
       "      <th></th>\n",
       "      <th></th>\n",
       "      <th></th>\n",
       "      <th></th>\n",
       "      <th></th>\n",
       "      <th></th>\n",
       "      <th></th>\n",
       "      <th></th>\n",
       "      <th></th>\n",
       "      <th></th>\n",
       "      <th></th>\n",
       "      <th></th>\n",
       "      <th></th>\n",
       "    </tr>\n",
       "  </thead>\n",
       "  <tbody>\n",
       "    <tr>\n",
       "      <th>2017-06-30</th>\n",
       "      <td>-0.027079</td>\n",
       "      <td>0.009649</td>\n",
       "      <td>-0.022529</td>\n",
       "      <td>0.041243</td>\n",
       "      <td>-0.013769</td>\n",
       "      <td>-0.035343</td>\n",
       "      <td>0.005964</td>\n",
       "      <td>-0.057513</td>\n",
       "      <td>0.032854</td>\n",
       "      <td>0.009633</td>\n",
       "      <td>0.006285</td>\n",
       "      <td>-0.084757</td>\n",
       "      <td>0.007348</td>\n",
       "      <td>-0.012903</td>\n",
       "      <td>0.001546</td>\n",
       "      <td>-0.007388</td>\n",
       "      <td>-0.003667</td>\n",
       "      <td>-0.057880</td>\n",
       "      <td>0.053110</td>\n",
       "      <td>-0.019866</td>\n",
       "    </tr>\n",
       "    <tr>\n",
       "      <th>2017-05-31</th>\n",
       "      <td>-0.001232</td>\n",
       "      <td>-0.023273</td>\n",
       "      <td>-0.028669</td>\n",
       "      <td>-0.128915</td>\n",
       "      <td>0.000441</td>\n",
       "      <td>0.035864</td>\n",
       "      <td>-0.033336</td>\n",
       "      <td>0.030557</td>\n",
       "      <td>-0.014353</td>\n",
       "      <td>0.075365</td>\n",
       "      <td>0.035294</td>\n",
       "      <td>0.020909</td>\n",
       "      <td>0.029051</td>\n",
       "      <td>-0.017475</td>\n",
       "      <td>-0.002164</td>\n",
       "      <td>0.019440</td>\n",
       "      <td>0.067702</td>\n",
       "      <td>-0.059746</td>\n",
       "      <td>-0.098846</td>\n",
       "      <td>0.033211</td>\n",
       "    </tr>\n",
       "    <tr>\n",
       "      <th>2017-04-28</th>\n",
       "      <td>0.038925</td>\n",
       "      <td>0.037923</td>\n",
       "      <td>0.048670</td>\n",
       "      <td>0.015318</td>\n",
       "      <td>0.048371</td>\n",
       "      <td>0.060755</td>\n",
       "      <td>0.036332</td>\n",
       "      <td>-0.048452</td>\n",
       "      <td>0.071805</td>\n",
       "      <td>-0.002606</td>\n",
       "      <td>0.029160</td>\n",
       "      <td>0.017439</td>\n",
       "      <td>0.046626</td>\n",
       "      <td>0.055030</td>\n",
       "      <td>0.001855</td>\n",
       "      <td>-0.037954</td>\n",
       "      <td>-0.062737</td>\n",
       "      <td>0.104719</td>\n",
       "      <td>0.058751</td>\n",
       "      <td>0.029479</td>\n",
       "    </tr>\n",
       "  </tbody>\n",
       "</table>\n",
       "</div>"
      ],
      "text/plain": [
       "            VTX:ABBN  VTX:ADEN   VTX:CFR  VTX:CSGN  VTX:GEBN  VTX:GIVN  \\\n",
       "Date                                                                     \n",
       "2017-06-30 -0.027079  0.009649 -0.022529  0.041243 -0.013769 -0.035343   \n",
       "2017-05-31 -0.001232 -0.023273 -0.028669 -0.128915  0.000441  0.035864   \n",
       "2017-04-28  0.038925  0.037923  0.048670  0.015318  0.048371  0.060755   \n",
       "\n",
       "            VTX:BAER   VTX:LHN  VTX:LONN  VTX:NESN  VTX:NOVN   VTX:ROG  \\\n",
       "Date                                                                     \n",
       "2017-06-30  0.005964 -0.057513  0.032854  0.009633  0.006285 -0.084757   \n",
       "2017-05-31 -0.033336  0.030557 -0.014353  0.075365  0.035294  0.020909   \n",
       "2017-04-28  0.036332 -0.048452  0.071805 -0.002606  0.029160  0.017439   \n",
       "\n",
       "            VTX:SGSN   VTX:SIK  VTX:SLHN  VTX:SREN  VTX:SCMN   VTX:UHR  \\\n",
       "Date                                                                     \n",
       "2017-06-30  0.007348 -0.012903  0.001546 -0.007388 -0.003667 -0.057880   \n",
       "2017-05-31  0.029051 -0.017475 -0.002164  0.019440  0.067702 -0.059746   \n",
       "2017-04-28  0.046626  0.055030  0.001855 -0.037954 -0.062737  0.104719   \n",
       "\n",
       "            VTX:UBSG  VTX:ZURN  \n",
       "Date                            \n",
       "2017-06-30  0.053110 -0.019866  \n",
       "2017-05-31 -0.098846  0.033211  \n",
       "2017-04-28  0.058751  0.029479  "
      ]
     },
     "execution_count": 38,
     "metadata": {},
     "output_type": "execute_result"
    }
   ],
   "source": [
    "# Select business month end closing prices and sort date desc.\n",
    "shsPr = shsPr.resample('BM').last()\n",
    "shsPr = shsPr.sort_index(ascending=False)\n",
    "\n",
    "# Calculate log-returns\n",
    "shsRets = np.log(shsPr / shsPr.shift(-1))\n",
    "shsRets.head(3)"
   ]
  },
  {
   "cell_type": "markdown",
   "metadata": {},
   "source": [
    "### Calculate Fama-French Factors\n"
   ]
  },
  {
   "cell_type": "markdown",
   "metadata": {},
   "source": [
    "In order to run the regression we need to have matching indices. Since we know for sure that the observation period of the downloaded data is identical (from our coding) we can simply overwrite the index of one of the dataframes."
   ]
  },
  {
   "cell_type": "code",
   "execution_count": 39,
   "metadata": {
    "collapsed": false
   },
   "outputs": [],
   "source": [
    "# Create matching indices\n",
    "ff.index = shsRets.index"
   ]
  },
  {
   "cell_type": "markdown",
   "metadata": {},
   "source": [
    "We are now in a position to run the multiple linear regression. We will again use the past 60 months. From the Fama French set we just need the first three columns. Column 4 is the risk free rate which we do not use."
   ]
  },
  {
   "cell_type": "code",
   "execution_count": 40,
   "metadata": {
    "collapsed": true
   },
   "outputs": [],
   "source": [
    "# Add constant to matrix for alphas (=intercept)\n",
    "X = sm.add_constant(ff.iloc[:months, :3])"
   ]
  },
  {
   "cell_type": "code",
   "execution_count": 41,
   "metadata": {
    "collapsed": true
   },
   "outputs": [],
   "source": [
    "# Create results matrix to paste beta factors\n",
    "res = np.empty(shape=(5, len(tickers)))"
   ]
  },
  {
   "cell_type": "code",
   "execution_count": 42,
   "metadata": {
    "collapsed": false,
    "scrolled": true
   },
   "outputs": [],
   "source": [
    "# Run regression for each ticker\n",
    "for i in range(0, len(tickers)):\n",
    "    \n",
    "    # Select returns of share i\n",
    "    sub = shsRets.iloc[:months, i]\n",
    "    # Run regression\n",
    "    model = sm.OLS(endog=sub, exog=X).fit()\n",
    "    # Paste beta factors to 'res' matrix\n",
    "    res[0:4, i] = model.params\n",
    "    res[4, i] = model.rsquared_adj"
   ]
  },
  {
   "cell_type": "code",
   "execution_count": 43,
   "metadata": {
    "collapsed": false
   },
   "outputs": [],
   "source": [
    "# Format output to dataframe\n",
    "ff3f = pd.DataFrame(data=res, index=['Alpha', 'BetaMkt', 'BetaSMB', 'BetaHML', 'R2_adj'])\n",
    "ff3f.columns = tickers"
   ]
  },
  {
   "cell_type": "markdown",
   "metadata": {},
   "source": [
    "And here are our factors:"
   ]
  },
  {
   "cell_type": "code",
   "execution_count": 44,
   "metadata": {
    "collapsed": false,
    "scrolled": true
   },
   "outputs": [
    {
     "data": {
      "text/html": [
       "<div>\n",
       "<style>\n",
       "    .dataframe thead tr:only-child th {\n",
       "        text-align: right;\n",
       "    }\n",
       "\n",
       "    .dataframe thead th {\n",
       "        text-align: left;\n",
       "    }\n",
       "\n",
       "    .dataframe tbody tr th {\n",
       "        vertical-align: top;\n",
       "    }\n",
       "</style>\n",
       "<table border=\"1\" class=\"dataframe\">\n",
       "  <thead>\n",
       "    <tr style=\"text-align: right;\">\n",
       "      <th>Symbol</th>\n",
       "      <th>VTX:ABBN</th>\n",
       "      <th>VTX:ADEN</th>\n",
       "      <th>VTX:CFR</th>\n",
       "      <th>VTX:CSGN</th>\n",
       "      <th>VTX:GEBN</th>\n",
       "      <th>VTX:GIVN</th>\n",
       "      <th>VTX:BAER</th>\n",
       "      <th>VTX:LHN</th>\n",
       "      <th>VTX:LONN</th>\n",
       "      <th>VTX:NESN</th>\n",
       "      <th>VTX:NOVN</th>\n",
       "      <th>VTX:ROG</th>\n",
       "      <th>VTX:SGSN</th>\n",
       "      <th>VTX:SIK</th>\n",
       "      <th>VTX:SLHN</th>\n",
       "      <th>VTX:SREN</th>\n",
       "      <th>VTX:SCMN</th>\n",
       "      <th>VTX:UHR</th>\n",
       "      <th>VTX:UBSG</th>\n",
       "      <th>VTX:ZURN</th>\n",
       "    </tr>\n",
       "  </thead>\n",
       "  <tbody>\n",
       "    <tr>\n",
       "      <th>Alpha</th>\n",
       "      <td>-0.000139</td>\n",
       "      <td>-0.000785</td>\n",
       "      <td>0.002151</td>\n",
       "      <td>-0.014103</td>\n",
       "      <td>0.012446</td>\n",
       "      <td>0.010088</td>\n",
       "      <td>0.000579</td>\n",
       "      <td>-0.008839</td>\n",
       "      <td>0.019816</td>\n",
       "      <td>0.003811</td>\n",
       "      <td>0.003978</td>\n",
       "      <td>0.003998</td>\n",
       "      <td>0.001624</td>\n",
       "      <td>0.015823</td>\n",
       "      <td>0.015035</td>\n",
       "      <td>0.006850</td>\n",
       "      <td>0.003021</td>\n",
       "      <td>-0.006353</td>\n",
       "      <td>0.000015</td>\n",
       "      <td>0.002759</td>\n",
       "    </tr>\n",
       "    <tr>\n",
       "      <th>BetaMkt</th>\n",
       "      <td>0.719063</td>\n",
       "      <td>0.821552</td>\n",
       "      <td>0.879074</td>\n",
       "      <td>0.919705</td>\n",
       "      <td>0.448197</td>\n",
       "      <td>0.471908</td>\n",
       "      <td>0.578659</td>\n",
       "      <td>1.158525</td>\n",
       "      <td>0.755369</td>\n",
       "      <td>0.517951</td>\n",
       "      <td>0.512569</td>\n",
       "      <td>0.469141</td>\n",
       "      <td>0.517374</td>\n",
       "      <td>0.642976</td>\n",
       "      <td>0.471782</td>\n",
       "      <td>0.233459</td>\n",
       "      <td>0.335701</td>\n",
       "      <td>0.861599</td>\n",
       "      <td>0.698502</td>\n",
       "      <td>0.424314</td>\n",
       "    </tr>\n",
       "    <tr>\n",
       "      <th>BetaSMB</th>\n",
       "      <td>0.233243</td>\n",
       "      <td>0.663463</td>\n",
       "      <td>-0.888366</td>\n",
       "      <td>0.289915</td>\n",
       "      <td>-0.498065</td>\n",
       "      <td>-0.522577</td>\n",
       "      <td>0.113546</td>\n",
       "      <td>-0.030046</td>\n",
       "      <td>0.358306</td>\n",
       "      <td>-0.423321</td>\n",
       "      <td>-0.380940</td>\n",
       "      <td>-0.351816</td>\n",
       "      <td>-0.404188</td>\n",
       "      <td>-0.366263</td>\n",
       "      <td>0.530929</td>\n",
       "      <td>-0.633873</td>\n",
       "      <td>-0.736779</td>\n",
       "      <td>-0.665754</td>\n",
       "      <td>-0.176852</td>\n",
       "      <td>-0.593401</td>\n",
       "    </tr>\n",
       "    <tr>\n",
       "      <th>BetaHML</th>\n",
       "      <td>-0.012150</td>\n",
       "      <td>0.368471</td>\n",
       "      <td>0.217475</td>\n",
       "      <td>1.646272</td>\n",
       "      <td>-0.179689</td>\n",
       "      <td>-0.530125</td>\n",
       "      <td>0.400648</td>\n",
       "      <td>0.253003</td>\n",
       "      <td>-0.233743</td>\n",
       "      <td>-0.634468</td>\n",
       "      <td>-0.499608</td>\n",
       "      <td>-0.375503</td>\n",
       "      <td>-0.474356</td>\n",
       "      <td>-0.039065</td>\n",
       "      <td>0.501731</td>\n",
       "      <td>-0.340712</td>\n",
       "      <td>-0.247771</td>\n",
       "      <td>0.164657</td>\n",
       "      <td>1.082516</td>\n",
       "      <td>0.024130</td>\n",
       "    </tr>\n",
       "    <tr>\n",
       "      <th>R2_adj</th>\n",
       "      <td>0.177655</td>\n",
       "      <td>0.349276</td>\n",
       "      <td>0.297871</td>\n",
       "      <td>0.354453</td>\n",
       "      <td>0.101721</td>\n",
       "      <td>0.176823</td>\n",
       "      <td>0.102802</td>\n",
       "      <td>0.403516</td>\n",
       "      <td>0.152450</td>\n",
       "      <td>0.340173</td>\n",
       "      <td>0.172276</td>\n",
       "      <td>0.147376</td>\n",
       "      <td>0.129039</td>\n",
       "      <td>0.157526</td>\n",
       "      <td>0.121903</td>\n",
       "      <td>0.066581</td>\n",
       "      <td>0.152184</td>\n",
       "      <td>0.211774</td>\n",
       "      <td>0.276270</td>\n",
       "      <td>0.100901</td>\n",
       "    </tr>\n",
       "  </tbody>\n",
       "</table>\n",
       "</div>"
      ],
      "text/plain": [
       "Symbol   VTX:ABBN  VTX:ADEN   VTX:CFR  VTX:CSGN  VTX:GEBN  VTX:GIVN  VTX:BAER  \\\n",
       "Alpha   -0.000139 -0.000785  0.002151 -0.014103  0.012446  0.010088  0.000579   \n",
       "BetaMkt  0.719063  0.821552  0.879074  0.919705  0.448197  0.471908  0.578659   \n",
       "BetaSMB  0.233243  0.663463 -0.888366  0.289915 -0.498065 -0.522577  0.113546   \n",
       "BetaHML -0.012150  0.368471  0.217475  1.646272 -0.179689 -0.530125  0.400648   \n",
       "R2_adj   0.177655  0.349276  0.297871  0.354453  0.101721  0.176823  0.102802   \n",
       "\n",
       "Symbol    VTX:LHN  VTX:LONN  VTX:NESN  VTX:NOVN   VTX:ROG  VTX:SGSN   VTX:SIK  \\\n",
       "Alpha   -0.008839  0.019816  0.003811  0.003978  0.003998  0.001624  0.015823   \n",
       "BetaMkt  1.158525  0.755369  0.517951  0.512569  0.469141  0.517374  0.642976   \n",
       "BetaSMB -0.030046  0.358306 -0.423321 -0.380940 -0.351816 -0.404188 -0.366263   \n",
       "BetaHML  0.253003 -0.233743 -0.634468 -0.499608 -0.375503 -0.474356 -0.039065   \n",
       "R2_adj   0.403516  0.152450  0.340173  0.172276  0.147376  0.129039  0.157526   \n",
       "\n",
       "Symbol   VTX:SLHN  VTX:SREN  VTX:SCMN   VTX:UHR  VTX:UBSG  VTX:ZURN  \n",
       "Alpha    0.015035  0.006850  0.003021 -0.006353  0.000015  0.002759  \n",
       "BetaMkt  0.471782  0.233459  0.335701  0.861599  0.698502  0.424314  \n",
       "BetaSMB  0.530929 -0.633873 -0.736779 -0.665754 -0.176852 -0.593401  \n",
       "BetaHML  0.501731 -0.340712 -0.247771  0.164657  1.082516  0.024130  \n",
       "R2_adj   0.121903  0.066581  0.152184  0.211774  0.276270  0.100901  "
      ]
     },
     "execution_count": 44,
     "metadata": {},
     "output_type": "execute_result"
    }
   ],
   "source": [
    "ff3f"
   ]
  },
  {
   "cell_type": "code",
   "execution_count": 45,
   "metadata": {
    "collapsed": false
   },
   "outputs": [
    {
     "name": "stdout",
     "output_type": "stream",
     "text": [
      "           Alpha    BetaMkt    BetaSMB    BetaHML     R2_adj\n",
      "count  20.000000  20.000000  20.000000  20.000000  20.000000\n",
      "mean    0.003589   0.621871  -0.224142   0.054586   0.199628\n",
      "std     0.008284   0.227065   0.448690   0.565442   0.100401\n",
      "min    -0.014103   0.233459  -0.888366  -0.634468   0.066581\n",
      "25%    -0.000024   0.471122  -0.540283  -0.349410   0.127255\n",
      "50%     0.002890   0.548305  -0.373601  -0.025607   0.164901\n",
      "75%     0.007660   0.771915   0.143470   0.281870   0.281670\n",
      "max     0.019816   1.158525   0.663463   1.646272   0.403516\n"
     ]
    }
   ],
   "source": [
    "# Transpose matrix (.T) and display stats summary\n",
    "print(ff3f.T.describe())"
   ]
  },
  {
   "cell_type": "markdown",
   "metadata": {},
   "source": [
    "### Hedge a Portolio\n",
    "\n",
    "Now that we have all the factors, let's assume we want to build a portfolio with all 20 SMI stocks that maximizes the Sharpe ratio (SR). As a further condition we want to limit our exposure to the SMB factor to, let's say, $\\beta_p^{SMB} = 0$. How would we allocate our investment under these conditions? In mathematical terms we have the following optimization problem:\n",
    "\n",
    "$$\\begin{equation}\n",
    "\\max_{w_i} SR = \\frac{\\mathbb{E}[r_p] - r_f}{\\sigma_p} \\qquad s.t. \\qquad \n",
    "\\begin{cases}\n",
    "\\sum w_i &= 1 \\\\\n",
    "\\beta_p^{SMB} &= 0\n",
    "\\end{cases}\n",
    "\\end{equation}$$\n",
    "\n",
    "Usually, to calculate the expected return $\\mathbb{E}[r_p]$, historical returns are taken. For our case here, we will take the expected returns given by our Fama-French 3 Factor model (denoted $\\mathbf{R_{ff}}$). The portfolio variance $\\sigma_p$ however, we estimate using historical data. Alternatively one could think of taking the SMI volatility index value as proxy. But this is only approximately true because we will not have the same weights per stock as the SMI and this thus might be a questionable. With that we have\n",
    "\n",
    "$$\\begin{equation}\n",
    "\\max_{w_i} SR = \\frac{\\mathbf{w}^T \\left(r_f + \\mathbf{\\alpha} + \\mathbf{\\beta}^{M} (r_{M} - r_{f}) + \\mathbf{\\beta}^{SMB} SMB + \\mathbf{\\beta}^{HML} HML \\right) - r_f}{\\mathbf{w}^T \\mathbf{\\Sigma}\\mathbf{w}} \\qquad s.t. \\qquad \n",
    "\\begin{cases}\n",
    "\\sum w_i &= 1 \\\\\n",
    "\\beta_p^{SMB} &= 0\n",
    "\\end{cases}\n",
    "\\end{equation}$$\n",
    "\n"
   ]
  },
  {
   "cell_type": "markdown",
   "metadata": {},
   "source": [
    "Python can solve this problem numerically. We first set the stage by defining a auxiliary function `pfStats` that returns the expected portfolio return, volatility and Sharpe ratio given a vector of weights. Note that the function also makes use of other data like monthly returns and the riskfree rate as previously defined (which is again set to 0) but only weights are a function input value. This is necessary for the optimization function."
   ]
  },
  {
   "cell_type": "code",
   "execution_count": 46,
   "metadata": {
    "collapsed": false
   },
   "outputs": [],
   "source": [
    "# Define rf and (equally spread) start weights\n",
    "rf = 0\n",
    "wghts = np.repeat(1. / len(tickers), len(tickers))\n",
    "\n",
    "# Expected stock returns based on ff3f model\n",
    "expShsRets = rf + ff3f.T.Alpha + \\\n",
    "    ff3f.T.BetaMkt * ff['Mkt-RF'].mean() + \\\n",
    "    ff3f.T.BetaSMB * ff.SMB.mean() + \\\n",
    "    ff3f.T.BetaHML * ff.HML.mean()\n"
   ]
  },
  {
   "cell_type": "code",
   "execution_count": 47,
   "metadata": {
    "collapsed": true
   },
   "outputs": [],
   "source": [
    "def pfStats(weights):\n",
    "    '''Returns basic measures for a portfolio\n",
    "    \n",
    "    Parameters\n",
    "    ==========\n",
    "    weights : array-like\n",
    "        weights for different securities in portfolio\n",
    "    \n",
    "    Returns\n",
    "    =======\n",
    "    expPfRet : float\n",
    "        weighted, annualized expected portfolio return based on ff3f model\n",
    "    pfVol : float\n",
    "        historical annualized portfolio volatility\n",
    "    SR : float\n",
    "        portfolio Sharpe ratio for given riskfree rate\n",
    "    '''\n",
    "    \n",
    "    expPfRet = np.sum(weights * expShsRets) * 12\n",
    "    pfVol    = np.sqrt(np.dot(weights.T, np.dot(shsRets.cov() * 12, weights)))\n",
    "    SR       = (expPfRet - rf) / pfVol \n",
    "    \n",
    "    return np.array([expPfRet, pfVol, SR])"
   ]
  },
  {
   "cell_type": "markdown",
   "metadata": {},
   "source": [
    "Python's scipy package has a sublibrary for constrained optimization problems. We will use the minimize function and minimize the negative value of the Sharpe ratio (which is obviously equal to maximizing the SR)"
   ]
  },
  {
   "cell_type": "code",
   "execution_count": 48,
   "metadata": {
    "collapsed": true
   },
   "outputs": [],
   "source": [
    "import scipy.optimize as sco\n",
    "\n",
    "def minSR(wghts):\n",
    "    return -pfStats(wghts)[2]"
   ]
  },
  {
   "cell_type": "markdown",
   "metadata": {},
   "source": [
    "Our constraints are as stated above: $\\sum w_i = 1$, $\\beta_P^{SMB} = 0$. Additionally we set bounds for the weights such that short/long position are allowed but only up to 100% per share ($w_i \\in [-1, 1]\\; \\forall i \\in [1, 2, \\ldots, n]$)."
   ]
  },
  {
   "cell_type": "code",
   "execution_count": 49,
   "metadata": {
    "collapsed": false,
    "scrolled": false
   },
   "outputs": [],
   "source": [
    "# Constraints and bounds\n",
    "constr = [{'type': 'eq', 'fun': lambda x: np.sum(x) - 1},\n",
    "          {'type': 'eq', 'fun': lambda x: np.sum(x * ff3f.T.BetaSMB) - 0}]\n",
    "bnds   = tuple((-1,1) for x in range(len(tickers)))"
   ]
  },
  {
   "cell_type": "code",
   "execution_count": 50,
   "metadata": {
    "collapsed": false
   },
   "outputs": [],
   "source": [
    "# Minimization function\n",
    "optPf = sco.minimize(minSR, x0=wghts, method='SLSQP', bounds=bnds, constraints=constr)"
   ]
  },
  {
   "cell_type": "code",
   "execution_count": 51,
   "metadata": {
    "collapsed": false
   },
   "outputs": [
    {
     "name": "stdout",
     "output_type": "stream",
     "text": [
      "Sum of weights:   1.0\n",
      "Beta SMB factor:  1.3469780846264712e-12\n"
     ]
    }
   ],
   "source": [
    "# Check if conditions are actually met\n",
    "print('Sum of weights:  ', np.sum(optPf['x']))\n",
    "print('Beta SMB factor: ', np.sum(optPf['x'] * ff3f.T.BetaSMB))"
   ]
  },
  {
   "cell_type": "code",
   "execution_count": 52,
   "metadata": {
    "collapsed": false,
    "scrolled": false
   },
   "outputs": [
    {
     "name": "stdout",
     "output_type": "stream",
     "text": [
      "Portfolio return:      0.576076244977\n",
      "Portfolio volatility:  0.173823348131\n",
      "Portfolio SR:          3.31414767447 \n",
      "\n",
      "          optimalWghts\n",
      "Symbol                \n",
      "VTX:ABBN      0.017101\n",
      "VTX:ADEN     -0.262042\n",
      "VTX:CFR       0.262159\n",
      "VTX:CSGN     -0.507396\n",
      "VTX:GEBN      0.336628\n",
      "VTX:GIVN      0.186830\n",
      "VTX:BAER      0.027526\n",
      "VTX:LHN      -0.244939\n",
      "VTX:LONN      0.381575\n",
      "VTX:NESN      0.274861\n",
      "VTX:NOVN      0.754357\n",
      "VTX:ROG      -0.772538\n",
      "VTX:SGSN     -0.583358\n",
      "VTX:SIK       0.536187\n",
      "VTX:SLHN      0.871702\n",
      "VTX:SREN      0.127852\n",
      "VTX:SCMN     -0.103306\n",
      "VTX:UHR      -0.096582\n",
      "VTX:UBSG      0.277730\n",
      "VTX:ZURN     -0.484346\n"
     ]
    }
   ],
   "source": [
    "# Calculate portfolio stats given optimal weights\n",
    "rsltsOptPf = pfStats(optPf['x'])\n",
    "\n",
    "# Format weights into dataframe with Tickers as heading\n",
    "optWghts = pd.DataFrame(data=optPf['x'], index=tickers)\n",
    "optWghts.columns = ['optimalWghts']\n",
    "\n",
    "# Print results\n",
    "print('Portfolio return:     ', str(rsltsOptPf[0]))\n",
    "print('Portfolio volatility: ', str(rsltsOptPf[1]))\n",
    "print('Portfolio SR:         ', str(rsltsOptPf[2]), '\\n')\n",
    "print(str(optWghts))"
   ]
  },
  {
   "cell_type": "markdown",
   "metadata": {
    "collapsed": true
   },
   "source": [
    "# Further Ressources\n",
    "\n",
    "\n",
    "In writing this notebook, many ressources were consulted. For internet ressources the links are provided within the textflow above and will therefore not be listed again. Beyond these links, the following ressources were consulted and are recommended as further reading on the discussed topics:\n",
    "\n",
    "* Blume, Marshall E., 1971, On the Assessment of Risk, *The Journal of Finance* 26, 1-10.\n",
    "* Fama, Eugene F, and Kenneth R French, 1993, Common risk factors in the returns on stocks and bonds, *Journal of Financial Economics* 33, 3–56.\n",
    "* Hilpisch, Yves, 2015, Python for Finance (O'Reilly Media, Sebastopol, CA).\n",
    "* James, Gareth, Daniela Witten, Trevor Hastie, and Robert Tibshirani, 2013, *An Introduction to Statistical Learning: With Applications in R* (Springer Science & Business Media, New York, NY).\n",
    "* Müller, Andreas C., and Sarah Guido, 2017, *Introduction to Machine Learning with Python* (O’Reilly Media, Sebastopol, CA).\n",
    "* Pinto, Jerald E., Elaine Henry, Thomas R. Robinson, and John D. Stowe, 2016, *Equity Asset Valuation* (MIT Press, Cambridge, MA).\n",
    "* Ross, Stephen A., et al., 1973, Return, risk and arbitrage (Rodney L. White Center for Financial Research, The Wharton School, University of Pennyslvania).\n",
    "*   Sheppard, Kevin, 2017, Introduction to Python for Econometrics, Statistics and Data Analysis from Website https://www.kevinsheppard.com/images/b/b3/Python_introduction-2016.pdf, 07/07/2017.\n",
    "* Wooldridge, Jeffrey M, 2015, *Introductory Econometrics: A modern approach* (Cengage Learning, Boston, MA).\n",
    "\n"
   ]
  }
 ],
 "metadata": {
  "kernelspec": {
   "display_name": "Python 3",
   "language": "python",
   "name": "python3"
  },
  "language_info": {
   "codemirror_mode": {
    "name": "ipython",
    "version": 3
   },
   "file_extension": ".py",
   "mimetype": "text/x-python",
   "name": "python",
   "nbconvert_exporter": "python",
   "pygments_lexer": "ipython3",
   "version": "3.6.0"
  }
 },
 "nbformat": 4,
 "nbformat_minor": 2
}
