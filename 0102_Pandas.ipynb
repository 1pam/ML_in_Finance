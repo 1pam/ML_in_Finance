{
 "cells": [
  {
   "cell_type": "markdown",
   "metadata": {},
   "source": [
    "# Pandas\n",
    "\n",
    "## Pandas Objects\n",
    "\n",
    "In the previous chapter we discussed the very basics of Python and NumPy. Here we go one step further and introduce the Pandas package and its data structures. At the very basic level, Pandas can be thought of as enhanced versions of NumPy arrays in which rows and columns come with labels (rather than simple integer indices). Pandas obviously provides more features than this, but it is important to first get an understanding of Pandas' data structure before delving into more advanced topics."
   ]
  },
  {
   "cell_type": "code",
   "execution_count": 1,
   "metadata": {
    "collapsed": true
   },
   "outputs": [],
   "source": [
    "# We start by importing the NumPy, Pandas packages\n",
    "import numpy as np\n",
    "import pandas as pd"
   ]
  },
  {
   "cell_type": "markdown",
   "metadata": {},
   "source": [
    "## Pandas Series\n",
    "\n",
    "While a NumPy arrays has an *implicitly defined* index, Pandas allows for an *explicitly defined* index. That could mean strings or nonsequential indices. We first look at Pandas `Series` objects. These are one-dimensional arrays of indexed data. We can use lists or arrays to create it."
   ]
  },
  {
   "cell_type": "code",
   "execution_count": 2,
   "metadata": {},
   "outputs": [
    {
     "data": {
      "text/plain": [
       "0    0.25\n",
       "1    0.50\n",
       "2    0.25\n",
       "3    1.00\n",
       "dtype: float64"
      ]
     },
     "execution_count": 2,
     "metadata": {},
     "output_type": "execute_result"
    }
   ],
   "source": [
    "data = pd.Series([0.25, 0.5, 0.25, 1])\n",
    "data"
   ]
  },
  {
   "cell_type": "code",
   "execution_count": 3,
   "metadata": {
    "scrolled": true
   },
   "outputs": [
    {
     "data": {
      "text/plain": [
       "w    0.25\n",
       "x    0.50\n",
       "y    0.25\n",
       "z    1.00\n",
       "dtype: float64"
      ]
     },
     "execution_count": 3,
     "metadata": {},
     "output_type": "execute_result"
    }
   ],
   "source": [
    "data = pd.Series([0.25, 0.5, 0.25, 1],\n",
    "                 index=['w', 'x', 'y', 'z'])\n",
    "data"
   ]
  },
  {
   "cell_type": "code",
   "execution_count": 4,
   "metadata": {},
   "outputs": [
    {
     "data": {
      "text/plain": [
       "0.5"
      ]
     },
     "execution_count": 4,
     "metadata": {},
     "output_type": "execute_result"
    }
   ],
   "source": [
    "# Item access works as we would expect\n",
    "data['x']"
   ]
  },
  {
   "cell_type": "code",
   "execution_count": 5,
   "metadata": {
    "scrolled": true
   },
   "outputs": [
    {
     "data": {
      "text/plain": [
       "2    0.25\n",
       "7    0.50\n",
       "4    0.75\n",
       "1    1.00\n",
       "dtype: float64"
      ]
     },
     "execution_count": 5,
     "metadata": {},
     "output_type": "execute_result"
    }
   ],
   "source": [
    "# Another example\n",
    "data = pd.Series([0.25, 0.5, 0.75, 1],\n",
    "                 index=[2, 7, 4, 1])\n",
    "data"
   ]
  },
  {
   "cell_type": "code",
   "execution_count": 6,
   "metadata": {},
   "outputs": [
    {
     "data": {
      "text/plain": [
       "0.25"
      ]
     },
     "execution_count": 6,
     "metadata": {},
     "output_type": "execute_result"
    }
   ],
   "source": [
    "data[2]"
   ]
  },
  {
   "cell_type": "code",
   "execution_count": 7,
   "metadata": {
    "scrolled": true
   },
   "outputs": [
    {
     "data": {
      "text/plain": [
       "0    0.2\n",
       "1    0.4\n",
       "2    0.6\n",
       "3    0.8\n",
       "4    1.0\n",
       "dtype: float64"
      ]
     },
     "execution_count": 7,
     "metadata": {},
     "output_type": "execute_result"
    }
   ],
   "source": [
    "# Pandas series from NumPy array\n",
    "vec = np.linspace(start=0.2, stop=1, num=5)\n",
    "pd.Series(vec)"
   ]
  },
  {
   "cell_type": "markdown",
   "metadata": {},
   "source": [
    "NumPy array operations (as discussed in the previous chapter) such as filtering with a boolean array, scalar multiplication, or applying math functions, will preserve the index-value link. "
   ]
  },
  {
   "cell_type": "markdown",
   "metadata": {},
   "source": [
    "## Pandas' Data Frames\n",
    "\n",
    "### Constructing Data Frames\n",
    "\n",
    "While Pandas' `Series` are comparable to a one-dimensional array with flexible indices, `DataFrame`s are comparable to two-dimensional arrays with both flexible row and column names."
   ]
  },
  {
   "cell_type": "code",
   "execution_count": 8,
   "metadata": {
    "scrolled": true
   },
   "outputs": [
    {
     "data": {
      "text/html": [
       "<div>\n",
       "<style>\n",
       "    .dataframe thead tr:only-child th {\n",
       "        text-align: right;\n",
       "    }\n",
       "\n",
       "    .dataframe thead th {\n",
       "        text-align: left;\n",
       "    }\n",
       "\n",
       "    .dataframe tbody tr th {\n",
       "        vertical-align: top;\n",
       "    }\n",
       "</style>\n",
       "<table border=\"1\" class=\"dataframe\">\n",
       "  <thead>\n",
       "    <tr style=\"text-align: right;\">\n",
       "      <th></th>\n",
       "      <th>Company</th>\n",
       "      <th>eps</th>\n",
       "      <th>yrEndClose</th>\n",
       "    </tr>\n",
       "  </thead>\n",
       "  <tbody>\n",
       "    <tr>\n",
       "      <th>0</th>\n",
       "      <td>Schindler</td>\n",
       "      <td>7.14</td>\n",
       "      <td>179.60</td>\n",
       "    </tr>\n",
       "    <tr>\n",
       "      <th>1</th>\n",
       "      <td>ABB</td>\n",
       "      <td>0.87</td>\n",
       "      <td>21.48</td>\n",
       "    </tr>\n",
       "    <tr>\n",
       "      <th>2</th>\n",
       "      <td>GF</td>\n",
       "      <td>53.00</td>\n",
       "      <td>834.00</td>\n",
       "    </tr>\n",
       "    <tr>\n",
       "      <th>3</th>\n",
       "      <td>Sulzer</td>\n",
       "      <td>1.73</td>\n",
       "      <td>105.00</td>\n",
       "    </tr>\n",
       "  </tbody>\n",
       "</table>\n",
       "</div>"
      ],
      "text/plain": [
       "     Company    eps  yrEndClose\n",
       "0  Schindler   7.14      179.60\n",
       "1        ABB   0.87       21.48\n",
       "2         GF  53.00      834.00\n",
       "3     Sulzer   1.73      105.00"
      ]
     },
     "execution_count": 8,
     "metadata": {},
     "output_type": "execute_result"
    }
   ],
   "source": [
    "data = {'Company': ['Schindler', 'ABB', 'GF', 'Sulzer'],\n",
    "        'yrEndClose': [179.6, 21.48, 834, 105],\n",
    "        'eps': [7.14, 0.87, 53, 1.73]}\n",
    "\n",
    "comps = pd.DataFrame(data)\n",
    "comps"
   ]
  },
  {
   "cell_type": "code",
   "execution_count": 9,
   "metadata": {},
   "outputs": [
    {
     "data": {
      "text/html": [
       "<div>\n",
       "<style>\n",
       "    .dataframe thead tr:only-child th {\n",
       "        text-align: right;\n",
       "    }\n",
       "\n",
       "    .dataframe thead th {\n",
       "        text-align: left;\n",
       "    }\n",
       "\n",
       "    .dataframe tbody tr th {\n",
       "        vertical-align: top;\n",
       "    }\n",
       "</style>\n",
       "<table border=\"1\" class=\"dataframe\">\n",
       "  <thead>\n",
       "    <tr style=\"text-align: right;\">\n",
       "      <th></th>\n",
       "      <th>Company</th>\n",
       "      <th>eps</th>\n",
       "      <th>yrEndClose</th>\n",
       "    </tr>\n",
       "  </thead>\n",
       "  <tbody>\n",
       "    <tr>\n",
       "      <th>0</th>\n",
       "      <td>Schindler</td>\n",
       "      <td>7.14</td>\n",
       "      <td>179.60</td>\n",
       "    </tr>\n",
       "    <tr>\n",
       "      <th>1</th>\n",
       "      <td>ABB</td>\n",
       "      <td>0.87</td>\n",
       "      <td>21.48</td>\n",
       "    </tr>\n",
       "    <tr>\n",
       "      <th>2</th>\n",
       "      <td>GF</td>\n",
       "      <td>53.00</td>\n",
       "      <td>834.00</td>\n",
       "    </tr>\n",
       "    <tr>\n",
       "      <th>3</th>\n",
       "      <td>Sulzer</td>\n",
       "      <td>1.73</td>\n",
       "      <td>105.00</td>\n",
       "    </tr>\n",
       "  </tbody>\n",
       "</table>\n",
       "</div>"
      ],
      "text/plain": [
       "     Company    eps  yrEndClose\n",
       "0  Schindler   7.14      179.60\n",
       "1        ABB   0.87       21.48\n",
       "2         GF  53.00      834.00\n",
       "3     Sulzer   1.73      105.00"
      ]
     },
     "execution_count": 9,
     "metadata": {},
     "output_type": "execute_result"
    }
   ],
   "source": [
    "data = [{'Company': 'Schindler', 'yrEndClose': 179.6, 'eps': 7.14},\n",
    "        {'Company': 'ABB',  'yrEndClose': 21.48, 'eps': 0.87},\n",
    "        {'Company': 'GF',  'yrEndClose': 834,  'eps': 53},\n",
    "        {'Company': 'Sulzer',  'yrEndClose': 105,  'eps': 1.73}]\n",
    "pd.DataFrame(data)"
   ]
  },
  {
   "cell_type": "markdown",
   "metadata": {},
   "source": [
    "Ultimately, there are many more ways to create a `DataFrame` but we'll leave it with the above two examples. Reason being, as we will see later on, that data for a `DataFrame` is usually imported from a txt, csv or xls file. This process is fairly simple and will be discussed later on. Regarding `DataFrames`, check the excellent overview by [Chris Moffit (2016)](http://pbpython.com/pandas-list-dict.html) or see the help page `pd.DataFrame?` for more examples on how to create a `DataFrame`."
   ]
  },
  {
   "cell_type": "markdown",
   "metadata": {},
   "source": [
    "As we would expect, each `DataFrame` has some callable attributes."
   ]
  },
  {
   "cell_type": "code",
   "execution_count": 10,
   "metadata": {
    "scrolled": true
   },
   "outputs": [
    {
     "name": "stdout",
     "output_type": "stream",
     "text": [
      "RangeIndex(start=0, stop=4, step=1)\n",
      "12 (4, 3) 2\n"
     ]
    }
   ],
   "source": [
    "print(comps.index)\n",
    "print(comps.size, comps.shape, comps.ndim)"
   ]
  },
  {
   "cell_type": "markdown",
   "metadata": {},
   "source": [
    "Working with data and adding new data columns is straight forward:"
   ]
  },
  {
   "cell_type": "code",
   "execution_count": 11,
   "metadata": {},
   "outputs": [
    {
     "data": {
      "text/html": [
       "<div>\n",
       "<style>\n",
       "    .dataframe thead tr:only-child th {\n",
       "        text-align: right;\n",
       "    }\n",
       "\n",
       "    .dataframe thead th {\n",
       "        text-align: left;\n",
       "    }\n",
       "\n",
       "    .dataframe tbody tr th {\n",
       "        vertical-align: top;\n",
       "    }\n",
       "</style>\n",
       "<table border=\"1\" class=\"dataframe\">\n",
       "  <thead>\n",
       "    <tr style=\"text-align: right;\">\n",
       "      <th></th>\n",
       "      <th>Company</th>\n",
       "      <th>eps</th>\n",
       "      <th>yrEndClose</th>\n",
       "      <th>PE</th>\n",
       "      <th>Year</th>\n",
       "    </tr>\n",
       "  </thead>\n",
       "  <tbody>\n",
       "    <tr>\n",
       "      <th>0</th>\n",
       "      <td>Schindler</td>\n",
       "      <td>7.14</td>\n",
       "      <td>179.60</td>\n",
       "      <td>25.154062</td>\n",
       "      <td>2016</td>\n",
       "    </tr>\n",
       "    <tr>\n",
       "      <th>1</th>\n",
       "      <td>ABB</td>\n",
       "      <td>0.87</td>\n",
       "      <td>21.48</td>\n",
       "      <td>24.689655</td>\n",
       "      <td>2016</td>\n",
       "    </tr>\n",
       "    <tr>\n",
       "      <th>2</th>\n",
       "      <td>GF</td>\n",
       "      <td>53.00</td>\n",
       "      <td>834.00</td>\n",
       "      <td>15.735849</td>\n",
       "      <td>2016</td>\n",
       "    </tr>\n",
       "    <tr>\n",
       "      <th>3</th>\n",
       "      <td>Sulzer</td>\n",
       "      <td>1.73</td>\n",
       "      <td>105.00</td>\n",
       "      <td>60.693642</td>\n",
       "      <td>2016</td>\n",
       "    </tr>\n",
       "  </tbody>\n",
       "</table>\n",
       "</div>"
      ],
      "text/plain": [
       "     Company    eps  yrEndClose         PE  Year\n",
       "0  Schindler   7.14      179.60  25.154062  2016\n",
       "1        ABB   0.87       21.48  24.689655  2016\n",
       "2         GF  53.00      834.00  15.735849  2016\n",
       "3     Sulzer   1.73      105.00  60.693642  2016"
      ]
     },
     "execution_count": 11,
     "metadata": {},
     "output_type": "execute_result"
    }
   ],
   "source": [
    "comps['PE'] = comps['yrEndClose'] / comps['eps']\n",
    "comps['Year'] = 2016\n",
    "comps"
   ]
  },
  {
   "cell_type": "code",
   "execution_count": 12,
   "metadata": {},
   "outputs": [
    {
     "name": "stdout",
     "output_type": "stream",
     "text": [
      "     Company  Year         PE    eps  yrEndClose\n",
      "0  Schindler  2016  25.154062   7.14      179.60\n",
      "1        ABB  2016  24.689655   0.87       21.48\n",
      "2         GF  2016  15.735849  53.00      834.00\n",
      "3     Sulzer  2016  60.693642   1.73      105.00\n"
     ]
    }
   ],
   "source": [
    "# Reorder columns\n",
    "comps = comps[['Company', 'Year', 'PE', 'eps', 'yrEndClose']]\n",
    "print(comps)"
   ]
  },
  {
   "cell_type": "code",
   "execution_count": 13,
   "metadata": {},
   "outputs": [
    {
     "data": {
      "text/plain": [
       "array(['Company', 'Year', 'PE', 'EPS', 'Price'], dtype=object)"
      ]
     },
     "execution_count": 13,
     "metadata": {},
     "output_type": "execute_result"
    }
   ],
   "source": [
    "# Renaming columns\n",
    "comps.columns = ['Company', 'Year', 'PE', 'EPS', 'Price']\n",
    "comps.columns.values\n"
   ]
  },
  {
   "cell_type": "code",
   "execution_count": 14,
   "metadata": {},
   "outputs": [
    {
     "data": {
      "text/plain": [
       "array(['Company', 'Year', 'PE', 'EPS', 'yrEndClose'], dtype=object)"
      ]
     },
     "execution_count": 14,
     "metadata": {},
     "output_type": "execute_result"
    }
   ],
   "source": [
    "# Or renaming just one column\n",
    "colNms = comps.columns.values\n",
    "colNms[4] = 'yrEndClose'\n",
    "comps.columns = colNms\n",
    "comps.columns.values"
   ]
  },
  {
   "cell_type": "markdown",
   "metadata": {},
   "source": [
    "## Indexing and Selection\n",
    "\n",
    "In the previous chapter we discussed how to access elements of NumPy arrays. In general, the same patterns are applicable to Pandas objects. However, there are a few quirks that we'll discuss to prevent confusion."
   ]
  },
  {
   "cell_type": "code",
   "execution_count": 15,
   "metadata": {},
   "outputs": [
    {
     "data": {
      "text/plain": [
       "a    0.0\n",
       "b    1.0\n",
       "c    2.0\n",
       "d    2.5\n",
       "dtype: float64"
      ]
     },
     "execution_count": 15,
     "metadata": {},
     "output_type": "execute_result"
    }
   ],
   "source": [
    "data = pd.Series([0, 1, 2], index=['a', 'b', 'c'])\n",
    "\n",
    "# Adding a float\n",
    "data['d'] = 2.5\n",
    "data"
   ]
  },
  {
   "cell_type": "code",
   "execution_count": 16,
   "metadata": {},
   "outputs": [
    {
     "data": {
      "text/plain": [
       "a    0.0\n",
       "b    1.0\n",
       "c    2.0\n",
       "dtype: float64"
      ]
     },
     "execution_count": 16,
     "metadata": {},
     "output_type": "execute_result"
    }
   ],
   "source": [
    "# Slicing by explicit index\n",
    "data['a':'c']"
   ]
  },
  {
   "cell_type": "code",
   "execution_count": 17,
   "metadata": {},
   "outputs": [
    {
     "data": {
      "text/plain": [
       "a    0.0\n",
       "b    1.0\n",
       "dtype: float64"
      ]
     },
     "execution_count": 17,
     "metadata": {},
     "output_type": "execute_result"
    }
   ],
   "source": [
    "# Slicing by implicit index\n",
    "data[0:2]"
   ]
  },
  {
   "cell_type": "markdown",
   "metadata": {},
   "source": [
    "**IMPORTANT:**\n",
    "\n",
    "**Notice that when using the explicit index , the final index is *included*. On the other hand, when you use the implicit index (i.e. `data[0:2]`), the final index is *excluded*.**"
   ]
  },
  {
   "cell_type": "markdown",
   "metadata": {},
   "source": [
    "Let's consider an example where the `Series` object has an explicit integer index."
   ]
  },
  {
   "cell_type": "code",
   "execution_count": 18,
   "metadata": {},
   "outputs": [
    {
     "data": {
      "text/plain": [
       "1    a\n",
       "3    b\n",
       "5    c\n",
       "dtype: object"
      ]
     },
     "execution_count": 18,
     "metadata": {},
     "output_type": "execute_result"
    }
   ],
   "source": [
    "data = pd.Series(['a', 'b', 'c'], index=[1, 3, 5])\n",
    "data"
   ]
  },
  {
   "cell_type": "code",
   "execution_count": 19,
   "metadata": {},
   "outputs": [
    {
     "data": {
      "text/plain": [
       "'a'"
      ]
     },
     "execution_count": 19,
     "metadata": {},
     "output_type": "execute_result"
    }
   ],
   "source": [
    "# Explicit index when indexing\n",
    "data[1]"
   ]
  },
  {
   "cell_type": "code",
   "execution_count": 20,
   "metadata": {},
   "outputs": [
    {
     "data": {
      "text/plain": [
       "3    b\n",
       "5    c\n",
       "dtype: object"
      ]
     },
     "execution_count": 20,
     "metadata": {},
     "output_type": "execute_result"
    }
   ],
   "source": [
    "# Implicit index when slicing\n",
    "data[1:3]"
   ]
  },
  {
   "cell_type": "markdown",
   "metadata": {},
   "source": [
    "Because this was recognized as a source of confusion, Pandas introduced the `loc` and `iloc` attribute. `loc` allows indexing and slicing with the **explicit index**, `iloc` allows slicing that always references the **implicit index**."
   ]
  },
  {
   "cell_type": "code",
   "execution_count": 21,
   "metadata": {},
   "outputs": [
    {
     "data": {
      "text/plain": [
       "'a'"
      ]
     },
     "execution_count": 21,
     "metadata": {},
     "output_type": "execute_result"
    }
   ],
   "source": [
    "data.loc[1]"
   ]
  },
  {
   "cell_type": "code",
   "execution_count": 22,
   "metadata": {},
   "outputs": [
    {
     "data": {
      "text/plain": [
       "1    a\n",
       "3    b\n",
       "dtype: object"
      ]
     },
     "execution_count": 22,
     "metadata": {},
     "output_type": "execute_result"
    }
   ],
   "source": [
    "data.loc[1:3]"
   ]
  },
  {
   "cell_type": "code",
   "execution_count": 23,
   "metadata": {},
   "outputs": [
    {
     "data": {
      "text/plain": [
       "'b'"
      ]
     },
     "execution_count": 23,
     "metadata": {},
     "output_type": "execute_result"
    }
   ],
   "source": [
    "data.iloc[1]"
   ]
  },
  {
   "cell_type": "code",
   "execution_count": 24,
   "metadata": {},
   "outputs": [
    {
     "data": {
      "text/plain": [
       "3    b\n",
       "5    c\n",
       "dtype: object"
      ]
     },
     "execution_count": 24,
     "metadata": {},
     "output_type": "execute_result"
    }
   ],
   "source": [
    "data.iloc[1:3]"
   ]
  },
  {
   "cell_type": "markdown",
   "metadata": {},
   "source": [
    "Indexing for `DataFrame` works similar to what we discussed thus far."
   ]
  },
  {
   "cell_type": "code",
   "execution_count": 25,
   "metadata": {
    "scrolled": false
   },
   "outputs": [
    {
     "data": {
      "text/html": [
       "<div>\n",
       "<style>\n",
       "    .dataframe thead tr:only-child th {\n",
       "        text-align: right;\n",
       "    }\n",
       "\n",
       "    .dataframe thead th {\n",
       "        text-align: left;\n",
       "    }\n",
       "\n",
       "    .dataframe tbody tr th {\n",
       "        vertical-align: top;\n",
       "    }\n",
       "</style>\n",
       "<table border=\"1\" class=\"dataframe\">\n",
       "  <thead>\n",
       "    <tr style=\"text-align: right;\">\n",
       "      <th></th>\n",
       "      <th>Company</th>\n",
       "      <th>PE</th>\n",
       "    </tr>\n",
       "  </thead>\n",
       "  <tbody>\n",
       "    <tr>\n",
       "      <th>0</th>\n",
       "      <td>Schindler</td>\n",
       "      <td>25.154062</td>\n",
       "    </tr>\n",
       "    <tr>\n",
       "      <th>1</th>\n",
       "      <td>ABB</td>\n",
       "      <td>24.689655</td>\n",
       "    </tr>\n",
       "    <tr>\n",
       "      <th>2</th>\n",
       "      <td>GF</td>\n",
       "      <td>15.735849</td>\n",
       "    </tr>\n",
       "    <tr>\n",
       "      <th>3</th>\n",
       "      <td>Sulzer</td>\n",
       "      <td>60.693642</td>\n",
       "    </tr>\n",
       "  </tbody>\n",
       "</table>\n",
       "</div>"
      ],
      "text/plain": [
       "     Company         PE\n",
       "0  Schindler  25.154062\n",
       "1        ABB  24.689655\n",
       "2         GF  15.735849\n",
       "3     Sulzer  60.693642"
      ]
     },
     "execution_count": 25,
     "metadata": {},
     "output_type": "execute_result"
    }
   ],
   "source": [
    "comps[['Company', 'PE']]"
   ]
  },
  {
   "cell_type": "markdown",
   "metadata": {},
   "source": [
    "The index will always be shown. Thus if we reset the index such that the company names represent the index, then we could simply use `comps['PE']`."
   ]
  },
  {
   "cell_type": "code",
   "execution_count": 26,
   "metadata": {
    "scrolled": true
   },
   "outputs": [
    {
     "name": "stdout",
     "output_type": "stream",
     "text": [
      "           Year         PE    EPS  yrEndClose\n",
      "Company                                      \n",
      "Schindler  2016  25.154062   7.14      179.60\n",
      "ABB        2016  24.689655   0.87       21.48\n",
      "GF         2016  15.735849  53.00      834.00\n",
      "Sulzer     2016  60.693642   1.73      105.00\n"
     ]
    }
   ],
   "source": [
    "compsInd = comps.set_index('Company')\n",
    "print(compsInd)"
   ]
  },
  {
   "cell_type": "code",
   "execution_count": 27,
   "metadata": {
    "scrolled": true
   },
   "outputs": [
    {
     "data": {
      "text/plain": [
       "Company\n",
       "Schindler    25.154062\n",
       "ABB          24.689655\n",
       "GF           15.735849\n",
       "Sulzer       60.693642\n",
       "Name: PE, dtype: float64"
      ]
     },
     "execution_count": 27,
     "metadata": {},
     "output_type": "execute_result"
    }
   ],
   "source": [
    "compsInd['PE']"
   ]
  },
  {
   "cell_type": "markdown",
   "metadata": {},
   "source": [
    "We can also use dot notation to access a column."
   ]
  },
  {
   "cell_type": "code",
   "execution_count": 28,
   "metadata": {},
   "outputs": [
    {
     "data": {
      "text/plain": [
       "0    7.14\n",
       "1    0.87\n",
       "Name: EPS, dtype: float64"
      ]
     },
     "execution_count": 28,
     "metadata": {},
     "output_type": "execute_result"
    }
   ],
   "source": [
    "comps.EPS[:2]"
   ]
  },
  {
   "cell_type": "markdown",
   "metadata": {},
   "source": [
    "One slicing option you might come across when studying python scripts is the `.ix` indexer. It is a hybrid of the two functions `.loc` and `.iloc`. However, the `.ix` indexer is deprecated, in favor of the more strict `.iloc` and `.loc` and thus we won't discuss it here. "
   ]
  },
  {
   "cell_type": "markdown",
   "metadata": {},
   "source": [
    "## Index Alignment\n",
    "\n",
    "Pandas will align indices in the process of performing operations for both `Series` as well as `DataFrame`s. This proves to be very convenient when dealing with incomplete data."
   ]
  },
  {
   "cell_type": "code",
   "execution_count": 29,
   "metadata": {},
   "outputs": [
    {
     "data": {
      "text/html": [
       "<div>\n",
       "<style>\n",
       "    .dataframe thead tr:only-child th {\n",
       "        text-align: right;\n",
       "    }\n",
       "\n",
       "    .dataframe thead th {\n",
       "        text-align: left;\n",
       "    }\n",
       "\n",
       "    .dataframe tbody tr th {\n",
       "        vertical-align: top;\n",
       "    }\n",
       "</style>\n",
       "<table border=\"1\" class=\"dataframe\">\n",
       "  <thead>\n",
       "    <tr style=\"text-align: right;\">\n",
       "      <th></th>\n",
       "      <th>A</th>\n",
       "      <th>C</th>\n",
       "    </tr>\n",
       "  </thead>\n",
       "  <tbody>\n",
       "    <tr>\n",
       "      <th>0</th>\n",
       "      <td>57</td>\n",
       "      <td>93</td>\n",
       "    </tr>\n",
       "    <tr>\n",
       "      <th>1</th>\n",
       "      <td>48</td>\n",
       "      <td>63</td>\n",
       "    </tr>\n",
       "  </tbody>\n",
       "</table>\n",
       "</div>"
      ],
      "text/plain": [
       "    A   C\n",
       "0  57  93\n",
       "1  48  63"
      ]
     },
     "execution_count": 29,
     "metadata": {},
     "output_type": "execute_result"
    }
   ],
   "source": [
    "np.random.seed(1234)\n",
    "A = pd.DataFrame(np.random.randint(low=10, high=99, size=(2,2)),\n",
    "                 columns=['A', 'C'])\n",
    "A"
   ]
  },
  {
   "cell_type": "code",
   "execution_count": 30,
   "metadata": {},
   "outputs": [
    {
     "data": {
      "text/html": [
       "<div>\n",
       "<style>\n",
       "    .dataframe thead tr:only-child th {\n",
       "        text-align: right;\n",
       "    }\n",
       "\n",
       "    .dataframe thead th {\n",
       "        text-align: left;\n",
       "    }\n",
       "\n",
       "    .dataframe tbody tr th {\n",
       "        vertical-align: top;\n",
       "    }\n",
       "</style>\n",
       "<table border=\"1\" class=\"dataframe\">\n",
       "  <thead>\n",
       "    <tr style=\"text-align: right;\">\n",
       "      <th></th>\n",
       "      <th>B</th>\n",
       "      <th>A</th>\n",
       "      <th>C</th>\n",
       "    </tr>\n",
       "  </thead>\n",
       "  <tbody>\n",
       "    <tr>\n",
       "      <th>0</th>\n",
       "      <td>4</td>\n",
       "      <td>8</td>\n",
       "      <td>9</td>\n",
       "    </tr>\n",
       "    <tr>\n",
       "      <th>1</th>\n",
       "      <td>1</td>\n",
       "      <td>7</td>\n",
       "      <td>9</td>\n",
       "    </tr>\n",
       "    <tr>\n",
       "      <th>2</th>\n",
       "      <td>6</td>\n",
       "      <td>8</td>\n",
       "      <td>0</td>\n",
       "    </tr>\n",
       "  </tbody>\n",
       "</table>\n",
       "</div>"
      ],
      "text/plain": [
       "   B  A  C\n",
       "0  4  8  9\n",
       "1  1  7  9\n",
       "2  6  8  0"
      ]
     },
     "execution_count": 30,
     "metadata": {},
     "output_type": "execute_result"
    }
   ],
   "source": [
    "B = pd.DataFrame(np.random.randint(low=0, high=10, size=(3,3)),\n",
    "                 columns=list('BAC'))\n",
    "B"
   ]
  },
  {
   "cell_type": "code",
   "execution_count": 31,
   "metadata": {
    "scrolled": true
   },
   "outputs": [
    {
     "data": {
      "text/html": [
       "<div>\n",
       "<style>\n",
       "    .dataframe thead tr:only-child th {\n",
       "        text-align: right;\n",
       "    }\n",
       "\n",
       "    .dataframe thead th {\n",
       "        text-align: left;\n",
       "    }\n",
       "\n",
       "    .dataframe tbody tr th {\n",
       "        vertical-align: top;\n",
       "    }\n",
       "</style>\n",
       "<table border=\"1\" class=\"dataframe\">\n",
       "  <thead>\n",
       "    <tr style=\"text-align: right;\">\n",
       "      <th></th>\n",
       "      <th>A</th>\n",
       "      <th>B</th>\n",
       "      <th>C</th>\n",
       "    </tr>\n",
       "  </thead>\n",
       "  <tbody>\n",
       "    <tr>\n",
       "      <th>0</th>\n",
       "      <td>65.0</td>\n",
       "      <td>NaN</td>\n",
       "      <td>102.0</td>\n",
       "    </tr>\n",
       "    <tr>\n",
       "      <th>1</th>\n",
       "      <td>55.0</td>\n",
       "      <td>NaN</td>\n",
       "      <td>72.0</td>\n",
       "    </tr>\n",
       "    <tr>\n",
       "      <th>2</th>\n",
       "      <td>NaN</td>\n",
       "      <td>NaN</td>\n",
       "      <td>NaN</td>\n",
       "    </tr>\n",
       "  </tbody>\n",
       "</table>\n",
       "</div>"
      ],
      "text/plain": [
       "      A   B      C\n",
       "0  65.0 NaN  102.0\n",
       "1  55.0 NaN   72.0\n",
       "2   NaN NaN    NaN"
      ]
     },
     "execution_count": 31,
     "metadata": {},
     "output_type": "execute_result"
    }
   ],
   "source": [
    "A + B"
   ]
  },
  {
   "cell_type": "markdown",
   "metadata": {},
   "source": [
    "If we wish to fill the blanks with another value than `NaN`, we can do so by using the `add()` method and specify the `fill_value`."
   ]
  },
  {
   "cell_type": "code",
   "execution_count": 32,
   "metadata": {
    "scrolled": true
   },
   "outputs": [
    {
     "data": {
      "text/html": [
       "<div>\n",
       "<style>\n",
       "    .dataframe thead tr:only-child th {\n",
       "        text-align: right;\n",
       "    }\n",
       "\n",
       "    .dataframe thead th {\n",
       "        text-align: left;\n",
       "    }\n",
       "\n",
       "    .dataframe tbody tr th {\n",
       "        vertical-align: top;\n",
       "    }\n",
       "</style>\n",
       "<table border=\"1\" class=\"dataframe\">\n",
       "  <thead>\n",
       "    <tr style=\"text-align: right;\">\n",
       "      <th></th>\n",
       "      <th>A</th>\n",
       "      <th>B</th>\n",
       "      <th>C</th>\n",
       "    </tr>\n",
       "  </thead>\n",
       "  <tbody>\n",
       "    <tr>\n",
       "      <th>0</th>\n",
       "      <td>65.0</td>\n",
       "      <td>4.0</td>\n",
       "      <td>102.0</td>\n",
       "    </tr>\n",
       "    <tr>\n",
       "      <th>1</th>\n",
       "      <td>55.0</td>\n",
       "      <td>1.0</td>\n",
       "      <td>72.0</td>\n",
       "    </tr>\n",
       "    <tr>\n",
       "      <th>2</th>\n",
       "      <td>8.0</td>\n",
       "      <td>6.0</td>\n",
       "      <td>0.0</td>\n",
       "    </tr>\n",
       "  </tbody>\n",
       "</table>\n",
       "</div>"
      ],
      "text/plain": [
       "      A    B      C\n",
       "0  65.0  4.0  102.0\n",
       "1  55.0  1.0   72.0\n",
       "2   8.0  6.0    0.0"
      ]
     },
     "execution_count": 32,
     "metadata": {},
     "output_type": "execute_result"
    }
   ],
   "source": [
    "A.add(B, fill_value=0)"
   ]
  },
  {
   "cell_type": "markdown",
   "metadata": {},
   "source": [
    "## Handling Missing Data\n",
    "\n",
    "So far we've always dealt with complete data set. Real world data, however, is hardly ever clean and homogeneous. Often data sets will have some amount of missing data. Further complicating the issue is the fact that different conventions exists to indicate missing data (`NaN`, `None`, `NA`, `null`, `-9999`).\n",
    "\n",
    "Developers of NumPy and Pandas chose to use `NaN` (acronym for *Not a Number*) as missing data representation. Operations on `np.arrays`, `Series` or `DataFrames` containing `NaN` values are possible. However, one needs to keep in mind that any arithmetic operation with `NaN` will be another `NaN`."
   ]
  },
  {
   "cell_type": "code",
   "execution_count": 33,
   "metadata": {},
   "outputs": [
    {
     "data": {
      "text/plain": [
       "array([  1.,  nan,   2.,   3.])"
      ]
     },
     "execution_count": 33,
     "metadata": {},
     "output_type": "execute_result"
    }
   ],
   "source": [
    "val = np.array([0, np.nan, 1, 2])\n",
    "val + 1"
   ]
  },
  {
   "cell_type": "code",
   "execution_count": 34,
   "metadata": {},
   "outputs": [
    {
     "data": {
      "text/plain": [
       "array([  0.,  nan,   0.,   0.])"
      ]
     },
     "execution_count": 34,
     "metadata": {},
     "output_type": "execute_result"
    }
   ],
   "source": [
    "val * 0"
   ]
  },
  {
   "cell_type": "markdown",
   "metadata": {},
   "source": [
    "NumPy provides special functions which can deal with `NaN` values."
   ]
  },
  {
   "cell_type": "code",
   "execution_count": 35,
   "metadata": {},
   "outputs": [
    {
     "name": "stdout",
     "output_type": "stream",
     "text": [
      "nan nan nan\n",
      "3.0 0.0 2.0\n"
     ]
    }
   ],
   "source": [
    "print(val.sum(), val.min(), val.max())\n",
    "print(np.nansum(val), np.nanmin(val), np.nanmax(val))"
   ]
  },
  {
   "cell_type": "markdown",
   "metadata": {},
   "source": [
    "While NumPy only accepts `np.nan`, Pandas is also able do handle `None` as input. Yet internally, Pandas will convert `None` values to `NaN`."
   ]
  },
  {
   "cell_type": "code",
   "execution_count": 36,
   "metadata": {
    "scrolled": true
   },
   "outputs": [
    {
     "data": {
      "text/plain": [
       "0    1.0\n",
       "1    NaN\n",
       "2    2.0\n",
       "3    NaN\n",
       "dtype: float64"
      ]
     },
     "execution_count": 36,
     "metadata": {},
     "output_type": "execute_result"
    }
   ],
   "source": [
    "seq = pd.Series([1, np.nan, 2, None])\n",
    "seq"
   ]
  },
  {
   "cell_type": "markdown",
   "metadata": {},
   "source": [
    "But how do we deal with `NaN` values? Python provides some options:\n",
    "\n",
    "| **Method**   | **Description**                                                  |\n",
    "|:------------:|------------------------------------------------------------------|\n",
    "| `.isnull()`  | Generates boolean mask indicating missing values                 |\n",
    "| `.notnull()` | Opposite of `.isnull()`                                          |\n",
    "| `.dropna()`  | Returns a filtered version of the data                           |\n",
    "| `.fillna()`  | Returns a copy of the data with missing values filled or imputed |"
   ]
  },
  {
   "cell_type": "code",
   "execution_count": 37,
   "metadata": {},
   "outputs": [
    {
     "name": "stdout",
     "output_type": "stream",
     "text": [
      "0    False\n",
      "1     True\n",
      "2    False\n",
      "3     True\n",
      "dtype: bool\n",
      "0    1.0\n",
      "2    2.0\n",
      "dtype: float64\n"
     ]
    }
   ],
   "source": [
    "# Sample Series\n",
    "ser = pd.Series([1, None, 2., np.nan])\n",
    "\n",
    "# Boolean mask\n",
    "print(ser.isnull())\n",
    "\n",
    "# Sliced Series\n",
    "print(ser[ser.notnull()])"
   ]
  },
  {
   "cell_type": "code",
   "execution_count": 38,
   "metadata": {},
   "outputs": [
    {
     "data": {
      "text/html": [
       "<div>\n",
       "<style>\n",
       "    .dataframe thead tr:only-child th {\n",
       "        text-align: right;\n",
       "    }\n",
       "\n",
       "    .dataframe thead th {\n",
       "        text-align: left;\n",
       "    }\n",
       "\n",
       "    .dataframe tbody tr th {\n",
       "        vertical-align: top;\n",
       "    }\n",
       "</style>\n",
       "<table border=\"1\" class=\"dataframe\">\n",
       "  <thead>\n",
       "    <tr style=\"text-align: right;\">\n",
       "      <th></th>\n",
       "      <th>A</th>\n",
       "      <th>B</th>\n",
       "      <th>C</th>\n",
       "    </tr>\n",
       "  </thead>\n",
       "  <tbody>\n",
       "    <tr>\n",
       "      <th>0</th>\n",
       "      <td>10.0</td>\n",
       "      <td>NaN</td>\n",
       "      <td>12</td>\n",
       "    </tr>\n",
       "    <tr>\n",
       "      <th>1</th>\n",
       "      <td>13.0</td>\n",
       "      <td>14.0</td>\n",
       "      <td>15</td>\n",
       "    </tr>\n",
       "    <tr>\n",
       "      <th>2</th>\n",
       "      <td>NaN</td>\n",
       "      <td>17.0</td>\n",
       "      <td>18</td>\n",
       "    </tr>\n",
       "  </tbody>\n",
       "</table>\n",
       "</div>"
      ],
      "text/plain": [
       "      A     B   C\n",
       "0  10.0   NaN  12\n",
       "1  13.0  14.0  15\n",
       "2   NaN  17.0  18"
      ]
     },
     "execution_count": 38,
     "metadata": {},
     "output_type": "execute_result"
    }
   ],
   "source": [
    "# Create a DataFrame\n",
    "df = pd.DataFrame(10+np.arange(9).reshape(3, 3),\n",
    "                  columns= ['A', 'B', 'C'])\n",
    "df.iloc[0, 1] = np.nan; df.iloc[2, 0] = np.nan\n",
    "df"
   ]
  },
  {
   "cell_type": "markdown",
   "metadata": {},
   "source": [
    "`.dropna()` can not drop single values, but it can drop full columns or rows. For this, the method takes the parameter `axis='rows' or axis='columns'`."
   ]
  },
  {
   "cell_type": "code",
   "execution_count": 39,
   "metadata": {
    "scrolled": false
   },
   "outputs": [
    {
     "data": {
      "text/html": [
       "<div>\n",
       "<style>\n",
       "    .dataframe thead tr:only-child th {\n",
       "        text-align: right;\n",
       "    }\n",
       "\n",
       "    .dataframe thead th {\n",
       "        text-align: left;\n",
       "    }\n",
       "\n",
       "    .dataframe tbody tr th {\n",
       "        vertical-align: top;\n",
       "    }\n",
       "</style>\n",
       "<table border=\"1\" class=\"dataframe\">\n",
       "  <thead>\n",
       "    <tr style=\"text-align: right;\">\n",
       "      <th></th>\n",
       "      <th>A</th>\n",
       "      <th>B</th>\n",
       "      <th>C</th>\n",
       "    </tr>\n",
       "  </thead>\n",
       "  <tbody>\n",
       "    <tr>\n",
       "      <th>1</th>\n",
       "      <td>13.0</td>\n",
       "      <td>14.0</td>\n",
       "      <td>15</td>\n",
       "    </tr>\n",
       "  </tbody>\n",
       "</table>\n",
       "</div>"
      ],
      "text/plain": [
       "      A     B   C\n",
       "1  13.0  14.0  15"
      ]
     },
     "execution_count": 39,
     "metadata": {},
     "output_type": "execute_result"
    }
   ],
   "source": [
    "df.dropna()  # Similar to df.dropna(axis=0)"
   ]
  },
  {
   "cell_type": "code",
   "execution_count": 40,
   "metadata": {
    "scrolled": true
   },
   "outputs": [
    {
     "data": {
      "text/html": [
       "<div>\n",
       "<style>\n",
       "    .dataframe thead tr:only-child th {\n",
       "        text-align: right;\n",
       "    }\n",
       "\n",
       "    .dataframe thead th {\n",
       "        text-align: left;\n",
       "    }\n",
       "\n",
       "    .dataframe tbody tr th {\n",
       "        vertical-align: top;\n",
       "    }\n",
       "</style>\n",
       "<table border=\"1\" class=\"dataframe\">\n",
       "  <thead>\n",
       "    <tr style=\"text-align: right;\">\n",
       "      <th></th>\n",
       "      <th>C</th>\n",
       "    </tr>\n",
       "  </thead>\n",
       "  <tbody>\n",
       "    <tr>\n",
       "      <th>0</th>\n",
       "      <td>12</td>\n",
       "    </tr>\n",
       "    <tr>\n",
       "      <th>1</th>\n",
       "      <td>15</td>\n",
       "    </tr>\n",
       "    <tr>\n",
       "      <th>2</th>\n",
       "      <td>18</td>\n",
       "    </tr>\n",
       "  </tbody>\n",
       "</table>\n",
       "</div>"
      ],
      "text/plain": [
       "    C\n",
       "0  12\n",
       "1  15\n",
       "2  18"
      ]
     },
     "execution_count": 40,
     "metadata": {},
     "output_type": "execute_result"
    }
   ],
   "source": [
    "df.dropna(axis='columns')  # similar to df.dropna(axis=1)"
   ]
  },
  {
   "cell_type": "markdown",
   "metadata": {},
   "source": [
    "Beyond the axis you can specify the parameter `how` and `thresh`. \n",
    "\n",
    "For parameter `how`, default is set to `how='any'` which means that any row or column (depending on your selection) with `NaN` values will be dropped. Alternatively you could set it to `how='all'` to remove only those rows/columns where all entries are of sort `NaN`.\n",
    "\n",
    "For parameter `thresh`, default is set to `thresh=None`. For example setting a `thresh=3` will drop rows/columns with less than 3 non-null values. "
   ]
  },
  {
   "cell_type": "code",
   "execution_count": 41,
   "metadata": {},
   "outputs": [
    {
     "data": {
      "text/html": [
       "<div>\n",
       "<style>\n",
       "    .dataframe thead tr:only-child th {\n",
       "        text-align: right;\n",
       "    }\n",
       "\n",
       "    .dataframe thead th {\n",
       "        text-align: left;\n",
       "    }\n",
       "\n",
       "    .dataframe tbody tr th {\n",
       "        vertical-align: top;\n",
       "    }\n",
       "</style>\n",
       "<table border=\"1\" class=\"dataframe\">\n",
       "  <thead>\n",
       "    <tr style=\"text-align: right;\">\n",
       "      <th></th>\n",
       "      <th>A</th>\n",
       "      <th>B</th>\n",
       "      <th>C</th>\n",
       "      <th>D</th>\n",
       "    </tr>\n",
       "  </thead>\n",
       "  <tbody>\n",
       "    <tr>\n",
       "      <th>0</th>\n",
       "      <td>10.0</td>\n",
       "      <td>NaN</td>\n",
       "      <td>12</td>\n",
       "      <td>NaN</td>\n",
       "    </tr>\n",
       "    <tr>\n",
       "      <th>1</th>\n",
       "      <td>13.0</td>\n",
       "      <td>14.0</td>\n",
       "      <td>15</td>\n",
       "      <td>NaN</td>\n",
       "    </tr>\n",
       "    <tr>\n",
       "      <th>2</th>\n",
       "      <td>NaN</td>\n",
       "      <td>17.0</td>\n",
       "      <td>18</td>\n",
       "      <td>NaN</td>\n",
       "    </tr>\n",
       "  </tbody>\n",
       "</table>\n",
       "</div>"
      ],
      "text/plain": [
       "      A     B   C   D\n",
       "0  10.0   NaN  12 NaN\n",
       "1  13.0  14.0  15 NaN\n",
       "2   NaN  17.0  18 NaN"
      ]
     },
     "execution_count": 41,
     "metadata": {},
     "output_type": "execute_result"
    }
   ],
   "source": [
    "df['D'] = np.nan\n",
    "df"
   ]
  },
  {
   "cell_type": "code",
   "execution_count": 42,
   "metadata": {},
   "outputs": [
    {
     "data": {
      "text/html": [
       "<div>\n",
       "<style>\n",
       "    .dataframe thead tr:only-child th {\n",
       "        text-align: right;\n",
       "    }\n",
       "\n",
       "    .dataframe thead th {\n",
       "        text-align: left;\n",
       "    }\n",
       "\n",
       "    .dataframe tbody tr th {\n",
       "        vertical-align: top;\n",
       "    }\n",
       "</style>\n",
       "<table border=\"1\" class=\"dataframe\">\n",
       "  <thead>\n",
       "    <tr style=\"text-align: right;\">\n",
       "      <th></th>\n",
       "      <th>A</th>\n",
       "      <th>B</th>\n",
       "      <th>C</th>\n",
       "    </tr>\n",
       "  </thead>\n",
       "  <tbody>\n",
       "    <tr>\n",
       "      <th>0</th>\n",
       "      <td>10.0</td>\n",
       "      <td>NaN</td>\n",
       "      <td>12</td>\n",
       "    </tr>\n",
       "    <tr>\n",
       "      <th>1</th>\n",
       "      <td>13.0</td>\n",
       "      <td>14.0</td>\n",
       "      <td>15</td>\n",
       "    </tr>\n",
       "    <tr>\n",
       "      <th>2</th>\n",
       "      <td>NaN</td>\n",
       "      <td>17.0</td>\n",
       "      <td>18</td>\n",
       "    </tr>\n",
       "  </tbody>\n",
       "</table>\n",
       "</div>"
      ],
      "text/plain": [
       "      A     B   C\n",
       "0  10.0   NaN  12\n",
       "1  13.0  14.0  15\n",
       "2   NaN  17.0  18"
      ]
     },
     "execution_count": 42,
     "metadata": {},
     "output_type": "execute_result"
    }
   ],
   "source": [
    "df.dropna(axis='columns', how='all')"
   ]
  },
  {
   "cell_type": "code",
   "execution_count": 43,
   "metadata": {},
   "outputs": [
    {
     "data": {
      "text/html": [
       "<div>\n",
       "<style>\n",
       "    .dataframe thead tr:only-child th {\n",
       "        text-align: right;\n",
       "    }\n",
       "\n",
       "    .dataframe thead th {\n",
       "        text-align: left;\n",
       "    }\n",
       "\n",
       "    .dataframe tbody tr th {\n",
       "        vertical-align: top;\n",
       "    }\n",
       "</style>\n",
       "<table border=\"1\" class=\"dataframe\">\n",
       "  <thead>\n",
       "    <tr style=\"text-align: right;\">\n",
       "      <th></th>\n",
       "      <th>A</th>\n",
       "      <th>B</th>\n",
       "      <th>C</th>\n",
       "      <th>D</th>\n",
       "    </tr>\n",
       "  </thead>\n",
       "  <tbody>\n",
       "    <tr>\n",
       "      <th>1</th>\n",
       "      <td>13.0</td>\n",
       "      <td>14.0</td>\n",
       "      <td>15</td>\n",
       "      <td>NaN</td>\n",
       "    </tr>\n",
       "  </tbody>\n",
       "</table>\n",
       "</div>"
      ],
      "text/plain": [
       "      A     B   C   D\n",
       "1  13.0  14.0  15 NaN"
      ]
     },
     "execution_count": 43,
     "metadata": {},
     "output_type": "execute_result"
    }
   ],
   "source": [
    "df.dropna(axis='rows', thresh=3)"
   ]
  },
  {
   "cell_type": "markdown",
   "metadata": {},
   "source": [
    "Sometimes it is also adequate to replace `NaN` cells with a specific value. For this method `.fillna()` is available."
   ]
  },
  {
   "cell_type": "code",
   "execution_count": 44,
   "metadata": {},
   "outputs": [
    {
     "data": {
      "text/html": [
       "<div>\n",
       "<style>\n",
       "    .dataframe thead tr:only-child th {\n",
       "        text-align: right;\n",
       "    }\n",
       "\n",
       "    .dataframe thead th {\n",
       "        text-align: left;\n",
       "    }\n",
       "\n",
       "    .dataframe tbody tr th {\n",
       "        vertical-align: top;\n",
       "    }\n",
       "</style>\n",
       "<table border=\"1\" class=\"dataframe\">\n",
       "  <thead>\n",
       "    <tr style=\"text-align: right;\">\n",
       "      <th></th>\n",
       "      <th>A</th>\n",
       "      <th>B</th>\n",
       "      <th>C</th>\n",
       "      <th>D</th>\n",
       "    </tr>\n",
       "  </thead>\n",
       "  <tbody>\n",
       "    <tr>\n",
       "      <th>0</th>\n",
       "      <td>10.0</td>\n",
       "      <td>-9999.0</td>\n",
       "      <td>12</td>\n",
       "      <td>-9999.0</td>\n",
       "    </tr>\n",
       "    <tr>\n",
       "      <th>1</th>\n",
       "      <td>13.0</td>\n",
       "      <td>14.0</td>\n",
       "      <td>15</td>\n",
       "      <td>-9999.0</td>\n",
       "    </tr>\n",
       "    <tr>\n",
       "      <th>2</th>\n",
       "      <td>-9999.0</td>\n",
       "      <td>17.0</td>\n",
       "      <td>18</td>\n",
       "      <td>-9999.0</td>\n",
       "    </tr>\n",
       "  </tbody>\n",
       "</table>\n",
       "</div>"
      ],
      "text/plain": [
       "        A       B   C       D\n",
       "0    10.0 -9999.0  12 -9999.0\n",
       "1    13.0    14.0  15 -9999.0\n",
       "2 -9999.0    17.0  18 -9999.0"
      ]
     },
     "execution_count": 44,
     "metadata": {},
     "output_type": "execute_result"
    }
   ],
   "source": [
    "df.fillna(value=-9999)"
   ]
  },
  {
   "cell_type": "code",
   "execution_count": 45,
   "metadata": {},
   "outputs": [
    {
     "data": {
      "text/html": [
       "<div>\n",
       "<style>\n",
       "    .dataframe thead tr:only-child th {\n",
       "        text-align: right;\n",
       "    }\n",
       "\n",
       "    .dataframe thead th {\n",
       "        text-align: left;\n",
       "    }\n",
       "\n",
       "    .dataframe tbody tr th {\n",
       "        vertical-align: top;\n",
       "    }\n",
       "</style>\n",
       "<table border=\"1\" class=\"dataframe\">\n",
       "  <thead>\n",
       "    <tr style=\"text-align: right;\">\n",
       "      <th></th>\n",
       "      <th>A</th>\n",
       "      <th>B</th>\n",
       "      <th>C</th>\n",
       "      <th>D</th>\n",
       "    </tr>\n",
       "  </thead>\n",
       "  <tbody>\n",
       "    <tr>\n",
       "      <th>0</th>\n",
       "      <td>10.0</td>\n",
       "      <td>NaN</td>\n",
       "      <td>12</td>\n",
       "      <td>NaN</td>\n",
       "    </tr>\n",
       "    <tr>\n",
       "      <th>1</th>\n",
       "      <td>13.0</td>\n",
       "      <td>14.0</td>\n",
       "      <td>15</td>\n",
       "      <td>NaN</td>\n",
       "    </tr>\n",
       "    <tr>\n",
       "      <th>2</th>\n",
       "      <td>13.0</td>\n",
       "      <td>17.0</td>\n",
       "      <td>18</td>\n",
       "      <td>NaN</td>\n",
       "    </tr>\n",
       "  </tbody>\n",
       "</table>\n",
       "</div>"
      ],
      "text/plain": [
       "      A     B   C   D\n",
       "0  10.0   NaN  12 NaN\n",
       "1  13.0  14.0  15 NaN\n",
       "2  13.0  17.0  18 NaN"
      ]
     },
     "execution_count": 45,
     "metadata": {},
     "output_type": "execute_result"
    }
   ],
   "source": [
    "# Forward-fill to propagate previous value forward\n",
    "df.fillna(axis='rows', method='ffill')"
   ]
  },
  {
   "cell_type": "code",
   "execution_count": 46,
   "metadata": {},
   "outputs": [
    {
     "data": {
      "text/html": [
       "<div>\n",
       "<style>\n",
       "    .dataframe thead tr:only-child th {\n",
       "        text-align: right;\n",
       "    }\n",
       "\n",
       "    .dataframe thead th {\n",
       "        text-align: left;\n",
       "    }\n",
       "\n",
       "    .dataframe tbody tr th {\n",
       "        vertical-align: top;\n",
       "    }\n",
       "</style>\n",
       "<table border=\"1\" class=\"dataframe\">\n",
       "  <thead>\n",
       "    <tr style=\"text-align: right;\">\n",
       "      <th></th>\n",
       "      <th>A</th>\n",
       "      <th>B</th>\n",
       "      <th>C</th>\n",
       "      <th>D</th>\n",
       "    </tr>\n",
       "  </thead>\n",
       "  <tbody>\n",
       "    <tr>\n",
       "      <th>0</th>\n",
       "      <td>10.0</td>\n",
       "      <td>14.0</td>\n",
       "      <td>12</td>\n",
       "      <td>NaN</td>\n",
       "    </tr>\n",
       "    <tr>\n",
       "      <th>1</th>\n",
       "      <td>13.0</td>\n",
       "      <td>14.0</td>\n",
       "      <td>15</td>\n",
       "      <td>NaN</td>\n",
       "    </tr>\n",
       "    <tr>\n",
       "      <th>2</th>\n",
       "      <td>NaN</td>\n",
       "      <td>17.0</td>\n",
       "      <td>18</td>\n",
       "      <td>NaN</td>\n",
       "    </tr>\n",
       "  </tbody>\n",
       "</table>\n",
       "</div>"
      ],
      "text/plain": [
       "      A     B   C   D\n",
       "0  10.0  14.0  12 NaN\n",
       "1  13.0  14.0  15 NaN\n",
       "2   NaN  17.0  18 NaN"
      ]
     },
     "execution_count": 46,
     "metadata": {},
     "output_type": "execute_result"
    }
   ],
   "source": [
    "# Backward-fill to propagate previous value forward\n",
    "df.fillna(axis='rows', method='bfill')"
   ]
  },
  {
   "cell_type": "markdown",
   "metadata": {},
   "source": [
    "## Combining Datasets\n",
    "\n",
    "### Concat and Append\n",
    "\n",
    "Concatenating, appending, merging or joining data sets is a deep (and some say 'dull') topic. Anyone who had the pleasure of learning relational algebra can tell. Pandas has four functions that will do the job for you and of which you should have heard:\n",
    "\n",
    "* `pd.append()`\n",
    "* `pd.concat()`\n",
    "* `pd.merge()`\n",
    "* `pd.join()`\n",
    "\n",
    "From time to time one of these functions will appear in this course. However, we will not properly discuss these functions in any detail. Unfortunately, doing it would consume too much time and would be beyond the purpose of this course. Nonetheless, I recommend to spend 15min in learning the basics by reading through Pandas' excellent introduction which can be found [here](https://pandas.pydata.org/pandas-docs/stable/merging.html). It is kept fairly brief and with all the examples and visual representations, the functions are explained in a much better way than this tutorial could ever do. \n",
    "\n",
    "Another valuable resource is of course again Jake VanderPlas' Data Science Handbook. You might find his explanations and examples very helpful and since it's freely available on GitHub, why not give it a shot. [Here's the link (Combining Datasets)](https://github.com/jakevdp/PythonDataScienceHandbook). "
   ]
  },
  {
   "cell_type": "markdown",
   "metadata": {},
   "source": [
    "## Pandas Time Series\n",
    "\n",
    "### Timestamps and Periods\n",
    "\n",
    "Pandas was developed with a focus on financial data. It thus does not surprise that Pandas has incorporated an easy and reliable way of handling datetime formats. Pandas handling of date/time objects improves on the existing package `datetime` and NumPy's `numpy.datetime64` object and provides the necessary tools to efficiently handle datetimes. \n",
    "\n",
    "The most basic kind of time series object in Pandas are `pd.Series` or `pd.DataFrame` objects indexed with `timestamps`. "
   ]
  },
  {
   "cell_type": "code",
   "execution_count": 47,
   "metadata": {
    "scrolled": true
   },
   "outputs": [
    {
     "name": "stdout",
     "output_type": "stream",
     "text": [
      "2017-12-31 00:00:00\n",
      "2017-12-31 13:08:00\n",
      "2018-03-31 17:32:15\n",
      "2018-03-31 00:00:00\n",
      "2000-07-01 00:00:00\n",
      "1992-08-01 00:00:00\n"
     ]
    }
   ],
   "source": [
    "# Simple Time Stamps\n",
    "print(pd.Timestamp(day=31, year=2017, month=12))\n",
    "print(pd.Timestamp(2017, 12, 31, 13, 8))\n",
    "print(pd.Timestamp('31.03.2018 17:32:15'))\n",
    "print(pd.Timestamp('2018-03-31'))\n",
    "print(pd.Timestamp('2000-07'))\n",
    "print(pd.to_datetime(\"1st of August, 1992\"))"
   ]
  },
  {
   "cell_type": "markdown",
   "metadata": {},
   "source": [
    "Notice that `pd.Timestamp('04.01.2018')` would be interpreted as 1st of April 2018 - or in general terms 'mm.dd.yyyy'."
   ]
  },
  {
   "cell_type": "markdown",
   "metadata": {},
   "source": [
    "Besides `pd.Timestamp` Pandas does also have a function for periods: `pd.Period`. The difference is subtle: The former is for a specific point in time, the latter represents a bounded interval. "
   ]
  },
  {
   "cell_type": "code",
   "execution_count": 48,
   "metadata": {},
   "outputs": [
    {
     "data": {
      "text/plain": [
       "Period('2017Q3', 'Q-DEC')"
      ]
     },
     "execution_count": 48,
     "metadata": {},
     "output_type": "execute_result"
    }
   ],
   "source": [
    "# Time Periods\n",
    "Q3 = pd.Period('2017-09', freq='Q')\n",
    "Q3"
   ]
  },
  {
   "cell_type": "code",
   "execution_count": 49,
   "metadata": {},
   "outputs": [
    {
     "data": {
      "text/plain": [
       "Period('2017-09', 'M')"
      ]
     },
     "execution_count": 49,
     "metadata": {},
     "output_type": "execute_result"
    }
   ],
   "source": [
    "M9 = pd.Period('2017-09', freq='M')\n",
    "M9"
   ]
  },
  {
   "cell_type": "markdown",
   "metadata": {},
   "source": [
    "The `pd.Period` function has specific properties such as `start_time` and `end_time`."
   ]
  },
  {
   "cell_type": "code",
   "execution_count": 50,
   "metadata": {},
   "outputs": [
    {
     "data": {
      "text/plain": [
       "Timestamp('2017-07-01 00:00:00')"
      ]
     },
     "execution_count": 50,
     "metadata": {},
     "output_type": "execute_result"
    }
   ],
   "source": [
    "Q3.start_time"
   ]
  },
  {
   "cell_type": "code",
   "execution_count": 51,
   "metadata": {},
   "outputs": [
    {
     "data": {
      "text/plain": [
       "Timestamp('2017-09-30 23:59:59.999999999')"
      ]
     },
     "execution_count": 51,
     "metadata": {},
     "output_type": "execute_result"
    }
   ],
   "source": [
    "M9.end_time"
   ]
  },
  {
   "cell_type": "markdown",
   "metadata": {},
   "source": [
    "### Date Ranges\n",
    "\n",
    "The command `pd.date_range` generates an index with indicated length according to a particular frequency."
   ]
  },
  {
   "cell_type": "code",
   "execution_count": 52,
   "metadata": {},
   "outputs": [
    {
     "data": {
      "text/plain": [
       "DatetimeIndex(['2018-01-04', '2018-01-05', '2018-01-06', '2018-01-07',\n",
       "               '2018-01-08'],\n",
       "              dtype='datetime64[ns]', freq='D')"
      ]
     },
     "execution_count": 52,
     "metadata": {},
     "output_type": "execute_result"
    }
   ],
   "source": [
    "pd.date_range(start='20180104', end='20180108')"
   ]
  },
  {
   "cell_type": "markdown",
   "metadata": {},
   "source": [
    "You could also pass just a start or end date combined with a number of periods to generate."
   ]
  },
  {
   "cell_type": "code",
   "execution_count": 53,
   "metadata": {},
   "outputs": [
    {
     "data": {
      "text/plain": [
       "DatetimeIndex(['2017-12-17', '2017-12-18'], dtype='datetime64[ns]', freq='D')"
      ]
     },
     "execution_count": 53,
     "metadata": {},
     "output_type": "execute_result"
    }
   ],
   "source": [
    "pd.date_range(start='2017-12-17', periods=2)"
   ]
  },
  {
   "cell_type": "code",
   "execution_count": 54,
   "metadata": {},
   "outputs": [
    {
     "data": {
      "text/plain": [
       "DatetimeIndex(['2017-09-27', '2017-09-28', '2017-09-29', '2017-09-30'], dtype='datetime64[ns]', freq='D')"
      ]
     },
     "execution_count": 54,
     "metadata": {},
     "output_type": "execute_result"
    }
   ],
   "source": [
    "pd.date_range(end='2017-09-30', periods=4)"
   ]
  },
  {
   "cell_type": "markdown",
   "metadata": {},
   "source": [
    "As became obvious from above examples, `pd.date_range` by default generates daily timestamps. If you wish another frequency - such as monthly, annual, etc. - you add the `freq='M'` argument to your command."
   ]
  },
  {
   "cell_type": "code",
   "execution_count": 55,
   "metadata": {},
   "outputs": [
    {
     "data": {
      "text/plain": [
       "DatetimeIndex(['2017-01-02', '2017-04-03', '2017-07-03', '2017-10-02'], dtype='datetime64[ns]', freq='BQS-JAN')"
      ]
     },
     "execution_count": 55,
     "metadata": {},
     "output_type": "execute_result"
    }
   ],
   "source": [
    "pd.date_range(end='2017-12-31', periods=4, freq='BQS')"
   ]
  },
  {
   "cell_type": "markdown",
   "metadata": {},
   "source": [
    "Here's an overview of Pandas frequency codes:\n",
    "\n",
    "| **Code** | **Description**        || **Code**  | ** Description** |\n",
    "|:--------:|------------------------||:---------:|------------------| \n",
    "| D        | Calendar day           ||  A        | Year end |\n",
    "| B        | Business day           ||  AS       | Year start |\n",
    "| W        | Weekly                 ||  BA       | Business year end |\n",
    "| M        | Month end              ||  BAS      | Business year start |\n",
    "| MS       | Month start            ||  H        | Hours |\n",
    "| BM       | Business month end     ||  BH       | Business hours |\n",
    "| BMS      | Business month start   ||  T        | Minutes |\n",
    "| Q        | Quarter end            ||  S        | Seconds |\n",
    "| QS       | Quarter start          ||  L        | Miliseconds |\n",
    "| BQ       | Business quarter end   ||  U        | Microseconds |\n",
    "| BQS      | Business quarter start ||  N        | Nanoseconds |\n",
    "\n",
    "\n",
    "\n",
    "\n",
    "\n",
    "\n",
    "\n",
    "\n",
    "\n",
    "\n",
    "\n",
    "\n",
    "\n"
   ]
  },
  {
   "cell_type": "markdown",
   "metadata": {},
   "source": [
    "Beyond the above frequencies, Pandas has one more useful further option: \"week of month\". This enables you to\n",
    "get dates like the third Friday of each month. Anyone dealing with options will recoginze these dates as the standard dates of monthly expiry."
   ]
  },
  {
   "cell_type": "code",
   "execution_count": 56,
   "metadata": {},
   "outputs": [
    {
     "data": {
      "text/plain": [
       "DatetimeIndex(['2018-01-19', '2018-02-16', '2018-03-16', '2018-04-20',\n",
       "               '2018-05-18', '2018-06-15', '2018-07-20', '2018-08-17'],\n",
       "              dtype='datetime64[ns]', freq='WOM-3FRI')"
      ]
     },
     "execution_count": 56,
     "metadata": {},
     "output_type": "execute_result"
    }
   ],
   "source": [
    "# Third Friday of each month between Jan-18 and Sep-18\n",
    "pd.date_range('2018-01-01', '2018-09-01', freq='WOM-3FRI')"
   ]
  },
  {
   "cell_type": "markdown",
   "metadata": {},
   "source": [
    "### Indexing, Selection, Subsetting of Time Series\n",
    "\n",
    "Both `Timestamp` and `Period` can be used as index. Lists of `Timestamp` and `Period` are automatically coerced to `DatetimeIndex` and `PeriodIndex`, respectively. This is convenient as it allows us to index and slice the data object as if it were a regular `Series` or `DataFrame`. "
   ]
  },
  {
   "cell_type": "code",
   "execution_count": 57,
   "metadata": {},
   "outputs": [
    {
     "name": "stdout",
     "output_type": "stream",
     "text": [
      "2015-01-01   -2.073882\n",
      "2015-01-02   -0.161588\n",
      "2015-01-03   -0.085147\n",
      "2015-01-04   -0.659354\n",
      "2015-01-05    0.824481\n",
      "Freq: D, dtype: float64 \n",
      "\n",
      "2017-12-27   -0.389967\n",
      "2017-12-28    0.255279\n",
      "2017-12-29   -0.609727\n",
      "2017-12-30    1.379011\n",
      "2017-12-31   -1.081839\n",
      "Freq: D, dtype: float64\n"
     ]
    }
   ],
   "source": [
    "dates = pd.date_range(start='2015-01-01', end='2017-12-31', freq='D')\n",
    "ts = pd.Series(np.random.randn(len(dates)), index=dates)\n",
    "print(ts.head(), '\\n')\n",
    "print(ts.tail())"
   ]
  },
  {
   "cell_type": "markdown",
   "metadata": {},
   "source": [
    "To select a subset, we can apply the same logic as shown before."
   ]
  },
  {
   "cell_type": "code",
   "execution_count": 58,
   "metadata": {},
   "outputs": [
    {
     "data": {
      "text/plain": [
       "2016-02-28   -0.463114\n",
       "2016-02-29   -1.232976\n",
       "2016-03-01    0.881544\n",
       "Freq: D, dtype: float64"
      ]
     },
     "execution_count": 58,
     "metadata": {},
     "output_type": "execute_result"
    }
   ],
   "source": [
    "# Fancy indexing\n",
    "rng = pd.date_range(start='2016-02-28', end='2016-03-01')\n",
    "ts[rng]"
   ]
  },
  {
   "cell_type": "code",
   "execution_count": 59,
   "metadata": {},
   "outputs": [
    {
     "name": "stdout",
     "output_type": "stream",
     "text": [
      "0.242701053547\n",
      "0.453110546275\n"
     ]
    }
   ],
   "source": [
    "# Indexing by string\n",
    "print(ts['20151231'])\n",
    "print(ts['2017-06-30'])"
   ]
  },
  {
   "cell_type": "markdown",
   "metadata": {
    "collapsed": true
   },
   "source": [
    "Similarly, you could choose a full year or a specific month with `ts['2015']` or `ts['2016-05']`. "
   ]
  },
  {
   "cell_type": "code",
   "execution_count": 60,
   "metadata": {
    "scrolled": true
   },
   "outputs": [
    {
     "data": {
      "text/plain": [
       "2017-12-25   -0.945551\n",
       "2017-12-26    0.311025\n",
       "2017-12-27   -0.389967\n",
       "2017-12-28    0.255279\n",
       "2017-12-29   -0.609727\n",
       "2017-12-30    1.379011\n",
       "Freq: D, dtype: float64"
      ]
     },
     "execution_count": 60,
     "metadata": {},
     "output_type": "execute_result"
    }
   ],
   "source": [
    "# Slicing\n",
    "ts['2017-12-25':'2017-12-30']"
   ]
  },
  {
   "cell_type": "markdown",
   "metadata": {},
   "source": [
    "## Importing Data\n",
    "\n",
    "### File Path\n",
    "\n",
    "For most of this course we will use data stored in csv format which we'll have to import. For this we can make use of Panda's `read_csv()` function. If you check the function's help page, you might be overwhelmed by all the possible parameter. Below follows an example which loads Swiss stock market data for the four companies Schindler, ABB, Georg Fischer, and Sulzer from a csv. To load it we necessarily need to specify the file and its path."
   ]
  },
  {
   "cell_type": "markdown",
   "metadata": {},
   "source": [
    "Pandas will start looking from where your current python file or notebook is located. Python's working directory is set to where your current `.py` or `.ipynb` file is stored. If you have stored your file in a subfolder, one can simply preced the file name with the path: `pd.read_csv('dataSubFolder/anotherSubFolder/data.csv)`. Given your file is located in another folder, one could either use an explicit path as in `pd.read_csv('C:/Users/Username/Path/To/Your/Folder/data.csv)` or you can move from your current directory to where your data is located with '..' For example `pd.read_csv('../../../dataFolder/data.csv')` will go 3 levels up and then into a dataFolder. If you wish to check the path of your current working directory, use `!cd` (Windows) or `!pwd` (Mac) to find out."
   ]
  },
  {
   "cell_type": "code",
   "execution_count": 61,
   "metadata": {},
   "outputs": [],
   "source": [
    "# Print working directory (uncomment to run)\n",
    "#!cd"
   ]
  },
  {
   "cell_type": "code",
   "execution_count": 62,
   "metadata": {
    "scrolled": true
   },
   "outputs": [
    {
     "data": {
      "text/html": [
       "<div>\n",
       "<style>\n",
       "    .dataframe thead tr:only-child th {\n",
       "        text-align: right;\n",
       "    }\n",
       "\n",
       "    .dataframe thead th {\n",
       "        text-align: left;\n",
       "    }\n",
       "\n",
       "    .dataframe tbody tr th {\n",
       "        vertical-align: top;\n",
       "    }\n",
       "</style>\n",
       "<table border=\"1\" class=\"dataframe\">\n",
       "  <thead>\n",
       "    <tr style=\"text-align: right;\">\n",
       "      <th></th>\n",
       "      <th>Date</th>\n",
       "      <th>Ticker</th>\n",
       "      <th>Open</th>\n",
       "      <th>Close</th>\n",
       "      <th>High</th>\n",
       "      <th>Low</th>\n",
       "      <th>Volume</th>\n",
       "    </tr>\n",
       "  </thead>\n",
       "  <tbody>\n",
       "    <tr>\n",
       "      <th>0</th>\n",
       "      <td>21.07.2017</td>\n",
       "      <td>SCHN</td>\n",
       "      <td>203.2</td>\n",
       "      <td>199.5</td>\n",
       "      <td>203.3</td>\n",
       "      <td>199.2</td>\n",
       "      <td>16'343</td>\n",
       "    </tr>\n",
       "    <tr>\n",
       "      <th>1</th>\n",
       "      <td>20.07.2017</td>\n",
       "      <td>SCHN</td>\n",
       "      <td>202.1</td>\n",
       "      <td>203</td>\n",
       "      <td>203.9</td>\n",
       "      <td>201.7</td>\n",
       "      <td>18'967</td>\n",
       "    </tr>\n",
       "    <tr>\n",
       "      <th>2</th>\n",
       "      <td>19.07.2017</td>\n",
       "      <td>SCHN</td>\n",
       "      <td>202.8</td>\n",
       "      <td>200.9</td>\n",
       "      <td>203</td>\n",
       "      <td>200.5</td>\n",
       "      <td>12'813</td>\n",
       "    </tr>\n",
       "  </tbody>\n",
       "</table>\n",
       "</div>"
      ],
      "text/plain": [
       "         Date Ticker   Open  Close   High    Low  Volume\n",
       "0  21.07.2017   SCHN  203.2  199.5  203.3  199.2  16'343\n",
       "1  20.07.2017   SCHN  202.1    203  203.9  201.7  18'967\n",
       "2  19.07.2017   SCHN  202.8  200.9    203  200.5  12'813"
      ]
     },
     "execution_count": 62,
     "metadata": {},
     "output_type": "execute_result"
    }
   ],
   "source": [
    "pd.read_csv('Data/ShareData.csv', sep=',').head(3)"
   ]
  },
  {
   "cell_type": "markdown",
   "metadata": {},
   "source": [
    "A few notes: \n",
    "* CSV stands for comma separated values. The majority of csv-files indeed use commas to separate the values. Sometimes there are however other separators used such as semicolons or (worse) tabs. If that is the case, set argument e.g. `sep=';'` as the separator.\n",
    "* To make the function parse the 'Date' column as dates we have to add `parse_dates=['Dates']`.\n",
    "* The dates in the csv have format 'dd.mm.yyy'. Pandas default is 'mm.dd.yyyy'. Thus we need to specify that the dates have days first, then months. For this we specify `dayfirst=True`.\n",
    "* 'Date' and 'Ticker' uniqueliy identify each row. Therefore we wish to set these two columns as index. This is done by adding `index_col=['NameOfColumn']`.\n",
    "* Due to the thousands separator sign, entries are not loaded as actual numbers but strings. This can be corrected by specifying the `thousands=\"'\"` parameter. \n",
    "* The above import shows that Pandas has taken the file's first row as the headers. Alternatively one could set `header=None` or add the argument `skiprows=n` where `n` defines the number of rows (from top) that should be skipped."
   ]
  },
  {
   "cell_type": "code",
   "execution_count": 63,
   "metadata": {},
   "outputs": [
    {
     "data": {
      "text/html": [
       "<div>\n",
       "<style>\n",
       "    .dataframe thead tr:only-child th {\n",
       "        text-align: right;\n",
       "    }\n",
       "\n",
       "    .dataframe thead th {\n",
       "        text-align: left;\n",
       "    }\n",
       "\n",
       "    .dataframe tbody tr th {\n",
       "        vertical-align: top;\n",
       "    }\n",
       "</style>\n",
       "<table border=\"1\" class=\"dataframe\">\n",
       "  <thead>\n",
       "    <tr style=\"text-align: right;\">\n",
       "      <th></th>\n",
       "      <th></th>\n",
       "      <th>Open</th>\n",
       "      <th>Close</th>\n",
       "      <th>High</th>\n",
       "      <th>Low</th>\n",
       "      <th>Volume</th>\n",
       "    </tr>\n",
       "    <tr>\n",
       "      <th>Date</th>\n",
       "      <th>Ticker</th>\n",
       "      <th></th>\n",
       "      <th></th>\n",
       "      <th></th>\n",
       "      <th></th>\n",
       "      <th></th>\n",
       "    </tr>\n",
       "  </thead>\n",
       "  <tbody>\n",
       "    <tr>\n",
       "      <th>2017-07-21</th>\n",
       "      <th>SCHN</th>\n",
       "      <td>203.2</td>\n",
       "      <td>199.5</td>\n",
       "      <td>203.3</td>\n",
       "      <td>199.2</td>\n",
       "      <td>16343</td>\n",
       "    </tr>\n",
       "    <tr>\n",
       "      <th>2017-07-20</th>\n",
       "      <th>SCHN</th>\n",
       "      <td>202.1</td>\n",
       "      <td>203.0</td>\n",
       "      <td>203.9</td>\n",
       "      <td>201.7</td>\n",
       "      <td>18967</td>\n",
       "    </tr>\n",
       "    <tr>\n",
       "      <th>2017-07-19</th>\n",
       "      <th>SCHN</th>\n",
       "      <td>202.8</td>\n",
       "      <td>200.9</td>\n",
       "      <td>203.0</td>\n",
       "      <td>200.5</td>\n",
       "      <td>12813</td>\n",
       "    </tr>\n",
       "  </tbody>\n",
       "</table>\n",
       "</div>"
      ],
      "text/plain": [
       "                    Open  Close   High    Low  Volume\n",
       "Date       Ticker                                    \n",
       "2017-07-21 SCHN    203.2  199.5  203.3  199.2   16343\n",
       "2017-07-20 SCHN    202.1  203.0  203.9  201.7   18967\n",
       "2017-07-19 SCHN    202.8  200.9  203.0  200.5   12813"
      ]
     },
     "execution_count": 63,
     "metadata": {},
     "output_type": "execute_result"
    }
   ],
   "source": [
    "df = pd.read_csv('Data/ShareData.csv', sep=',',\n",
    "                 parse_dates=['Date'], dayfirst=True, \n",
    "                 index_col=['Date', 'Ticker'], thousands=\"'\")\n",
    "\n",
    "# Print first 3 data rows\n",
    "df.head(3)"
   ]
  },
  {
   "cell_type": "markdown",
   "metadata": {},
   "source": [
    "### Importing from Link\n",
    "\n",
    "When data is updated on a regular basis, it is certainly more convenient to directly load a csv from an existing (static) url than to manually download the file time and time again before running a script. Since Pandas version 0.19.2, `pd.read_csv()` is able to handle that. A simple example is provided below, where the csv file with historical closing prices of the 30 day volatility index on the SMI (VSMI) is downloaded."
   ]
  },
  {
   "cell_type": "code",
   "execution_count": 64,
   "metadata": {},
   "outputs": [
    {
     "data": {
      "text/html": [
       "<div>\n",
       "<style>\n",
       "    .dataframe thead tr:only-child th {\n",
       "        text-align: right;\n",
       "    }\n",
       "\n",
       "    .dataframe thead th {\n",
       "        text-align: left;\n",
       "    }\n",
       "\n",
       "    .dataframe tbody tr th {\n",
       "        vertical-align: top;\n",
       "    }\n",
       "</style>\n",
       "<table border=\"1\" class=\"dataframe\">\n",
       "  <thead>\n",
       "    <tr style=\"text-align: right;\">\n",
       "      <th></th>\n",
       "      <th>ISIN</th>\n",
       "      <th>Indexvalue</th>\n",
       "    </tr>\n",
       "    <tr>\n",
       "      <th>Date</th>\n",
       "      <th></th>\n",
       "      <th></th>\n",
       "    </tr>\n",
       "  </thead>\n",
       "  <tbody>\n",
       "    <tr>\n",
       "      <th>2017-12-28</th>\n",
       "      <td>CH0019900841</td>\n",
       "      <td>11.5260</td>\n",
       "    </tr>\n",
       "    <tr>\n",
       "      <th>2017-12-29</th>\n",
       "      <td>CH0019900841</td>\n",
       "      <td>11.7900</td>\n",
       "    </tr>\n",
       "    <tr>\n",
       "      <th>2018-01-03</th>\n",
       "      <td>CH0019900841</td>\n",
       "      <td>10.7110</td>\n",
       "    </tr>\n",
       "    <tr>\n",
       "      <th>2018-01-04</th>\n",
       "      <td>CH0019900841</td>\n",
       "      <td>10.3604</td>\n",
       "    </tr>\n",
       "    <tr>\n",
       "      <th>2018-01-05</th>\n",
       "      <td>CH0019900841</td>\n",
       "      <td>10.1362</td>\n",
       "    </tr>\n",
       "  </tbody>\n",
       "</table>\n",
       "</div>"
      ],
      "text/plain": [
       "                    ISIN  Indexvalue\n",
       "Date                                \n",
       "2017-12-28  CH0019900841     11.5260\n",
       "2017-12-29  CH0019900841     11.7900\n",
       "2018-01-03  CH0019900841     10.7110\n",
       "2018-01-04  CH0019900841     10.3604\n",
       "2018-01-05  CH0019900841     10.1362"
      ]
     },
     "execution_count": 64,
     "metadata": {},
     "output_type": "execute_result"
    }
   ],
   "source": [
    "url = 'https://www.six-swiss-exchange.com/downloads/indexdata/h_vsmi_30.csv'\n",
    "data = pd.read_csv(url, sep=';', parse_dates=['Date'], \n",
    "                   dayfirst=True, index_col='Date')\n",
    "data.tail()"
   ]
  },
  {
   "cell_type": "markdown",
   "metadata": {},
   "source": [
    "For further details on how to load/import data to Python check [Pandas' tutorial](https://pandas.pydata.org/pandas-docs/stable/tutorials.html) on the topic."
   ]
  },
  {
   "cell_type": "markdown",
   "metadata": {},
   "source": [
    "## Example: Working with Stock Data\n",
    "\n",
    "In what follows it is shown how `DataFrames` are helpful in analyzing data. For that we will make use of the previously loaded stock data. The functions run below will not be introduced individually. But based on the annotated code, the comments in class and the output, the functions should easily be understood. "
   ]
  },
  {
   "cell_type": "code",
   "execution_count": 65,
   "metadata": {
    "collapsed": true
   },
   "outputs": [],
   "source": [
    "# Sort df for dates (ascending)\n",
    "df = df.sort_index(ascending=True)"
   ]
  },
  {
   "cell_type": "markdown",
   "metadata": {},
   "source": [
    "Let us say we want to have a statistical summary of the closing prices per share. We can use the `.groupby()` method to first split the values, select the closing prices, and then apply the `.describe()` method to have the desired summary."
   ]
  },
  {
   "cell_type": "code",
   "execution_count": 66,
   "metadata": {
    "scrolled": false
   },
   "outputs": [
    {
     "data": {
      "text/html": [
       "<div>\n",
       "<style>\n",
       "    .dataframe thead tr:only-child th {\n",
       "        text-align: right;\n",
       "    }\n",
       "\n",
       "    .dataframe thead th {\n",
       "        text-align: left;\n",
       "    }\n",
       "\n",
       "    .dataframe tbody tr th {\n",
       "        vertical-align: top;\n",
       "    }\n",
       "</style>\n",
       "<table border=\"1\" class=\"dataframe\">\n",
       "  <thead>\n",
       "    <tr style=\"text-align: right;\">\n",
       "      <th></th>\n",
       "      <th>count</th>\n",
       "      <th>mean</th>\n",
       "      <th>std</th>\n",
       "      <th>min</th>\n",
       "      <th>25%</th>\n",
       "      <th>50%</th>\n",
       "      <th>75%</th>\n",
       "      <th>max</th>\n",
       "    </tr>\n",
       "    <tr>\n",
       "      <th>Ticker</th>\n",
       "      <th></th>\n",
       "      <th></th>\n",
       "      <th></th>\n",
       "      <th></th>\n",
       "      <th></th>\n",
       "      <th></th>\n",
       "      <th></th>\n",
       "      <th></th>\n",
       "    </tr>\n",
       "  </thead>\n",
       "  <tbody>\n",
       "    <tr>\n",
       "      <th>ABBN</th>\n",
       "      <td>1392.0</td>\n",
       "      <td>19.547371</td>\n",
       "      <td>2.247741</td>\n",
       "      <td>14.14</td>\n",
       "      <td>17.9100</td>\n",
       "      <td>19.640</td>\n",
       "      <td>20.930</td>\n",
       "      <td>24.83</td>\n",
       "    </tr>\n",
       "    <tr>\n",
       "      <th>FIN</th>\n",
       "      <td>1392.0</td>\n",
       "      <td>607.095323</td>\n",
       "      <td>181.234939</td>\n",
       "      <td>296.52</td>\n",
       "      <td>424.1075</td>\n",
       "      <td>617.435</td>\n",
       "      <td>730.500</td>\n",
       "      <td>1107.00</td>\n",
       "    </tr>\n",
       "    <tr>\n",
       "      <th>SCHN</th>\n",
       "      <td>1392.0</td>\n",
       "      <td>147.328376</td>\n",
       "      <td>26.840857</td>\n",
       "      <td>104.60</td>\n",
       "      <td>129.3000</td>\n",
       "      <td>136.550</td>\n",
       "      <td>170.925</td>\n",
       "      <td>207.00</td>\n",
       "    </tr>\n",
       "    <tr>\n",
       "      <th>SUN</th>\n",
       "      <td>1392.0</td>\n",
       "      <td>118.224210</td>\n",
       "      <td>20.669572</td>\n",
       "      <td>76.30</td>\n",
       "      <td>102.0500</td>\n",
       "      <td>114.200</td>\n",
       "      <td>135.525</td>\n",
       "      <td>169.90</td>\n",
       "    </tr>\n",
       "  </tbody>\n",
       "</table>\n",
       "</div>"
      ],
      "text/plain": [
       "         count        mean         std     min       25%      50%      75%  \\\n",
       "Ticker                                                                       \n",
       "ABBN    1392.0   19.547371    2.247741   14.14   17.9100   19.640   20.930   \n",
       "FIN     1392.0  607.095323  181.234939  296.52  424.1075  617.435  730.500   \n",
       "SCHN    1392.0  147.328376   26.840857  104.60  129.3000  136.550  170.925   \n",
       "SUN     1392.0  118.224210   20.669572   76.30  102.0500  114.200  135.525   \n",
       "\n",
       "            max  \n",
       "Ticker           \n",
       "ABBN      24.83  \n",
       "FIN     1107.00  \n",
       "SCHN     207.00  \n",
       "SUN      169.90  "
      ]
     },
     "execution_count": 66,
     "metadata": {},
     "output_type": "execute_result"
    }
   ],
   "source": [
    "df.groupby(['Ticker'])['Close'].describe()"
   ]
  },
  {
   "cell_type": "code",
   "execution_count": 67,
   "metadata": {
    "scrolled": false
   },
   "outputs": [
    {
     "data": {
      "text/plain": [
       "Open      0\n",
       "Close     0\n",
       "High      0\n",
       "Low       0\n",
       "Volume    0\n",
       "Return    4\n",
       "dtype: int64"
      ]
     },
     "execution_count": 67,
     "metadata": {},
     "output_type": "execute_result"
    }
   ],
   "source": [
    "# Add a column with the returns \n",
    "shft = len(df.index.levels[1])\n",
    "df['Return'] = np.log(df['Close'] / df['Close'].shift(shft))\n",
    "\n",
    "# Check for NA values\n",
    "df.isnull().sum()"
   ]
  },
  {
   "cell_type": "markdown",
   "metadata": {},
   "source": [
    "Let us say we wish to investigate ABB's stock a bit further. For this we need to slice the multiindex objcet `df`. Slicing multiindex objects is a bit more tricky than a simple data frame with only a single index. Below is an example how you slice the `DataFrame` based on a date range (here we take all dates) and on the ticker 'ABBN'. For further examples on how to slice multiindex objects, see [here](http://pandas.pydata.org/pandas-docs/stable/advanced.html#using-slicers)."
   ]
  },
  {
   "cell_type": "code",
   "execution_count": 68,
   "metadata": {
    "collapsed": true
   },
   "outputs": [],
   "source": [
    "# Assign ABB data to variable abb\n",
    "idx = pd.IndexSlice\n",
    "abb = df.loc[idx[:, ['ABBN']], idx[:]].copy()"
   ]
  },
  {
   "cell_type": "code",
   "execution_count": 69,
   "metadata": {
    "collapsed": true
   },
   "outputs": [],
   "source": [
    "# Add column indicating the quarter (but excl. year)\n",
    "abb['Quarter'] = pd.PeriodIndex(abb.index.levels[0], freq='Q').strftime('Q%q')\n",
    "\n",
    "# Add rolling 252d mean\n",
    "abb['Rol252dMean'] = abb['Close'].rolling(window=252).mean()\n",
    "\n",
    "# Add (annualized) historical rolling standard deviation\n",
    "abb['Rol252dVol'] = abb['Return'].rolling(window=252).std() * np.sqrt(252)"
   ]
  },
  {
   "cell_type": "code",
   "execution_count": 70,
   "metadata": {
    "collapsed": true
   },
   "outputs": [],
   "source": [
    "# Drop Ticker Index as it is all ABB data now\n",
    "abb = abb.reset_index(level=1, drop=True)"
   ]
  },
  {
   "cell_type": "code",
   "execution_count": 71,
   "metadata": {},
   "outputs": [
    {
     "data": {
      "text/html": [
       "<div>\n",
       "<style>\n",
       "    .dataframe thead tr:only-child th {\n",
       "        text-align: right;\n",
       "    }\n",
       "\n",
       "    .dataframe thead th {\n",
       "        text-align: left;\n",
       "    }\n",
       "\n",
       "    .dataframe tbody tr th {\n",
       "        vertical-align: top;\n",
       "    }\n",
       "</style>\n",
       "<table border=\"1\" class=\"dataframe\">\n",
       "  <thead>\n",
       "    <tr style=\"text-align: right;\">\n",
       "      <th></th>\n",
       "      <th>Open</th>\n",
       "      <th>Close</th>\n",
       "      <th>High</th>\n",
       "      <th>Low</th>\n",
       "      <th>Volume</th>\n",
       "      <th>Return</th>\n",
       "      <th>Quarter</th>\n",
       "      <th>Rol252dMean</th>\n",
       "      <th>Rol252dVol</th>\n",
       "    </tr>\n",
       "    <tr>\n",
       "      <th>Date</th>\n",
       "      <th></th>\n",
       "      <th></th>\n",
       "      <th></th>\n",
       "      <th></th>\n",
       "      <th></th>\n",
       "      <th></th>\n",
       "      <th></th>\n",
       "      <th></th>\n",
       "      <th></th>\n",
       "    </tr>\n",
       "  </thead>\n",
       "  <tbody>\n",
       "    <tr>\n",
       "      <th>2017-07-19</th>\n",
       "      <td>23.86</td>\n",
       "      <td>23.90</td>\n",
       "      <td>24.02</td>\n",
       "      <td>23.78</td>\n",
       "      <td>5111343</td>\n",
       "      <td>0.005034</td>\n",
       "      <td>Q3</td>\n",
       "      <td>22.531111</td>\n",
       "      <td>0.152190</td>\n",
       "    </tr>\n",
       "    <tr>\n",
       "      <th>2017-07-20</th>\n",
       "      <td>23.36</td>\n",
       "      <td>23.24</td>\n",
       "      <td>23.41</td>\n",
       "      <td>23.05</td>\n",
       "      <td>12044012</td>\n",
       "      <td>-0.028004</td>\n",
       "      <td>Q3</td>\n",
       "      <td>22.541905</td>\n",
       "      <td>0.153347</td>\n",
       "    </tr>\n",
       "    <tr>\n",
       "      <th>2017-07-21</th>\n",
       "      <td>23.01</td>\n",
       "      <td>22.54</td>\n",
       "      <td>23.06</td>\n",
       "      <td>22.44</td>\n",
       "      <td>12821603</td>\n",
       "      <td>-0.030583</td>\n",
       "      <td>Q3</td>\n",
       "      <td>22.549683</td>\n",
       "      <td>0.156443</td>\n",
       "    </tr>\n",
       "  </tbody>\n",
       "</table>\n",
       "</div>"
      ],
      "text/plain": [
       "             Open  Close   High    Low    Volume    Return Quarter  \\\n",
       "Date                                                                 \n",
       "2017-07-19  23.86  23.90  24.02  23.78   5111343  0.005034      Q3   \n",
       "2017-07-20  23.36  23.24  23.41  23.05  12044012 -0.028004      Q3   \n",
       "2017-07-21  23.01  22.54  23.06  22.44  12821603 -0.030583      Q3   \n",
       "\n",
       "            Rol252dMean  Rol252dVol  \n",
       "Date                                 \n",
       "2017-07-19    22.531111    0.152190  \n",
       "2017-07-20    22.541905    0.153347  \n",
       "2017-07-21    22.549683    0.156443  "
      ]
     },
     "execution_count": 71,
     "metadata": {},
     "output_type": "execute_result"
    }
   ],
   "source": [
    "abb.tail(3)"
   ]
  },
  {
   "cell_type": "markdown",
   "metadata": {},
   "source": [
    "Having the data set up helps run further analysis. Note that plots will be discussed in a separate chapter and thus we will not get into it here."
   ]
  },
  {
   "cell_type": "code",
   "execution_count": 72,
   "metadata": {},
   "outputs": [
    {
     "name": "stderr",
     "output_type": "stream",
     "text": [
      "C:\\Anaconda\\lib\\site-packages\\statsmodels\\compat\\pandas.py:56: FutureWarning: The pandas.core.datetools module is deprecated and will be removed in a future version. Please use the pandas.tseries module instead.\n",
      "  from pandas.core import datetools\n"
     ]
    }
   ],
   "source": [
    "# Setup for plotting\n",
    "%matplotlib inline \n",
    "import matplotlib.pyplot as plt\n",
    "import seaborn as sns\n",
    "import scipy as sp\n",
    "import statsmodels.api as sm"
   ]
  },
  {
   "cell_type": "code",
   "execution_count": 73,
   "metadata": {},
   "outputs": [
    {
     "data": {
      "image/png": "[encoded data removed]",
      "text/plain": [
       "<matplotlib.figure.Figure at 0x26f46fbdfd0>"
      ]
     },
     "metadata": {},
     "output_type": "display_data"
    }
   ],
   "source": [
    "abb[['Close', 'Rol252dMean']].plot(figsize=(16, 10));"
   ]
  },
  {
   "cell_type": "code",
   "execution_count": 74,
   "metadata": {},
   "outputs": [
    {
     "data": {
      "image/png": "[encoded data removed]",
      "text/plain": [
       "<matplotlib.figure.Figure at 0x26f46cf1358>"
      ]
     },
     "metadata": {},
     "output_type": "display_data"
    }
   ],
   "source": [
    "abb[['Close', 'Rol252dVol', 'Return']].plot(subplots=True, figsize=(16, 10));"
   ]
  },
  {
   "cell_type": "markdown",
   "metadata": {
    "collapsed": true
   },
   "source": [
    "Let's check if the returns follow a normal distribution. We have many approaches to check this, both with plots and statistics. Below are some options presented. We will make use of the `stats` sublibrary of the `scipy` package."
   ]
  },
  {
   "cell_type": "code",
   "execution_count": 75,
   "metadata": {},
   "outputs": [
    {
     "name": "stdout",
     "output_type": "stream",
     "text": [
      "Skewness: -0.5934548936901249\n",
      "Kurtosis:  7.703713116158396\n"
     ]
    }
   ],
   "source": [
    "# Select returns\n",
    "rets = abb['Return'].dropna()\n",
    "\n",
    "# Calc skewness (Norm.dist: 0)\n",
    "print('Skewness:', sp.stats.skew(rets))\n",
    "\n",
    "# Calc kurtosis (Norm.dist: 3); for excess kurt set 'fisher=False'\n",
    "print('Kurtosis: ', sp.stats.kurtosis(rets, fisher=False))"
   ]
  },
  {
   "cell_type": "markdown",
   "metadata": {
    "collapsed": true
   },
   "source": [
    "Often the Shapiro Wilk test is used to check if values follow a normal distribution. The function `sp.stats.shapiro()`  tests the null hypothesis that the data was drawn from a normal distribution. **If the p-value is very small, it means it is unlikely that the data came from a normal distribution.**"
   ]
  },
  {
   "cell_type": "code",
   "execution_count": 76,
   "metadata": {},
   "outputs": [
    {
     "name": "stdout",
     "output_type": "stream",
     "text": [
      "Shapiro Wilk Test:\n",
      "Test Statistic:  0.9554131627082825\n",
      "p-Value:         3.535358628941703e-20\n"
     ]
    }
   ],
   "source": [
    "# Apply Shapiro-Wilk test\n",
    "print('Shapiro Wilk Test:')\n",
    "print('Test Statistic: ', sp.stats.shapiro(rets)[0])\n",
    "print('p-Value:        ', sp.stats.shapiro(rets)[1])"
   ]
  },
  {
   "cell_type": "code",
   "execution_count": 77,
   "metadata": {
    "scrolled": false
   },
   "outputs": [
    {
     "data": {
      "image/png": "[encoded data removed]",
      "text/plain": [
       "<matplotlib.figure.Figure at 0x26f47674828>"
      ]
     },
     "metadata": {},
     "output_type": "display_data"
    }
   ],
   "source": [
    "# Plot the log-returns with a normal distribution\n",
    "plt.hist(rets, bins=50, normed=True, label='frequency')\n",
    "plt.xlabel('log-returns')\n",
    "plt.ylabel('frequency')\n",
    "x = np.linspace(np.min(rets), np.max(rets))\n",
    "plt.plot(x, sp.stats.norm.pdf(x, loc=np.mean(rets), scale=np.std(rets)), \n",
    "         'r', lw=2.0, label='pdf')\n",
    "plt.legend();"
   ]
  },
  {
   "cell_type": "markdown",
   "metadata": {},
   "source": [
    "Or alternatively we could combine the histogram with a kernel density estimation (KDE)."
   ]
  },
  {
   "cell_type": "code",
   "execution_count": 78,
   "metadata": {},
   "outputs": [
    {
     "data": {
      "image/png": "[encoded data removed]",
      "text/plain": [
       "<matplotlib.figure.Figure at 0x26f46d91e10>"
      ]
     },
     "metadata": {},
     "output_type": "display_data"
    }
   ],
   "source": [
    "# KDE plot in Seaborn\n",
    "sns.distplot(rets);"
   ]
  },
  {
   "cell_type": "code",
   "execution_count": 79,
   "metadata": {},
   "outputs": [
    {
     "data": {
      "image/png": "[encoded data removed]",
      "text/plain": [
       "<matplotlib.figure.Figure at 0x26f47c016a0>"
      ]
     },
     "metadata": {},
     "output_type": "display_data"
    }
   ],
   "source": [
    "# qqplot\n",
    "sm.qqplot(rets, line='s');"
   ]
  },
  {
   "cell_type": "markdown",
   "metadata": {
    "collapsed": true
   },
   "source": [
    "## Further Resources\n",
    "\n",
    "In writing this notebook, many ressources were consulted. For internet ressources the links are provided within the textflow above and will therefore not be listed again. Beyond these links, the following ressources are recommended as further reading on the discussed topic:\n",
    "\n",
    "* Vanderplas, Jake, 2016, *Python Data Science Handbook* (O'Reilly Media, Sebastopol, CA).\n",
    "* Hilpisch, Yves, 2015, *Python for Finance* (O'Rilly Media, Sebastopol, CA).\n",
    "* McKinney, Wes, 20123, *Python for Data Analysis* (O'Rilly Media, Sebastopol, CA).\n",
    "* Sheppard, Kevin, 2017, Introduction to Python for Econometrics, Statistics and Data Analysis from Website https://www.kevinsheppard.com/images/b/b3/Python_introduction-2016.pdf, 07/07/2017."
   ]
  }
 ],
 "metadata": {
  "kernelspec": {
   "display_name": "Python 3",
   "language": "python",
   "name": "python3"
  },
  "language_info": {
   "codemirror_mode": {
    "name": "ipython",
    "version": 3
   },
   "file_extension": ".py",
   "mimetype": "text/x-python",
   "name": "python",
   "nbconvert_exporter": "python",
   "pygments_lexer": "ipython3",
   "version": "3.6.2"
  }
 },
 "nbformat": 4,
 "nbformat_minor": 2
}
